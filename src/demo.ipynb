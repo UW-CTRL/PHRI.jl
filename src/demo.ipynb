{
 "cells": [
  {
   "cell_type": "code",
   "execution_count": 1,
   "metadata": {},
   "outputs": [
    {
     "name": "stderr",
     "output_type": "stream",
     "text": [
      "\u001b[32m\u001b[1m  Activating\u001b[22m\u001b[39m project at `~/repos/ProactiveHRI.jl`\n"
     ]
    }
   ],
   "source": [
    "using Pkg\n",
    "Pkg.activate(\"..\")"
   ]
  },
  {
   "cell_type": "code",
   "execution_count": null,
   "metadata": {},
   "outputs": [],
   "source": [
    "# Pkg.instantiate()\n",
    "# Pkg.update()"
   ]
  },
  {
   "cell_type": "code",
   "execution_count": 61,
   "metadata": {},
   "outputs": [
    {
     "data": {
      "text/plain": [
       "reactive_velocity_obstacles (generic function with 1 method)"
      ]
     },
     "metadata": {},
     "output_type": "display_data"
    }
   ],
   "source": [
    "include(\"dynamics.jl\")\n",
    "include(\"planner.jl\")\n",
    "include(\"planner_utils.jl\")\n",
    "include(\"utils.jl\")\n",
    "include(\"plotting.jl\")\n",
    "include(\"mpc.jl\")\n",
    "include(\"sim.jl\")\n",
    "include(\"experiments.jl\")\n",
    "include(\"velocity_obstacles.jl\")"
   ]
  },
  {
   "attachments": {},
   "cell_type": "markdown",
   "metadata": {},
   "source": [
    "### Interaction planner"
   ]
  },
  {
   "cell_type": "code",
   "execution_count": null,
   "metadata": {},
   "outputs": [],
   "source": [
    "dt = 0.1\n",
    "velocity_max = 3.0\n",
    "# human = SingleIntegratorPolar2D(dt, velocity_max, [pi, 2.])\n",
    "human = Unicycle(dt, velocity_max, [1., 3.])\n",
    "\n",
    "time_horizon = 25\n",
    "# Q = zeros(Float64, human.state_dim, human.state_dim)\n",
    "# R = diagm([0.; 0.1]) \n",
    "# Qt = diagm([10.; 10.])\n",
    "Q = diagm([0.0; 0.0; 0.])\n",
    "R = diagm([1.0; 0.1]) \n",
    "Qt = diagm([10.; 10.; 0.])\n",
    "markup = 1.05\n",
    "collision_slack = 150.\n",
    "trust_region_weight = 5.\n",
    "inconvenience_weights = [1.; 1.; 0.01]\n",
    "collision_radius = 1.\n",
    "inconvenience_ratio = 0.2\n",
    "\n",
    "\n",
    "human_hps = PlannerHyperparameters(dynamics=human,\n",
    "                             time_horizon=time_horizon,\n",
    "                             Q=Q,\n",
    "                             R=R,\n",
    "                             Qt=Qt,\n",
    "                             markup=markup,\n",
    "                             collision_slack=collision_slack,\n",
    "                             trust_region_weight=trust_region_weight,\n",
    "                             inconvenience_weights=inconvenience_weights,\n",
    "                             collision_radius=collision_radius,\n",
    "                             inconvenience_ratio=inconvenience_ratio)\n",
    "\n",
    "\n",
    "\n",
    "dt = 0.1\n",
    "velocity_max = 3.0\n",
    "# robot = Unicycle(dt, velocity_max, [1.0, 2.])\n",
    "robot = DynamicallyExtendedUnicycle(dt, velocity_max, [1., 3.])\n",
    "\n",
    "# time_horizon = 45\n",
    "Q = diagm([0.0; 0.0; 0.; 0.])\n",
    "R = diagm([1.; 1.]) \n",
    "Qt = diagm([10.; 10.; 0.; 0.])\n",
    "\n",
    "robot_hps = PlannerHyperparameters(dynamics=robot,\n",
    "                             time_horizon=time_horizon,\n",
    "                             Q=Q,\n",
    "                             R=R,\n",
    "                             Qt=Qt,\n",
    "                             markup=markup,\n",
    "                             collision_slack=collision_slack,\n",
    "                             trust_region_weight=trust_region_weight,\n",
    "                             inconvenience_weights=inconvenience_weights,\n",
    "                             collision_radius=collision_radius,\n",
    "                             inconvenience_ratio=inconvenience_ratio)\n"
   ]
  },
  {
   "cell_type": "code",
   "execution_count": null,
   "metadata": {},
   "outputs": [],
   "source": [
    "robot_initial_state = [5.; 5.; -pi / 2.; 0.]\n",
    "robot_goal_state = [5.; -5.; -pi / 2; 0.]\n",
    "human_initial_state = [5.; -5.; pi / 2]\n",
    "human_goal_state = [5.; 5.; pi / 2]\n",
    "solver = \"ECOS\"\n",
    "\n",
    "ip = InteractionPlanner(robot_hps, \n",
    "                        human_hps,\n",
    "                        robot_initial_state,\n",
    "                        human_initial_state,\n",
    "                        robot_goal_state,\n",
    "                        human_goal_state,\n",
    "                        solver)\n",
    "# \n",
    "# ip = InteractionPlanner(human_hps, \n",
    "#                         robot_hps,\n",
    "#                         human_initial_state,\n",
    "#                         robot_initial_state,\n",
    "#                         human_goal_state,\n",
    "#                         robot_goal_state,\n",
    "#                         solver)"
   ]
  },
  {
   "cell_type": "code",
   "execution_count": null,
   "metadata": {},
   "outputs": [],
   "source": [
    "# Adds a wall constraint to the planner\n",
    "wall_1 = Wall(\"x\", 0., 6.1, \"less\")\n",
    "wall_constraint(ip, wall_1, \"wall_1\")\n",
    "wall_2 = Wall(\"x\", 0.1, 3.2, \"greater\")\n",
    "wall_constraint(ip, wall_2, \"wall_2\")"
   ]
  },
  {
   "cell_type": "code",
   "execution_count": null,
   "metadata": {},
   "outputs": [],
   "source": [
    "incon_problem, xs, us = @time solve(ip.ego_planner.incon, iterations=10, verbose=false, keep_history=false)\n",
    "incon_problem, xs, us = @time solve(ip.other_planner.incon, iterations=10, verbose=false, keep_history=false);\n",
    "\n"
   ]
  },
  {
   "cell_type": "code",
   "execution_count": null,
   "metadata": {},
   "outputs": [],
   "source": [
    "plot_solve_solution(ip, walls=[wall_1, wall_2], pos_xlims=[-1, 11], pos_ylims=[-6, 6])"
   ]
  },
  {
   "attachments": {},
   "cell_type": "markdown",
   "metadata": {},
   "source": [
    "# Iterated Best Response"
   ]
  },
  {
   "cell_type": "code",
   "execution_count": null,
   "metadata": {},
   "outputs": [],
   "source": [
    "@time ibr(ip, 3, \"ego\")"
   ]
  },
  {
   "cell_type": "code",
   "execution_count": null,
   "metadata": {},
   "outputs": [],
   "source": [
    "plot_solve_solution(ip, pos_xlims=[-1, 11], walls=nothing, pos_ylims=[-6, 6])"
   ]
  },
  {
   "attachments": {},
   "cell_type": "markdown",
   "metadata": {},
   "source": [
    "# Animation"
   ]
  },
  {
   "cell_type": "code",
   "execution_count": null,
   "metadata": {},
   "outputs": [],
   "source": [
    "animation(ip, pos_xlims=[-1, 11], pos_ylims=[-4, 4])"
   ]
  },
  {
   "cell_type": "code",
   "execution_count": null,
   "metadata": {},
   "outputs": [],
   "source": [
    "avoidance_animation(ip, pos_xlims=[0, 10], pos_ylims=[-5, 5])"
   ]
  },
  {
   "attachments": {},
   "cell_type": "markdown",
   "metadata": {},
   "source": [
    "# MPC Controller Simulation\n",
    "*At the moment it is a known issue that the sim breaks if the dynamics classes used are different between the different InteractionPlanner models, will be fixed"
   ]
  },
  {
   "cell_type": "code",
   "execution_count": null,
   "metadata": {},
   "outputs": [],
   "source": [
    "include(\"sim.jl\")\n",
    "include(\"mpc.jl\")"
   ]
  },
  {
   "cell_type": "code",
   "execution_count": 52,
   "metadata": {},
   "outputs": [
    {
     "data": {
      "text/plain": [
       "PlannerHyperparameters{Float64}\n",
       "  dynamics: DynamicallyExtendedUnicycle{Float64}\n",
       "  time_horizon: Int64 25\n",
       "  Q: Array{Float64}((4, 4)) [0.0 0.0 0.0 0.0; 0.0 0.0 0.0 0.0; 0.0 0.0 0.0 0.0; 0.0 0.0 0.0 0.0]\n",
       "  R: Array{Float64}((2, 2)) [1.0 0.0; 0.0 1.0]\n",
       "  Qt: Array{Float64}((4, 4)) [10.0 0.0 0.0 0.0; 0.0 10.0 0.0 0.0; 0.0 0.0 0.0 0.0; 0.0 0.0 0.0 0.0]\n",
       "  markup: Float64 1.05\n",
       "  collision_slack: Float64 150.0\n",
       "  collision_markup: Float64 0.98\n",
       "  trust_region_weight: Float64 5.0\n",
       "  inconvenience_weights: Array{Float64}((3,)) [1.0, 1.0, 0.1]\n",
       "  collision_radius: Float64 1.0\n",
       "  inconvenience_ratio: Float64 0.2\n"
      ]
     },
     "metadata": {},
     "output_type": "display_data"
    }
   ],
   "source": [
    "solver = \"ECOS\"\n",
    "\n",
    "time_horizon = 25\n",
    "dt = 0.1\n",
    "velocity_max = 1.5\n",
    "\n",
    "human = DynamicallyExtendedUnicycle(dt, velocity_max, [1., 1.5])\n",
    "\n",
    "Q = diagm([0.0; 0.0; 0.; 0.])\n",
    "R = diagm([1.; 1.]) \n",
    "Qt = diagm([10.; 10.; 0.; 0.])\n",
    "markup = 1.05\n",
    "collision_slack = 150.\n",
    "trust_region_weight = 5.\n",
    "inconvenience_weights = [1.; 1.; 0.1]\n",
    "collision_radius = 1.\n",
    "inconvenience_ratio = 0.2\n",
    "\n",
    "human_hps = PlannerHyperparameters(dynamics=human,\n",
    "                             time_horizon=time_horizon,\n",
    "                             Q=Q,\n",
    "                             R=R,\n",
    "                             Qt=Qt,\n",
    "                             markup=markup,\n",
    "                             collision_slack=collision_slack,\n",
    "                             trust_region_weight=trust_region_weight,\n",
    "                             inconvenience_weights=inconvenience_weights,\n",
    "                             collision_radius=collision_radius,\n",
    "                             inconvenience_ratio=inconvenience_ratio)\n",
    "\n",
    "\n",
    "\n",
    "dt = 0.1\n",
    "velocity_max = 1.5\n",
    "\n",
    "robot = DynamicallyExtendedUnicycle(dt, velocity_max, [1., 1.5])\n",
    "\n",
    "Q = diagm([0.0; 0.0; 0.; 0.])\n",
    "R = diagm([1.; 1.]) \n",
    "Qt = diagm([10.; 10.; 0.; 0.])\n",
    "\n",
    "robot_hps = PlannerHyperparameters(dynamics=robot,\n",
    "                             time_horizon=time_horizon,\n",
    "                             Q=Q,\n",
    "                             R=R,\n",
    "                             Qt=Qt,\n",
    "                             markup=markup,\n",
    "                             collision_slack=collision_slack,\n",
    "                             trust_region_weight=trust_region_weight,\n",
    "                             inconvenience_weights=inconvenience_weights,\n",
    "                             collision_radius=collision_radius,\n",
    "                             inconvenience_ratio=inconvenience_ratio)"
   ]
  },
  {
   "cell_type": "code",
   "execution_count": 53,
   "metadata": {},
   "outputs": [
    {
     "data": {
      "text/plain": [
       "InteractionPlanner\n",
       "  ego_planner: AgentPlanner\n",
       "  other_planner: AgentPlanner\n"
      ]
     },
     "metadata": {},
     "output_type": "display_data"
    }
   ],
   "source": [
    "robot_initial_state = [0.; 0.; 0.; 0.]\n",
    "robot_goal_state = [10.; 0.; 0.; 0.]\n",
    "human_initial_state = [10.; 0.; pi; 0.]\n",
    "human_goal_state = [0.; 0.; pi; 0.]\n",
    "\n",
    "robot_ip = InteractionPlanner(robot_hps, \n",
    "                        human_hps,\n",
    "                        robot_initial_state,\n",
    "                        human_initial_state,\n",
    "                        robot_goal_state,\n",
    "                        human_goal_state,\n",
    "                        solver)\n"
   ]
  },
  {
   "cell_type": "code",
   "execution_count": 33,
   "metadata": {},
   "outputs": [
    {
     "data": {
      "text/plain": [
       "PlannerHyperparameters{Float64}\n",
       "  dynamics: DynamicallyExtendedUnicycle{Float64}\n",
       "  time_horizon: Int64 25\n",
       "  Q: Array{Float64}((4, 4)) [0.0 0.0 0.0 0.0; 0.0 0.0 0.0 0.0; 0.0 0.0 0.0 0.0; 0.0 0.0 0.0 0.0]\n",
       "  R: Array{Float64}((2, 2)) [1.0 0.0; 0.0 0.0]\n",
       "  Qt: Array{Float64}((4, 4)) [10.0 0.0 0.0 0.0; 0.0 10.0 0.0 0.0; 0.0 0.0 0.0 0.0; 0.0 0.0 0.0 0.0]\n",
       "  markup: Float64 1.05\n",
       "  collision_slack: Float64 150.0\n",
       "  collision_markup: Float64 0.98\n",
       "  trust_region_weight: Float64 5.0\n",
       "  inconvenience_weights: Array{Float64}((3,)) [1.0, 1.0, 0.1]\n",
       "  collision_radius: Float64 1.0\n",
       "  inconvenience_ratio: Float64 0.2\n"
      ]
     },
     "metadata": {},
     "output_type": "display_data"
    }
   ],
   "source": [
    "dt = 0.1\n",
    "velocity_max = 1.5\n",
    "human = DynamicallyExtendedUnicycle(dt, velocity_max, [1., 1.5])\n",
    "\n",
    "time_horizon = 25\n",
    "Q = diagm([0.0; 0.0; 0.; 0.])\n",
    "R = diagm([1.; 0.3]) \n",
    "Qt = diagm([10.; 10.; 0.; 0.])\n",
    "markup = 1.05\n",
    "collision_slack = 150.\n",
    "trust_region_weight = 5.\n",
    "inconvenience_weights = [1.; 1.; 0.1] \n",
    "collision_radius = 1.\n",
    "inconvenience_ratio = 0.2\n",
    "\n",
    "\n",
    "human_hps = PlannerHyperparameters(dynamics=human,\n",
    "                             time_horizon=time_horizon,\n",
    "                             Q=Q,\n",
    "                             R=R,\n",
    "                             Qt=Qt,\n",
    "                             markup=markup,\n",
    "                             collision_slack=collision_slack,\n",
    "                             trust_region_weight=trust_region_weight,\n",
    "                             inconvenience_weights=inconvenience_weights,\n",
    "                             collision_radius=collision_radius,\n",
    "                             inconvenience_ratio=inconvenience_ratio)\n",
    "\n",
    "\n",
    "\n",
    "dt = 0.1\n",
    "velocity_max = 1.5\n",
    "# robot = Unicycle(dt, velocity_max, [1.0, 2.])\n",
    "robot = DynamicallyExtendedUnicycle(dt, velocity_max, [1., 1.5])\n",
    "\n",
    "# time_horizon = 45\n",
    "Q = diagm([0.0; 0.0; 0.; 0.])\n",
    "R = diagm([1.; 0.0]) \n",
    "Qt = diagm([10.; 10.; 0.; 0.])\n",
    "\n",
    "robot_hps = PlannerHyperparameters(dynamics=robot,\n",
    "                             time_horizon=time_horizon,\n",
    "                             Q=Q,\n",
    "                             R=R,\n",
    "                             Qt=Qt,\n",
    "                             markup=markup,\n",
    "                             collision_slack=collision_slack,\n",
    "                             trust_region_weight=trust_region_weight,\n",
    "                             inconvenience_weights=inconvenience_weights,\n",
    "                             collision_radius=collision_radius,\n",
    "                             inconvenience_ratio=inconvenience_ratio)"
   ]
  },
  {
   "cell_type": "code",
   "execution_count": 34,
   "metadata": {},
   "outputs": [
    {
     "data": {
      "text/plain": [
       "InteractionPlanner\n",
       "  ego_planner: AgentPlanner\n",
       "  other_planner: AgentPlanner\n"
      ]
     },
     "metadata": {},
     "output_type": "display_data"
    }
   ],
   "source": [
    "human_ip = InteractionPlanner(human_hps, \n",
    "                        robot_hps,\n",
    "                        human_initial_state,\n",
    "                        robot_initial_state,\n",
    "                        human_goal_state,\n",
    "                        robot_goal_state,\n",
    "                        solver)"
   ]
  },
  {
   "cell_type": "code",
   "execution_count": 35,
   "metadata": {},
   "outputs": [
    {
     "data": {
      "text/plain": [
       "([0.0 0.0 0.0 0.0; 0.007499992676330003 0.0 -8.298637286121752e-14 0.14999985352660003; … ; 9.437994308275586 0.07241519917340694 -0.12349527275855267 0.8075816586201999; 9.516423938672125 0.06267996925146253 -0.12401087524508816 0.7730488011357451], [-8.298637286121751e-13 1.4999985352660004; 2.8560314786679702e-8 1.4999992088066432; … ; -0.00481608242849058 -0.34819953733781034; -0.005156024865354952 -0.3453285748445478], [10.0 0.0 3.141592653589793 0.0; 9.9919451792604 9.864310436457336e-19 3.141579845870588 0.1610964147920078; … ; 0.44529484913175965 -0.06019719121215634 3.0118717862495665 0.7966872447438651; 0.3680385909465212 -0.05011884775290441 3.0113192920375393 0.7615299975772264], [-0.0001280771920497873 1.610964147920078; 0.11925250547308268 1.4381055801261553; … ; -0.0054262718797326625 -0.3653157035072732; -0.005524942120270903 -0.3515724716663873], ([0.07989311218261719, 0.07651686668395996, 0.0786139965057373, 0.07615208625793457, 0.08306503295898438, 0.08042287826538086, 0.06909489631652832, 0.08421611785888672, 0.07018709182739258, 0.0769510269165039  …  0.08199787139892578, 0.07932782173156738, 0.07999897003173828, 0.0840311050415039, 0.07058000564575195, 0.07960200309753418, 0.0724329948425293, 0.0841379165649414, 0.07174396514892578, 0.08110809326171875], [0.07470297813415527, 0.06534194946289062, 0.07482385635375977, 0.06783199310302734, 0.08172798156738281, 0.08351516723632812, 0.08315181732177734, 0.07963895797729492, 0.0812530517578125, 0.07694005966186523  …  0.08469700813293457, 0.06522798538208008, 0.07695603370666504, 0.08307504653930664, 0.07992887496948242, 0.0815589427947998, 0.08081388473510742, 0.08342599868774414, 0.08095693588256836, 0.08571910858154297]))"
      ]
     },
     "metadata": {},
     "output_type": "display_data"
    }
   ],
   "source": [
    "robot_path, robot_controls, human_path, human_controls, solve_times = simulate(robot_ip, human_ip, 75, ibr_iterations=2, leader=\"ego\")"
   ]
  },
  {
   "cell_type": "code",
   "execution_count": 36,
   "metadata": {},
   "outputs": [
    {
     "name": "stderr",
     "output_type": "stream",
     "text": [
      "┌ Info: Saved animation to /tmp/jl_EDaRcVgng3.gif\n",
      "└ @ Plots /home/jasper/.julia/packages/Plots/3BCH5/src/animation.jl:156\n"
     ]
    },
    {
     "data": {
      "text/html": [
       "<img src=\"data:image/gif;base64,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\" />"
      ],
      "text/plain": [
       "Plots.AnimatedGif(\"/tmp/jl_EDaRcVgng3.gif\")"
      ]
     },
     "metadata": {},
     "output_type": "display_data"
    }
   ],
   "source": [
    "animation(robot_path, human_path, pos_xlims=[-1, 11])"
   ]
  },
  {
   "cell_type": "code",
   "execution_count": null,
   "metadata": {},
   "outputs": [],
   "source": [
    "animation(robot_path, human_path, pos_xlims=[-1, 11])"
   ]
  },
  {
   "cell_type": "code",
   "execution_count": null,
   "metadata": {},
   "outputs": [],
   "source": [
    "sum(solve_times[1]) / 50"
   ]
  },
  {
   "cell_type": "code",
   "execution_count": null,
   "metadata": {},
   "outputs": [],
   "source": [
    "findmax(solve_times[1] )"
   ]
  },
  {
   "cell_type": "code",
   "execution_count": null,
   "metadata": {},
   "outputs": [],
   "source": [
    "plt = plot(robot_path[:,1], robot_path[:,2], xlims=[-1, 10], ylims=[-5, 5])\n",
    "plot!(plt, human_path[:,1], human_path[:,2])"
   ]
  },
  {
   "cell_type": "code",
   "execution_count": null,
   "metadata": {},
   "outputs": [],
   "source": [
    "animation(robot_path, human_path, pos_xlims=[-1, 11], pos_ylims=[-2.5, 2.5])"
   ]
  },
  {
   "attachments": {},
   "cell_type": "markdown",
   "metadata": {},
   "source": [
    "# Summary Plots"
   ]
  },
  {
   "attachments": {},
   "cell_type": "markdown",
   "metadata": {},
   "source": [
    "### Setup the planner"
   ]
  },
  {
   "cell_type": "code",
   "execution_count": null,
   "metadata": {},
   "outputs": [],
   "source": [
    "dt = 0.1\n",
    "velocity_max = 1.5\n",
    "# human = SingleIntegratorPolar2D(dt, velocity_max, [pi, 2.])\n",
    "human = Unicycle(dt, velocity_max, [1., 1.5])\n",
    "\n",
    "time_horizon = 50\n",
    "# Q = zeros(Float64, human.state_dim, human.state_dim)\n",
    "# R = diagm([0.; 0.1]) \n",
    "# Qt = diagm([10.; 10.])\n",
    "Q = diagm([0.0; 0.0; 0.])\n",
    "R = diagm([1.0; 0.0]) \n",
    "Qt = diagm([10.; 10.; 0.])\n",
    "markup = 0.8\n",
    "collision_slack = 150.\n",
    "trust_region_weight = 5.\n",
    "inconvenience_weights = [1.; 1.; 0.01]\n",
    "collision_radius = 1.\n",
    "inconvenience_ratio = 0.13\n",
    "\n",
    "\n",
    "human_hps = PlannerHyperparameters(dynamics=human,\n",
    "                             time_horizon=time_horizon,\n",
    "                             Q=Q,\n",
    "                             R=R,\n",
    "                             Qt=Qt,\n",
    "                             markup=markup,\n",
    "                             collision_slack=collision_slack,\n",
    "                             trust_region_weight=trust_region_weight,\n",
    "                             inconvenience_weights=inconvenience_weights,\n",
    "                             collision_radius=collision_radius,\n",
    "                             inconvenience_ratio=inconvenience_ratio)\n",
    "\n",
    "\n",
    "\n",
    "dt = 0.1\n",
    "velocity_max = 1.5\n",
    "# robot = Unicycle(dt, velocity_max, [1.0, 2.])\n",
    "robot = DynamicallyExtendedUnicycle(dt, velocity_max, [1., 3.])\n",
    "\n",
    "# time_horizon = 45\n",
    "Q = diagm([0.0; 0.0; 0.; 0.])\n",
    "R = diagm([1.; 1.]) \n",
    "Qt = diagm([10.; 10.; 0.; 0.])\n",
    "\n",
    "robot_hps = PlannerHyperparameters(dynamics=robot,\n",
    "                             time_horizon=time_horizon,\n",
    "                             Q=Q,\n",
    "                             R=R,\n",
    "                             Qt=Qt,\n",
    "                             markup=markup,\n",
    "                             collision_slack=collision_slack,\n",
    "                             trust_region_weight=trust_region_weight,\n",
    "                             inconvenience_weights=inconvenience_weights,\n",
    "                             collision_radius=collision_radius,\n",
    "                             inconvenience_ratio=inconvenience_ratio)\n"
   ]
  },
  {
   "cell_type": "code",
   "execution_count": null,
   "metadata": {},
   "outputs": [],
   "source": [
    "robot_initial_state = [0.; 0.; 0.; 0.]\n",
    "robot_goal_state = [10.; 0.; 0.; 0.]\n",
    "human_initial_state = [10.; 0.; pi]\n",
    "human_goal_state = [0.; 0.; pi]\n",
    "solver = \"ECOS\"\n",
    "\n",
    "ip = InteractionPlanner(robot_hps, \n",
    "                        human_hps,\n",
    "                        robot_initial_state,\n",
    "                        human_initial_state,\n",
    "                        robot_goal_state,\n",
    "                        human_goal_state,\n",
    "                        solver)"
   ]
  },
  {
   "cell_type": "code",
   "execution_count": null,
   "metadata": {},
   "outputs": [],
   "source": [
    "incon_problem, xs, us = @time solve(ip.ego_planner.incon, iterations=10, verbose=false, keep_history=false)\n",
    "incon_problem, xs, us = @time solve(ip.other_planner.incon, iterations=10, verbose=false, keep_history=false);"
   ]
  },
  {
   "cell_type": "code",
   "execution_count": null,
   "metadata": {},
   "outputs": [],
   "source": [
    "@time saved_data_test, _, _, _, _ = ibr_save(ip, 5, \"ego\")"
   ]
  },
  {
   "cell_type": "code",
   "execution_count": null,
   "metadata": {},
   "outputs": [],
   "source": [
    "include(\"plotting.jl\")"
   ]
  },
  {
   "cell_type": "code",
   "execution_count": null,
   "metadata": {},
   "outputs": [],
   "source": [
    "plot_example = plot_solve_solution(saved_data_test, scatter=false, show_speed=true, show_control=true)"
   ]
  },
  {
   "cell_type": "code",
   "execution_count": null,
   "metadata": {},
   "outputs": [],
   "source": []
  },
  {
   "cell_type": "code",
   "execution_count": null,
   "metadata": {},
   "outputs": [],
   "source": [
    "function plot_solve_solution(problem::SaveData, second_problem::SaveData,show_theta::Bool; pos_xlims=[-1,11], pos_ylims=[-6, 6], scatter=true::Bool, show_speed=true::Bool, show_control=true::Bool)\n",
    "\n",
    "    l = @layout [a b] \n",
    "    width=2000\n",
    "    height=800\n",
    "    alpha_plot = 0.7\n",
    "    linewidth = 2\n",
    "    markersize = 2\n",
    "    markersize_large = 7\n",
    "    ego_color = :blue\n",
    "    other_color = :red\n",
    "\n",
    "    global iterations = length(problem.previous_ips)\n",
    "\n",
    "    alpha_ratio = 1 / (iterations + 1)\n",
    "    N = problem.previous_ips[1].ego_planner.ideal.hps.time_horizon\n",
    "\n",
    "    ego_goal_state = problem.previous_ips[1].ego_planner.ideal.opt_params.goal_state\n",
    "    other_goal_state = problem.previous_ips[1].other_planner.ideal.opt_params.goal_state\n",
    "\n",
    "    ego_dynamics = problem.previous_ips[1].ego_planner.ideal.hps.dynamics       # use first ip arbitrarily, any iteration will give the same values for these entries\n",
    "    other_dynamics = problem.previous_ips[1].other_planner.ideal.hps.dynamics\n",
    "\n",
    "    global ego_ctrl_dim = 2\n",
    "    global other_ctrl_dim = 2\n",
    "\n",
    "    # plotting position trajectory\n",
    "\n",
    "    plot_traj = plot(size=(height, height), xlabel=\"x position\", ylabel=\"y position\", title=\"Position\", margin=10mm, ylims=pos_ylims, xlims=pos_xlims, aspect_ratio=:equal)\n",
    "    scatter!(ego_goal_state[1:1], ego_goal_state[2:2], marker=:star, markersize=markersize_large, color=ego_color, label=\"ego goal\")\n",
    "    scatter!(plot_traj, other_goal_state[1:1], other_goal_state[2:2], marker=:star, markersize=markersize_large, color=other_color, label=\"other goal\")\n",
    "\n",
    "    plot!(plot_traj, value.(problem.previous_ips[end].ego_planner.incon.model[:x])[:,1], value.(problem.previous_ips[end].ego_planner.incon.model[:x])[:,2], color=ego_color, linewidth=linewidth, label=\"Robot μ = 0.9\", alpha=alpha_plot)\n",
    "\n",
    "    plot!(plot_traj, value.(problem.previous_ips[end].other_planner.incon.model[:x])[:,1], value.(problem.previous_ips[end].other_planner.incon.model[:x])[:,2], color=other_color, linewidth=linewidth, label=\"Human μ = 0.9\", alpha=alpha_plot)\n",
    "\n",
    "\n",
    "    plot!(plot_traj, value.(second_problem.previous_ips[end].ego_planner.incon.model[:x])[:,1], value.(second_problem.previous_ips[end].ego_planner.incon.model[:x])[:,2], color=:purple, linewidth=linewidth, label=\"Robot μ = 1.1\", alpha=alpha_plot)\n",
    "\n",
    "    plot!(plot_traj, value.(second_problem.previous_ips[end].other_planner.incon.model[:x])[:,1], value.(second_problem.previous_ips[end].other_planner.incon.model[:x])[:,2], color=:green, linewidth=linewidth, label=\"Human μ = 1.1\", alpha=alpha_plot)\n",
    "\n",
    "    if scatter\n",
    "        scatter!(plot_traj, value.(problem.previous_ips[end].ego_planner.ideal.model[:x])[:,1], value.(problem.previous_ips[end].ego_planner.ideal.model[:x])[:,2], color=ego_color, linewidth=linewidth, label=\"\", alpha=alpha_plot)\n",
    "\n",
    "        scatter!(plot_traj, value.(problem.previous_ips[end].other_planner.ideal.model[:x])[:,1], value.(problem.previous_ips[end].other_planner.ideal.model[:x])[:,2], color=other_color, linewidth=linewidth, label=\"\", alpha=alpha_plot)\n",
    "\n",
    "        scatter!(plot_traj, value.(second_problem.previous_ips[end].ego_planner.ideal.model[:x])[:,1], value.(second_problem.previous_ips[end].ego_planner.ideal.model[:x])[:,2], color=ego_color, linewidth=linewidth, label=\"\", alpha=alpha_plot)\n",
    "\n",
    "        scatter!(plot_traj, value.(second_problem.previous_ips[end].other_planner.ideal.model[:x])[:,1], value.(second_problem.previous_ips[end].other_planner.ideal.model[:x])[:,2], color=other_color, linewidth=linewidth, label=\"\", alpha=alpha_plot)\n",
    "    end\n",
    "    # plotting speed/control\n",
    "\n",
    "    # speed parameters\n",
    "    max_speed = maximum([problem.previous_ips[1].ego_planner.ideal.hps.dynamics.velocity_max, problem.previous_ips[1].other_planner.ideal.hps.dynamics.velocity_max])\n",
    "    ego_max_speed = problem.previous_ips[1].ego_planner.ideal.hps.dynamics.velocity_max\n",
    "    other_max_speed = problem.previous_ips[1].other_planner.ideal.hps.dynamics.velocity_max\n",
    "\n",
    "    # control parameters\n",
    "    ego_ctrl_dim = problem.previous_ips[1].ego_planner.ideal.hps.dynamics.ctrl_dim\n",
    "    other_ctrl_dim = problem.previous_ips[1].other_planner.ideal.hps.dynamics.ctrl_dim\n",
    "\n",
    "    ego_max_ctrl = maximum(problem.previous_ips[1].ego_planner.ideal.hps.dynamics.control_max)\n",
    "    ego_min_ctrl = minimum(problem.previous_ips[1].ego_planner.ideal.hps.dynamics.control_min)\n",
    "    other_max_ctrl = maximum(problem.previous_ips[1].other_planner.ideal.hps.dynamics.control_max)\n",
    "    other_min_ctrl = minimum(problem.previous_ips[1].other_planner.ideal.hps.dynamics.control_min)\n",
    "\n",
    "    plot_theta = plot(size=(height, height), xlabel=\"time step\", ylabel=\"abs(Theta)\", title=\"Theta vs. time\", margin=10mm, legend=:bottomright)\n",
    "    plot_ctrl = plot(size=(height, height), xlabel=\"time step\", ylabel=\"input magnitude\", title=\"Control\", margin=10mm)\n",
    "\n",
    "    # angle plotting\n",
    "    robot_xs_mu_09 = vector_of_vectors_to_matrix(problem.previous_ips[iterations].ego_planner.incon.opt_params.previous_states)\n",
    "    human_xs_mu_09 = vector_of_vectors_to_matrix(problem.previous_ips[iterations].other_planner.incon.opt_params.previous_states)\n",
    "    robot_xs_mu_11 = vector_of_vectors_to_matrix(second_problem.previous_ips[iterations].ego_planner.incon.opt_params.previous_states)\n",
    "    human_xs_mu_11 = vector_of_vectors_to_matrix(second_problem.previous_ips[iterations].other_planner.incon.opt_params.previous_states)\n",
    "    plot!(plot_theta, robot_xs_mu_09[:,3:3], linewidth=2, label=\"Robot μ = 0.9\", color=ego_color)\n",
    "    plot!(plot_theta, human_xs_mu_09[:,3:3], linewidth=2, label=\"Human μ = 0.9\", color=other_color)\n",
    "    plot!(plot_theta, robot_xs_mu_11[:,3:3], linewidth=2, label=\"Robot μ = 1.1\", color=:magenta)\n",
    "    plot!(plot_theta, human_xs_mu_11[:,3:3], linewidth=2, label=\"Human μ = 1.1\", color=:green)\n",
    "\n",
    "        # ctrl plotting\n",
    "    plot!(plot_ctrl, 1:N, maximum([ego_max_ctrl, other_max_ctrl]) * ones(Float64, N), linestyle=:dash, linewith=linewidth,  color=:green, label=\"Control Limits\")\n",
    "    plot!(plot_ctrl, 1:N, minimum([ego_min_ctrl, other_min_ctrl]) * ones(Float64, N), linestyle=:dash, linewith=linewidth,  color=:green, label=\"\")   \n",
    "        # ego plot\n",
    "    for j in 1:ego_ctrl_dim\n",
    "        plot!(plot_ctrl, 1:N, vector_of_vectors_to_matrix(problem.previous_ips[iterations].ego_planner.incon.opt_params.previous_controls)[:, j], label=\"\", color=RGB(1 - (1 / ego_ctrl_dim) * j, 0., (1 / ego_ctrl_dim) * j), linewidth=linewidth, alpha=(i * alpha_ratio))\n",
    "        plot!(plot_ctrl, 1:N, vector_of_vectors_to_matrix(second_problem.previous_ips[iterations].ego_planner.incon.opt_params.previous_controls)[:, j], label=\"\", color=RGB(1 - (1 / ego_ctrl_dim) * j, 0., (1 / ego_ctrl_dim) * j), linewidth=linewidth, alpha=(i * alpha_ratio))\n",
    "    end \n",
    "        # other plot\n",
    "    for k in 1:other_ctrl_dim\n",
    "        plot!(plot_ctrl, 1:N, vector_of_vectors_to_matrix(problem.previous_ips[iterations].other_planner.incon.opt_params.previous_controls)[:, k], label=\"\", color=RGB((1 / other_ctrl_dim) * k, 1 - (1 / other_ctrl_dim) * k, 0.), linewidth=linewidth, alpha=(i * alpha_ratio))\n",
    "        plot!(plot_ctrl, 1:N, vector_of_vectors_to_matrix(second_problem.previous_ips[iterations].other_planner.incon.opt_params.previous_controls)[:, k], label=\"\", color=RGB((1 / other_ctrl_dim) * k, 1 - (1 / other_ctrl_dim) * k, 0.), linewidth=linewidth, alpha=(i * alpha_ratio))\n",
    "    end \n",
    "\n",
    "\n",
    "    slack_violation = Vector{Float64}(undef, iterations)\n",
    "\n",
    "    for i in 1:iterations\n",
    "        slack_violation[i] = value(problem.previous_ips[i].ego_planner.incon.model[:ϵ])\n",
    "    end\n",
    "\n",
    "    plot_slack_violation = plot(size=(height, height), xlabel=\"Iteration\", ylabel=\"ϵ (slack value)\", title=\"Slack (collision) Violation\", margin=10mm)\n",
    "\n",
    "    plot!(plot_slack_violation, 1:iterations, slack_violation, color=:black, label=\"Slack\")\n",
    "\n",
    "    # plotting inconvenience value over iterations\n",
    "\n",
    "    incon_budget = problem.previous_ips[1].ego_planner.incon.hps.inconvenience_ratio\n",
    "    inconvenience_ego = Vector{Float64}(undef, iterations)\n",
    "    inconvenience_other = Vector{Float64}(undef, iterations)\n",
    "\n",
    "    ideal_incon_ego = compute_convenience_value(ego_dynamics, matrix_to_vector_of_vectors(value.(problem.previous_ips[1].ego_planner.ideal.model[:x])), matrix_to_vector_of_vectors(value.(problem.previous_ips[1].ego_planner.ideal.model[:u])), ego_goal_state, problem.previous_ips[1].ego_planner.incon.hps.inconvenience_weights)\n",
    "\n",
    "    ideal_incon_other = compute_convenience_value(other_dynamics, matrix_to_vector_of_vectors(value.(problem.previous_ips[1].other_planner.ideal.model[:x])), matrix_to_vector_of_vectors(value.(problem.previous_ips[1].other_planner.ideal.model[:u])), other_goal_state, problem.previous_ips[1].other_planner.incon.hps.inconvenience_weights)\n",
    "\n",
    "    for i in 1:iterations\n",
    "        inconvenience_ego[i] = compute_convenience_value(ego_dynamics, problem.previous_ips[i].ego_planner.incon.opt_params.previous_states, problem.previous_ips[i].ego_planner.incon.opt_params.previous_controls, ego_goal_state, problem.previous_ips[1].ego_planner.incon.hps.inconvenience_weights)\n",
    "        \n",
    "        inconvenience_other[i] = compute_convenience_value(other_dynamics, problem.previous_ips[i].other_planner.incon.opt_params.previous_states, problem.previous_ips[i].other_planner.incon.opt_params.previous_controls, other_goal_state, problem.previous_ips[1].other_planner.incon.hps.inconvenience_weights)\n",
    "    end\n",
    "\n",
    "    inconvenience_ego ./= ideal_incon_ego\n",
    "    inconvenience_other ./= ideal_incon_other \n",
    "\n",
    "    plot_incon = plot(size=(height, height), xlabel=\"Iteration\", ylabel=\"Inconvenience\", title=\"Agent Inconvenience\", margin=10mm)\n",
    "    plot!(plot_incon, 1:iterations, ones(iterations), linestyle=:dash, linewith=linewidth, color=:green, label=\"Ideal Incon\")\n",
    "    plot!(plot_incon, 1:iterations, ones(iterations) .+ incon_budget, linestyle=:dash, linewith=linewidth, color=:black, label=\"Incon Budget\")\n",
    "    plot!(plot_incon, 1:iterations, inconvenience_ego, color=ego_color, linewidth=linewidth, label=\"Ego Incon\")\n",
    "    plot!(plot_incon, 1:iterations, inconvenience_other, color=other_color, linewidth=linewidth, label=\"Other Incon\")\n",
    "\n",
    "    plot(plot_traj, plot_theta, layout=l, size=(width, height))\n",
    "end\n"
   ]
  },
  {
   "cell_type": "markdown",
   "metadata": {},
   "source": [
    "# Sim Experimentation Utils"
   ]
  },
  {
   "cell_type": "code",
   "execution_count": null,
   "metadata": {},
   "outputs": [],
   "source": [
    "robot_params = PlannerParams(robot_ip.ego_planner.incon.hps, robot_ip.ego_planner.incon.opt_params, robot_ip.other_planner.incon.hps, robot_ip.other_planner.incon.opt_params)\n",
    "human_params = PlannerParams(human_ip.ego_planner.incon.hps, human_ip.ego_planner.incon.opt_params, human_ip.other_planner.incon.hps, human_ip.other_planner.incon.opt_params)"
   ]
  },
  {
   "cell_type": "code",
   "execution_count": null,
   "metadata": {},
   "outputs": [],
   "source": [
    "sim_params = IPSimParams(robot_params, human_params)"
   ]
  },
  {
   "cell_type": "code",
   "execution_count": null,
   "metadata": {},
   "outputs": [],
   "source": [
    "# robot_xs, robot_us, human_xs, human_us, solve_times = simulate(robot_ip, human_ip, 50, ibr_iterations=2, leader=\"other\")"
   ]
  },
  {
   "cell_type": "code",
   "execution_count": null,
   "metadata": {},
   "outputs": [],
   "source": [
    "sim_data = SimData(sim_params, solve_times, robot_path, robot_controls, human_path, human_controls)"
   ]
  },
  {
   "cell_type": "code",
   "execution_count": null,
   "metadata": {},
   "outputs": [],
   "source": [
    "plot_solve_solution(sim_data)"
   ]
  },
  {
   "cell_type": "code",
   "execution_count": null,
   "metadata": {},
   "outputs": [],
   "source": [
    "sim_data.solve_times"
   ]
  },
  {
   "cell_type": "markdown",
   "metadata": {},
   "source": [
    "# Experimentation Code"
   ]
  },
  {
   "cell_type": "code",
   "execution_count": null,
   "metadata": {},
   "outputs": [],
   "source": [
    "# for experiment in experiments\n",
    "#     set up problem. Assign hyperparameters. Cycle through hps for each experiment\n",
    "#     (markup, collision slack, trust region weights, incon weights, collision radius, incon ratio)\n",
    "#     for opt_param in opt_params\n",
    "#         assign new opt_params to the problem.\n",
    "#         (initial states, goal states)\n",
    "#         register the InteractionPlanner\n",
    "#         run simulation\n",
    "#         store data into dictionary w/ with key=run_number\n",
    "#         (store: hps, opt_params, and paths) -- enough data to recreate the problem and plot Base.load_path_setup_code\n",
    "#         delete interaction planner before cycling through the loop.\n",
    "#     end\n",
    "# end"
   ]
  },
  {
   "cell_type": "code",
   "execution_count": null,
   "metadata": {},
   "outputs": [],
   "source": [
    "using ProgressBars"
   ]
  },
  {
   "cell_type": "code",
   "execution_count": null,
   "metadata": {},
   "outputs": [],
   "source": [
    "# setting up the problem to be deep copied for experiments\n",
    "# this is for experimentation where each agent correctly assumes the policy of the oteher agent\n",
    "\n",
    "# setting up the robot planner\n",
    "solver = \"ECOS\"\n",
    "\n",
    "time_horizon = 25\n",
    "dt = 0.1\n",
    "velocity_max = 1.5\n",
    "\n",
    "human = DynamicallyExtendedUnicycle(dt, velocity_max, [1., 1.5])\n",
    "\n",
    "Q = diagm([0.0; 0.0; 0.; 0.])\n",
    "R = diagm([1.; 1.]) \n",
    "Qt = diagm([10.; 10.; 0.; 0.])\n",
    "markup = 1.05\n",
    "collision_slack = 150.\n",
    "trust_region_weight = 5.\n",
    "inconvenience_weights = [1.; 1.; 0.1]\n",
    "collision_radius = 1.\n",
    "inconvenience_ratio = 0.2\n",
    "\n",
    "human_hps = PlannerHyperparameters(dynamics=human,\n",
    "                             time_horizon=time_horizon,\n",
    "                             Q=Q,\n",
    "                             R=R,\n",
    "                             Qt=Qt,\n",
    "                             markup=markup,\n",
    "                             collision_slack=collision_slack,\n",
    "                             trust_region_weight=trust_region_weight,\n",
    "                             inconvenience_weights=inconvenience_weights,\n",
    "                             collision_radius=collision_radius,\n",
    "                             inconvenience_ratio=inconvenience_ratio)\n",
    "\n",
    "\n",
    "\n",
    "dt = 0.1\n",
    "velocity_max = 1.5\n",
    "\n",
    "robot = DynamicallyExtendedUnicycle(dt, velocity_max, [1., 1.5])\n",
    "\n",
    "Q = diagm([0.0; 0.0; 0.; 0.])\n",
    "R = diagm([1.; 1.]) \n",
    "Qt = diagm([10.; 10.; 0.; 0.])\n",
    "\n",
    "robot_hps = PlannerHyperparameters(dynamics=robot,\n",
    "                             time_horizon=time_horizon,\n",
    "                             Q=Q,\n",
    "                             R=R,\n",
    "                             Qt=Qt,\n",
    "                             markup=markup,\n",
    "                             collision_slack=collision_slack,\n",
    "                             trust_region_weight=trust_region_weight,\n",
    "                             inconvenience_weights=inconvenience_weights,\n",
    "                             collision_radius=collision_radius,\n",
    "                             inconvenience_ratio=inconvenience_ratio)\n",
    "\n",
    "robot_initial_state = [0.; 0.; 0.; 0.]\n",
    "robot_goal_state = [10.; 0.; 0.; 0.]\n",
    "human_initial_state = [10.; 0.; pi; 0.]\n",
    "human_goal_state = [0.; 0.; pi; 0.]\n",
    "\n",
    "robot_ip = InteractionPlanner(robot_hps, \n",
    "                        human_hps,\n",
    "                        robot_initial_state,\n",
    "                        human_initial_state,\n",
    "                        robot_goal_state,\n",
    "                        human_goal_state,\n",
    "                        solver)\n",
    "                             \n",
    "human_ip = InteractionPlanner(human_hps, \n",
    "                        robot_hps,\n",
    "                        human_initial_state,\n",
    "                        robot_initial_state,\n",
    "                        human_goal_state,\n",
    "                        robot_goal_state,\n",
    "                        solver)"
   ]
  },
  {
   "cell_type": "markdown",
   "metadata": {},
   "source": [
    "### Mohr's Circle-ish Implementation "
   ]
  },
  {
   "cell_type": "code",
   "execution_count": null,
   "metadata": {},
   "outputs": [],
   "source": [
    "include(\"experiments.jl\")"
   ]
  },
  {
   "cell_type": "code",
   "execution_count": null,
   "metadata": {},
   "outputs": [],
   "source": [
    "test_human = DynamicallyExtendedUnicycle(dt, velocity_max, [1., 1.5])"
   ]
  },
  {
   "cell_type": "code",
   "execution_count": null,
   "metadata": {},
   "outputs": [],
   "source": [
    "robot_states = mohrs_circle_states(test_human, [0., 0., 0., 0.], [10., 0., 0., 0.], pi / 6);"
   ]
  },
  {
   "cell_type": "code",
   "execution_count": null,
   "metadata": {},
   "outputs": [],
   "source": [
    "human_states = [([10., 0., pi, 0.], [0., 0., pi, 0.])]"
   ]
  },
  {
   "cell_type": "markdown",
   "metadata": {},
   "source": [
    "### Simulation Code"
   ]
  },
  {
   "cell_type": "code",
   "execution_count": null,
   "metadata": {},
   "outputs": [],
   "source": [
    "sim_test = simulation_sweep(robot_ip, human_ip, 50, robot_states, human_states)"
   ]
  },
  {
   "cell_type": "code",
   "execution_count": null,
   "metadata": {},
   "outputs": [],
   "source": [
    "compute_distance_to_goal(sim_test[\"Run 1\"])"
   ]
  },
  {
   "cell_type": "code",
   "execution_count": null,
   "metadata": {},
   "outputs": [],
   "source": [
    "combine_sim_data_plots(sim_test[\"Run 1\"])"
   ]
  },
  {
   "cell_type": "code",
   "execution_count": null,
   "metadata": {},
   "outputs": [],
   "source": [
    "compute_path_irregularity_index(sim_test[\"Run 1\"])"
   ]
  },
  {
   "cell_type": "markdown",
   "metadata": {},
   "source": [
    "# Data Metrics"
   ]
  },
  {
   "cell_type": "code",
   "execution_count": null,
   "metadata": {},
   "outputs": [],
   "source": [
    "compute_average_control_effort(sim_data)"
   ]
  },
  {
   "cell_type": "code",
   "execution_count": null,
   "metadata": {},
   "outputs": [],
   "source": [
    "compute_average_acceleration_per_segment(sim_data)"
   ]
  },
  {
   "cell_type": "code",
   "execution_count": null,
   "metadata": {},
   "outputs": [],
   "source": [
    "compute_path_efficiency(sim_data)"
   ]
  },
  {
   "cell_type": "code",
   "execution_count": null,
   "metadata": {},
   "outputs": [],
   "source": [
    "compute_path_irregularity_index(sim_data)"
   ]
  },
  {
   "cell_type": "code",
   "execution_count": null,
   "metadata": {},
   "outputs": [],
   "source": [
    "compute_minimum_distance(sim_data)"
   ]
  },
  {
   "cell_type": "code",
   "execution_count": null,
   "metadata": {},
   "outputs": [],
   "source": [
    "ttc = compute_time_to_collision(sim_data)\n",
    "# ttc[\"Time to collision\"]\n",
    "# plot(1:50, ttc[\"Time to collision\"])"
   ]
  },
  {
   "cell_type": "code",
   "execution_count": null,
   "metadata": {},
   "outputs": [],
   "source": [
    "compute_dθ_dt(sim_data)"
   ]
  },
  {
   "cell_type": "code",
   "execution_count": null,
   "metadata": {},
   "outputs": [],
   "source": [
    "compute_θ(sim_data)"
   ]
  },
  {
   "cell_type": "code",
   "execution_count": null,
   "metadata": {},
   "outputs": [],
   "source": [
    "compute_time(sim_data)"
   ]
  },
  {
   "cell_type": "code",
   "execution_count": null,
   "metadata": {},
   "outputs": [],
   "source": [
    "test_data_sweep_metrics = evaluate_sim(sim_test)"
   ]
  },
  {
   "cell_type": "code",
   "execution_count": null,
   "metadata": {},
   "outputs": [],
   "source": [
    "test_data_sweep_metrics[\"Run 5\"].plots[\"Combined Plot\"]"
   ]
  },
  {
   "cell_type": "code",
   "execution_count": null,
   "metadata": {},
   "outputs": [],
   "source": [
    "display_data(test_data_sweep_metrics)"
   ]
  },
  {
   "cell_type": "markdown",
   "metadata": {},
   "source": [
    "# Experimental Setup"
   ]
  },
  {
   "cell_type": "code",
   "execution_count": null,
   "metadata": {},
   "outputs": [],
   "source": [
    "using Serialization"
   ]
  },
  {
   "cell_type": "code",
   "execution_count": null,
   "metadata": {},
   "outputs": [],
   "source": [
    "run_experiment(robot_ip, test_human_ip, 50, circular_experiment_states, [([10.; 0.; pi; 0.], [0.; 0.; pi; 0.])], \"experimental_setup/metrics_test.dat\")"
   ]
  },
  {
   "cell_type": "code",
   "execution_count": null,
   "metadata": {},
   "outputs": [],
   "source": [
    "using Serialization"
   ]
  },
  {
   "cell_type": "code",
   "execution_count": null,
   "metadata": {},
   "outputs": [],
   "source": [
    "proactiveHRI_robot_cooperative_human_circular = deserialize(\"../experimental_results/ProactiveHRI_robot_cooperative_human_circular.dat\")\n",
    "proactiveHRI_robot_cooperative_human_head_on = deserialize(\"../experimental_results/ProactiveHRI_robot_cooperative_human_head_on.dat\")\n",
    "SFM_robot_cooperative_human_circular = deserialize(\"../experimental_results/SFM_robot_cooperative_human_circular.dat\")\n",
    "SFM_robot_cooperative_human_head_on = deserialize(\"../experimental_results/SFM_robot_cooperative_human_head_on.dat\")\n",
    "\n"
   ]
  },
  {
   "cell_type": "code",
   "execution_count": null,
   "metadata": {},
   "outputs": [],
   "source": [
    "phri_ego_pi = [proactiveHRI_robot_cooperative_human_head_on[\"Run $(i)\"].PI[\"ego PI\"] for i in 1:199]\n",
    "phri_other_pi = [proactiveHRI_robot_cooperative_human_head_on[\"Run $(i)\"].PI[\"other PI\"] for i in 1:199]\n",
    "sfm_ego_pi = [SFM_robot_cooperative_human_head_on[\"Run $(i)\"].PI[\"ego PI\"] for i in 1:199]\n",
    "sfm_other_pi = [SFM_robot_cooperative_human_head_on[\"Run $(i)\"].PI[\"other PI\"] for i in 1:199]"
   ]
  },
  {
   "cell_type": "code",
   "execution_count": null,
   "metadata": {},
   "outputs": [],
   "source": [
    "using Statistics"
   ]
  },
  {
   "cell_type": "code",
   "execution_count": null,
   "metadata": {},
   "outputs": [],
   "source": [
    "mean(sfm_ego_pi), std(sfm_ego_pi), mean(sfm_other_pi), std(sfm_other_pi)"
   ]
  },
  {
   "cell_type": "code",
   "execution_count": null,
   "metadata": {},
   "outputs": [],
   "source": [
    "mean(phri_ego_pi), std(phri_ego_pi), mean(phri_other_pi), std(phri_other_pi)"
   ]
  },
  {
   "cell_type": "code",
   "execution_count": null,
   "metadata": {},
   "outputs": [],
   "source": [
    "display_data(SFM_robot_cooperative_human_head_on)"
   ]
  },
  {
   "cell_type": "code",
   "execution_count": null,
   "metadata": {},
   "outputs": [],
   "source": [
    "display_data(SFM_robot_cooperative_human_head_on)"
   ]
  },
  {
   "cell_type": "markdown",
   "metadata": {},
   "source": [
    "# Social Forces Sim w/ Dynamically Extended Unicycle Model"
   ]
  },
  {
   "cell_type": "code",
   "execution_count": 68,
   "metadata": {},
   "outputs": [
    {
     "data": {
      "text/plain": [
       "InteractionPlanner\n",
       "  ego_planner: AgentPlanner\n",
       "  other_planner: AgentPlanner\n"
      ]
     },
     "metadata": {},
     "output_type": "display_data"
    }
   ],
   "source": [
    "# setting up the human planner to be used for experiments (cooperative human)\n",
    "solver = \"ECOS\"\n",
    "dt = 0.1\n",
    "velocity_max = 1.5\n",
    "human = DynamicallyExtendedUnicycle(dt, velocity_max, [1., 1.5])\n",
    "\n",
    "time_horizon = 25\n",
    "Q = diagm([0.0; 0.0; 0.; 0.])\n",
    "R = diagm([1.; 0.3]) \n",
    "Qt = diagm([10.; 10.; 0.; 0.])\n",
    "markup = 1.05\n",
    "collision_slack = 150.\n",
    "trust_region_weight = 5.\n",
    "inconvenience_weights = [1.; 1.; 0.1]\n",
    "collision_radius = 1.\n",
    "inconvenience_ratio = 0.2\n",
    "\n",
    "\n",
    "human_hps = PlannerHyperparameters(dynamics=human,\n",
    "                             time_horizon=time_horizon,\n",
    "                             Q=Q,\n",
    "                             R=R,\n",
    "                             Qt=Qt,\n",
    "                             markup=markup,\n",
    "                             collision_slack=collision_slack,\n",
    "                             trust_region_weight=trust_region_weight,\n",
    "                             inconvenience_weights=inconvenience_weights,\n",
    "                             collision_radius=collision_radius,\n",
    "                             inconvenience_ratio=inconvenience_ratio)\n",
    "\n",
    "\n",
    "\n",
    "dt = 0.1\n",
    "velocity_max = 1.5\n",
    "# robot = Unicycle(dt, velocity_max, [1.0, 2.])\n",
    "robot = DynamicallyExtendedUnicycle(dt, velocity_max, [1., 1.5])\n",
    "\n",
    "# time_horizon = 45\n",
    "Q = diagm([0.0; 0.0; 0.; 0.])\n",
    "R = diagm([1.; 0.0]) \n",
    "Qt = diagm([10.; 10.; 0.; 0.])\n",
    "\n",
    "robot_hps = PlannerHyperparameters(dynamics=robot,\n",
    "                             time_horizon=time_horizon,\n",
    "                             Q=Q,\n",
    "                             R=R,\n",
    "                             Qt=Qt,\n",
    "                             markup=markup,\n",
    "                             collision_slack=collision_slack,\n",
    "                             trust_region_weight=trust_region_weight,\n",
    "                             inconvenience_weights=inconvenience_weights,\n",
    "                             collision_radius=collision_radius,\n",
    "                             inconvenience_ratio=inconvenience_ratio)\n",
    "\n",
    "robot_initial_state = [0.; 0.; 0.; 0.]\n",
    "robot_goal_state = [10.; 0.; 0.; 0.]\n",
    "human_initial_state = [10.; 0.; pi; 0.]\n",
    "human_goal_state = [0.; 0.; pi; 0.]\n",
    "# setting up the IP object to be serialized and saved for all trials\n",
    "human_ip = InteractionPlanner(human_hps, \n",
    "                        robot_hps,\n",
    "                        human_initial_state,\n",
    "                        robot_initial_state,\n",
    "                        human_goal_state,\n",
    "                        robot_goal_state,\n",
    "                        solver)\n",
    "\n",
    "# saving object\n",
    "# serialize(\"../experimental_setup/cooperative_human_ip.dat\", human_ip)"
   ]
  },
  {
   "cell_type": "code",
   "execution_count": null,
   "metadata": {},
   "outputs": [],
   "source": [
    "robot = DynamicallyExtendedUnicycle(dt, 2., [1., 2.])"
   ]
  },
  {
   "cell_type": "code",
   "execution_count": null,
   "metadata": {},
   "outputs": [],
   "source": [
    "metrics = run_experiment(robot, human_ip, 50, circular_states, [([10.; 0.; pi; 0.], [0.; 0.; pi; 0.])], p=1., q=2., τ=2., ψ=pi/6, c=0.3)"
   ]
  },
  {
   "cell_type": "markdown",
   "metadata": {},
   "source": [
    "# HJ Reachability Experimentation Code"
   ]
  },
  {
   "cell_type": "code",
   "execution_count": null,
   "metadata": {},
   "outputs": [],
   "source": [
    "using Interpolations\n",
    "using MAT\n",
    "include(\"velocity_obstacles.jl\")"
   ]
  },
  {
   "cell_type": "code",
   "execution_count": 69,
   "metadata": {},
   "outputs": [],
   "source": [
    "test_robot = DynamicallyExtendedUnicycle(0.1, 2., [1., 0.5])\n",
    "test_robot_hps = PlannerHyperparameters(test_robot)\n",
    "robot_states = mohrs_circle_states(test_robot, [0., 0., 0., 0.], [10., 0., 0., 0.], pi / 6);"
   ]
  },
  {
   "cell_type": "code",
   "execution_count": 70,
   "metadata": {},
   "outputs": [
    {
     "name": "stderr",
     "output_type": "stream",
     "text": [
      "\r0.0%┣                                               ┫ 0/12 [00:00<00:00, -0s/it]\n",
      "\u001b[1A"
     ]
    },
    {
     "name": "stderr",
     "output_type": "stream",
     "text": [
      "\r8.3%┣███▋                                       ┫ 1/12 [00:07<Inf:Inf, InfGs/it]\n",
      "\u001b[1A"
     ]
    },
    {
     "name": "stderr",
     "output_type": "stream",
     "text": [
      "\r16.7%┣███████▊                                      ┫ 2/12 [00:13<02:15, 13s/it]\n",
      "\u001b[1A"
     ]
    },
    {
     "name": "stderr",
     "output_type": "stream",
     "text": [
      "\r25.0%┣███████████▌                                  ┫ 3/12 [00:20<01:31, 10s/it]\n",
      "\u001b[1A"
     ]
    },
    {
     "name": "stderr",
     "output_type": "stream",
     "text": [
      "\r33.3%┣███████████████▊                               ┫ 4/12 [00:27<01:12, 9s/it]\n",
      "\u001b[1A"
     ]
    },
    {
     "name": "stderr",
     "output_type": "stream",
     "text": [
      "\r41.7%┣███████████████████▋                           ┫ 5/12 [00:33<00:59, 8s/it]\n",
      "\u001b[1A"
     ]
    },
    {
     "name": "stderr",
     "output_type": "stream",
     "text": [
      "\r50.0%┣███████████████████████▌                       ┫ 6/12 [00:40<00:48, 8s/it]\n",
      "\u001b[1A"
     ]
    },
    {
     "name": "stderr",
     "output_type": "stream",
     "text": [
      "\r58.3%┣███████████████████████████▍                   ┫ 7/12 [00:47<00:39, 8s/it]\n",
      "\u001b[1A"
     ]
    },
    {
     "name": "stderr",
     "output_type": "stream",
     "text": [
      "\r66.7%┣███████████████████████████████▍               ┫ 8/12 [00:54<00:31, 8s/it]\n",
      "\u001b[1A"
     ]
    },
    {
     "name": "stderr",
     "output_type": "stream",
     "text": [
      "\r75.0%┣███████████████████████████████████▎           ┫ 9/12 [01:01<00:23, 8s/it]\n",
      "\u001b[1A"
     ]
    },
    {
     "name": "stderr",
     "output_type": "stream",
     "text": [
      "\r83.3%┣██████████████████████████████████████▍       ┫ 10/12 [01:08<00:15, 8s/it]\n",
      "\u001b[1A"
     ]
    },
    {
     "name": "stderr",
     "output_type": "stream",
     "text": [
      "\r91.7%┣██████████████████████████████████████████▏   ┫ 11/12 [01:15<00:08, 8s/it]\n",
      "\u001b[1A"
     ]
    },
    {
     "name": "stderr",
     "output_type": "stream",
     "text": [
      "\r100.0%┣█████████████████████████████████████████████┫ 12/12 [01:22<00:00, 7s/it]\n",
      "\u001b[1A\r100.0%┣█████████████████████████████████████████████┫ 12/12 [01:22<00:00, 7s/it]\n"
     ]
    },
    {
     "data": {
      "text/plain": [
       "Dict{String, SimData} with 12 entries:\n",
       "  \"Run 4\"  => SimData(IPSimParams(PlannerParams(PlannerHyperparameters{Float64}…\n",
       "  \"Run 10\" => SimData(IPSimParams(PlannerParams(PlannerHyperparameters{Float64}…\n",
       "  \"Run 1\"  => SimData(IPSimParams(PlannerParams(PlannerHyperparameters{Float64}…\n",
       "  \"Run 11\" => SimData(IPSimParams(PlannerParams(PlannerHyperparameters{Float64}…\n",
       "  \"Run 6\"  => SimData(IPSimParams(PlannerParams(PlannerHyperparameters{Float64}…\n",
       "  \"Run 12\" => SimData(IPSimParams(PlannerParams(PlannerHyperparameters{Float64}…\n",
       "  \"Run 2\"  => SimData(IPSimParams(PlannerParams(PlannerHyperparameters{Float64}…\n",
       "  \"Run 9\"  => SimData(IPSimParams(PlannerParams(PlannerHyperparameters{Float64}…\n",
       "  \"Run 5\"  => SimData(IPSimParams(PlannerParams(PlannerHyperparameters{Float64}…\n",
       "  \"Run 8\"  => SimData(IPSimParams(PlannerParams(PlannerHyperparameters{Float64}…\n",
       "  \"Run 7\"  => SimData(IPSimParams(PlannerParams(PlannerHyperparameters{Float64}…\n",
       "  \"Run 3\"  => SimData(IPSimParams(PlannerParams(PlannerHyperparameters{Float64}…"
      ]
     },
     "metadata": {},
     "output_type": "display_data"
    }
   ],
   "source": [
    "hj_sim_sweep_test = simulation_sweep(test_robot_hps, human_ip, 50, robot_states, [([10.; 0.; pi; 0.], [0.; 0.; pi; 0.])], other_ibr_iterations=3)"
   ]
  },
  {
   "cell_type": "code",
   "execution_count": 71,
   "metadata": {},
   "outputs": [
    {
     "name": "stderr",
     "output_type": "stream",
     "text": [
      "\r0.0%┣                                               ┫ 0/12 [00:00<00:00, -0s/it]\n"
     ]
    },
    {
     "name": "stdout",
     "output_type": "stream",
     "text": [
      "5151"
     ]
    },
    {
     "name": "stderr",
     "output_type": "stream",
     "text": [
      "\u001b[1A\r8.3%┣███▋                                       ┫ 1/12 [00:00<Inf:Inf, InfGs/it]\n"
     ]
    },
    {
     "name": "stdout",
     "output_type": "stream",
     "text": [
      "5151"
     ]
    },
    {
     "name": "stderr",
     "output_type": "stream",
     "text": [
      "\u001b[1A\r16.7%┣███████▉                                       ┫ 2/12 [00:00<00:03, 4it/s]\n"
     ]
    },
    {
     "name": "stdout",
     "output_type": "stream",
     "text": [
      "5151"
     ]
    },
    {
     "name": "stderr",
     "output_type": "stream",
     "text": [
      "\u001b[1A\r25.0%┣███████████▊                                   ┫ 3/12 [00:00<00:02, 6it/s]\n"
     ]
    },
    {
     "name": "stdout",
     "output_type": "stream",
     "text": [
      "5151"
     ]
    },
    {
     "name": "stderr",
     "output_type": "stream",
     "text": [
      "\u001b[1A\r33.3%┣███████████████▊                               ┫ 4/12 [00:00<00:01, 6it/s]\n"
     ]
    },
    {
     "name": "stdout",
     "output_type": "stream",
     "text": [
      "5151"
     ]
    },
    {
     "name": "stderr",
     "output_type": "stream",
     "text": [
      "\u001b[1A\r41.7%┣███████████████████▋                           ┫ 5/12 [00:01<00:01, 6it/s]\n"
     ]
    },
    {
     "name": "stdout",
     "output_type": "stream",
     "text": [
      "5151"
     ]
    },
    {
     "name": "stderr",
     "output_type": "stream",
     "text": [
      "\u001b[1A\r50.0%┣███████████████████████▌                       ┫ 6/12 [00:01<00:01, 7it/s]\n"
     ]
    },
    {
     "name": "stdout",
     "output_type": "stream",
     "text": [
      "5151"
     ]
    },
    {
     "name": "stderr",
     "output_type": "stream",
     "text": [
      "\u001b[1A\r58.3%┣███████████████████████████▍                   ┫ 7/12 [00:01<00:01, 7it/s]\n"
     ]
    },
    {
     "name": "stdout",
     "output_type": "stream",
     "text": [
      "5151"
     ]
    },
    {
     "name": "stderr",
     "output_type": "stream",
     "text": [
      "\u001b[1A\r66.7%┣███████████████████████████████▍               ┫ 8/12 [00:01<00:01, 7it/s]\n"
     ]
    },
    {
     "name": "stdout",
     "output_type": "stream",
     "text": [
      "5151"
     ]
    },
    {
     "name": "stderr",
     "output_type": "stream",
     "text": [
      "\u001b[1A\r75.0%┣███████████████████████████████████▎           ┫ 9/12 [00:01<00:00, 7it/s]\n"
     ]
    },
    {
     "name": "stdout",
     "output_type": "stream",
     "text": [
      "5151"
     ]
    },
    {
     "name": "stderr",
     "output_type": "stream",
     "text": [
      "\u001b[1A\r83.3%┣██████████████████████████████████████▍       ┫ 10/12 [00:01<00:00, 7it/s]\n"
     ]
    },
    {
     "name": "stdout",
     "output_type": "stream",
     "text": [
      "5151"
     ]
    },
    {
     "name": "stderr",
     "output_type": "stream",
     "text": [
      "\u001b[1A\r91.7%┣██████████████████████████████████████████▏   ┫ 11/12 [00:01<00:00, 7it/s]\n"
     ]
    },
    {
     "name": "stdout",
     "output_type": "stream",
     "text": [
      "5151"
     ]
    },
    {
     "name": "stderr",
     "output_type": "stream",
     "text": [
      "\u001b[1A\r100.0%┣█████████████████████████████████████████████┫ 12/12 [00:01<00:00, 8it/s]\n",
      "\u001b[1A\r100.0%┣█████████████████████████████████████████████┫ 12/12 [00:01<00:00, 8it/s]\n"
     ]
    },
    {
     "data": {
      "text/plain": [
       "Dict{String, SimMetrics} with 12 entries:\n",
       "  \"Run 4\"  => SimMetrics(SimData(IPSimParams(PlannerParams(PlannerHyperparamete…\n",
       "  \"Run 10\" => SimMetrics(SimData(IPSimParams(PlannerParams(PlannerHyperparamete…\n",
       "  \"Run 1\"  => SimMetrics(SimData(IPSimParams(PlannerParams(PlannerHyperparamete…\n",
       "  \"Run 11\" => SimMetrics(SimData(IPSimParams(PlannerParams(PlannerHyperparamete…\n",
       "  \"Run 6\"  => SimMetrics(SimData(IPSimParams(PlannerParams(PlannerHyperparamete…\n",
       "  \"Run 12\" => SimMetrics(SimData(IPSimParams(PlannerParams(PlannerHyperparamete…\n",
       "  \"Run 2\"  => SimMetrics(SimData(IPSimParams(PlannerParams(PlannerHyperparamete…\n",
       "  \"Run 9\"  => SimMetrics(SimData(IPSimParams(PlannerParams(PlannerHyperparamete…\n",
       "  \"Run 5\"  => SimMetrics(SimData(IPSimParams(PlannerParams(PlannerHyperparamete…\n",
       "  \"Run 8\"  => SimMetrics(SimData(IPSimParams(PlannerParams(PlannerHyperparamete…\n",
       "  \"Run 7\"  => SimMetrics(SimData(IPSimParams(PlannerParams(PlannerHyperparamete…\n",
       "  \"Run 3\"  => SimMetrics(SimData(IPSimParams(PlannerParams(PlannerHyperparamete…"
      ]
     },
     "metadata": {},
     "output_type": "display_data"
    }
   ],
   "source": [
    "test_metrics = evaluate_sim(hj_sim_sweep_test)"
   ]
  },
  {
   "cell_type": "code",
   "execution_count": 72,
   "metadata": {},
   "outputs": [
    {
     "data": {
      "text/plain": [
       "GtkLabelLeaf(name=\"\", parent, width-request=-1, height-request=-1, visible=TRUE, sensitive=TRUE, app-paintable=FALSE, can-focus=FALSE, has-focus=FALSE, is-focus=FALSE, focus-on-click=TRUE, can-default=FALSE, has-default=FALSE, receives-default=FALSE, composite-child=FALSE, style, events=0, no-show-all=FALSE, has-tooltip=FALSE, tooltip-markup=NULL, tooltip-text=NULL, window, opacity=1.000000, double-buffered, halign=GTK_ALIGN_FILL, valign=GTK_ALIGN_FILL, margin-left, margin-right, margin-start=0, margin-end=0, margin-top=0, margin-bottom=100, margin=100, hexpand=FALSE, vexpand=FALSE, hexpand-set=FALSE, vexpand-set=TRUE, expand=FALSE, scale-factor=1, xpad, ypad, label=\"<b><u>Sim 12 Metrics</u></b>\n",
       "<b> </b> \n",
       "<b>Ego Average Acceleration = </b>0.06195\n",
       "<b>Other Average Acceleration = </b>0.2926\n",
       "<b>-</b><b>-</b><b>-</b><b>-</b><b>-</b><b>-</b><b>-</b><b>-</b><b>-</b><b>-</b><b>-</b><b>-</b><b>-</b><b>-</b><b>-</b><b>-</b><b>-</b><b>-</b><b>-</b><b>-</b><b>-</b><b>-</b><b>-</b><b>-</b><b>-</b><b>-</b><b>-</b><b>-</b><b>-</b><b>-</b><b>-</b><b>-</b><b>-</b><b>-</b><b>-</b><b>-</b><b>-</b><b>-</b><b>-</b><b>-</b><b>-</b><b>-</b><b>-</b><b>-</b><b>-</b><b>-</b><b>-</b><b>-</b><b>-</b><b>-</b><b>-</b><b>-</b><b>-</b><b>-</b><b>-</b><b>-</b><b>-</b><b>-</b>\n",
       "<b>Ego PI = </b>4.676\n",
       "<b>Other PI = </b>5.814\n",
       "<b>-</b><b>-</b><b>-</b><b>-</b><b>-</b><b>-</b><b>-</b><b>-</b><b>-</b><b>-</b><b>-</b><b>-</b><b>-</b><b>-</b><b>-</b><b>-</b><b>-</b><b>-</b><b>-</b><b>-</b><b>-</b><b>-</b><b>-</b><b>-</b><b>-</b><b>-</b><b>-</b><b>-</b><b>-</b><b>-</b><b>-</b><b>-</b><b>-</b><b>-</b><b>-</b><b>-</b><b>-</b><b>-</b><b>-</b><b>-</b><b>-</b><b>-</b><b>-</b><b>-</b><b>-</b><b>-</b><b>-</b><b>-</b><b>-</b><b>-</b><b>-</b><b>-</b><b>-</b><b>-</b><b>-</b><b>-</b><b>-</b><b>-</b>\n",
       "<b>Ego PE = </b>0.2834\n",
       "<b>Other PE = </b>1.003\n",
       "<b>-</b><b>-</b><b>-</b><b>-</b><b>-</b><b>-</b><b>-</b><b>-</b><b>-</b><b>-</b><b>-</b><b>-</b><b>-</b><b>-</b><b>-</b><b>-</b><b>-</b><b>-</b><b>-</b><b>-</b><b>-</b><b>-</b><b>-</b><b>-</b><b>-</b><b>-</b><b>-</b><b>-</b><b>-</b><b>-</b><b>-</b><b>-</b><b>-</b><b>-</b><b>-</b><b>-</b><b>-</b><b>-</b><b>-</b><b>-</b><b>-</b><b>-</b><b>-</b><b>-</b><b>-</b><b>-</b><b>-</b><b>-</b><b>-</b><b>-</b><b>-</b><b>-</b><b>-</b><b>-</b><b>-</b><b>-</b><b>-</b><b>-</b>\n",
       "<b>Minimum Distance = </b>1.633\n",
       "<b>-</b><b>-</b><b>-</b><b>-</b><b>-</b><b>-</b><b>-</b><b>-</b><b>-</b><b>-</b><b>-</b><b>-</b><b>-</b><b>-</b><b>-</b><b>-</b><b>-</b><b>-</b><b>-</b><b>-</b><b>-</b><b>-</b><b>-</b><b>-</b><b>-</b><b>-</b><b>-</b><b>-</b><b>-</b><b>-</b><b>-</b><b>-</b><b>-</b><b>-</b><b>-</b><b>-</b><b>-</b><b>-</b><b>-</b><b>-</b><b>-</b><b>-</b><b>-</b><b>-</b><b>-</b><b>-</b><b>-</b><b>-</b><b>-</b><b>-</b><b>-</b><b>-</b><b>-</b><b>-</b><b>-</b><b>-</b><b>-</b><b>-</b>\n",
       "<b>Max Solve Time: </b>0.0 s\n",
       "<b>Average Solve Time: </b>0.0 s\n",
       "<b>Planning Deadline Overruns: </b>0\", attributes, use-markup=TRUE, use-underline=FALSE, justify=GTK_JUSTIFY_LEFT, pattern, wrap=FALSE, wrap-mode=PANGO_WRAP_WORD, selectable=FALSE, mnemonic-keyval=16777215, mnemonic-widget, cursor-position=0, selection-bound=0, ellipsize=PANGO_ELLIPSIZE_NONE, width-chars=-1, single-line-mode=FALSE, angle=0.000000, max-width-chars=-1, track-visited-links=TRUE, lines=-1, xalign=0.500000, yalign=0.500000)"
      ]
     },
     "metadata": {},
     "output_type": "display_data"
    }
   ],
   "source": [
    "display_data(test_metrics)"
   ]
  },
  {
   "cell_type": "code",
   "execution_count": null,
   "metadata": {},
   "outputs": [],
   "source": [
    "combine_sim_data_plots(hj_sim_sweep_test[\"Run 2\"])"
   ]
  },
  {
   "cell_type": "code",
   "execution_count": null,
   "metadata": {},
   "outputs": [],
   "source": [
    "compute_path_irregularity_index(hj_sim_sweep_test[\"Run 2\"])"
   ]
  },
  {
   "cell_type": "code",
   "execution_count": null,
   "metadata": {},
   "outputs": [],
   "source": [
    "metrics_test = run_experiment(test_robot_hps, human_ip, 50, robot_states, [([10.; 0.; pi; 0.], [0.; 0.; pi; 0.])])"
   ]
  },
  {
   "cell_type": "code",
   "execution_count": null,
   "metadata": {},
   "outputs": [],
   "source": [
    "metrics_test[\"Run 1\"].sim_data"
   ]
  },
  {
   "cell_type": "code",
   "execution_count": null,
   "metadata": {},
   "outputs": [],
   "source": [
    "display_data(metrics_test)"
   ]
  },
  {
   "cell_type": "code",
   "execution_count": null,
   "metadata": {},
   "outputs": [],
   "source": [
    "function compute_distance_to_goal(sim_data)\n",
    "    dt = sim_data.sim_params.ego_planner_params.hps.dynamics.dt\n",
    "    sim_horizon = length(sim_data.ego_states[:, 1])\n",
    "\n",
    "    ego_dyn = sim_data.sim_params.ego_planner_params.hps.dynamics\n",
    "    ego_xs = sim_data.ego_states\n",
    "    ego_us = sim_data.ego_controls\n",
    "    ego_goal = sim_data.sim_params.ego_planner_params.opt_params.goal_state\n",
    "\n",
    "    other_dyn = sim_data.sim_params.other_planner_params.hps.dynamics\n",
    "    other_xs = sim_data.other_states\n",
    "    other_us = sim_data.other_controls\n",
    "    other_goal = sim_data.sim_params.other_planner_params.opt_params.goal_state\n",
    "\n",
    "    ego_dist = norm(get_position(ego_dyn, ego_goal - ego_xs[end, :]))\n",
    "    other_dist = norm(get_position(other_dyn, other_goal - other_xs[end, :]))\n",
    "\n",
    "    Dict(\"ego dist to goal\" => ego_dist, \"other dist to goal\" => other_dist)\n",
    "end"
   ]
  },
  {
   "cell_type": "markdown",
   "metadata": {},
   "source": [
    "# Optimal controlling planner"
   ]
  },
  {
   "cell_type": "code",
   "execution_count": 5,
   "metadata": {},
   "outputs": [
    {
     "data": {
      "text/plain": [
       "simulate_oc (generic function with 1 method)"
      ]
     },
     "metadata": {},
     "output_type": "display_data"
    }
   ],
   "source": [
    "function simulate_oc(ego_ip::InteractionPlanner, other_ip::InteractionPlanner, sim_horizon::Int64; ego_ibr_iterations=3::Int64, other_ibr_iterations=3::Int64, leader=\"ego\"::String, seed=010100000111001001101111011000010110001101110100011010010111011001100101010010000101001001001001)\n",
    "    # Given the IP problem setup of the ego agent and other agent\n",
    "    # initialize matrices for saving the paths\n",
    "\n",
    "    ego_dyn = ego_ip.ego_planner.incon.hps.dynamics\n",
    "    other_dyn = other_ip.ego_planner.incon.hps.dynamics\n",
    "\n",
    "    ego_traj = Vector{Vector{Float64}}(undef, sim_horizon + 1)\n",
    "    ego_controls = Vector{Vector{Float64}}(undef, sim_horizon)\n",
    "    other_traj = Vector{Vector{Float64}}(undef, sim_horizon + 1)\n",
    "    other_controls = Vector{Vector{Float64}}(undef, sim_horizon)\n",
    "\n",
    "    ego_traj[1] = ego_ip.ego_planner.incon.opt_params.initial_state\n",
    "    other_traj[1] = other_ip.ego_planner.incon.opt_params.initial_state\n",
    "\n",
    "    ego_solve_times = Vector{Float64}(undef, sim_horizon)\n",
    "    other_solve_times = Vector{Float64}(undef, sim_horizon)\n",
    "\n",
    "    # Uses MPC function to simulate to a given time horizon\n",
    "    for i in 1:(sim_horizon)\n",
    "        Random.seed!(seed + i)\n",
    "\n",
    "        ego_state = ego_traj[i]\n",
    "        other_state = other_traj[i]\n",
    "        # solve for the next iteration\n",
    "\n",
    "        ego_solve_start = time()\n",
    "        ego_control = mpc_step(ego_ip, ego_state, other_state, ibr_iterations=ego_ibr_iterations, leader=leader)\n",
    "        ego_solve_end = time()\n",
    "        ego_solve_times[i] = ego_solve_end - ego_solve_start\n",
    "\n",
    "        other_solve_start = time()\n",
    "        other_control = mpc_step(other_ip, other_state, ego_state, ibr_iterations=other_ibr_iterations, leader=leader)\n",
    "        other_solve_end = time()\n",
    "        other_solve_times[i] = other_solve_end - other_solve_start\n",
    "\n",
    "        other_noisy_control = other_control .* (1 .+ randn(2) * 0.05)\n",
    "\n",
    "        ego_state = step(ego_dyn, ego_state, ego_control)\n",
    "        other_state = step(other_dyn, other_state, other_noisy_control)\n",
    "\n",
    "        ego_traj[i+1] = ego_state\n",
    "        other_traj[i+1] = other_state\n",
    "        ego_controls[i] = ego_control\n",
    "        other_controls[i] = other_noisy_control\n",
    "\n",
    "    end\n",
    "\n",
    "    # cast vector of vectors to matrix for easier plotting\n",
    "    ego_traj = vector_of_vectors_to_matrix(ego_traj)\n",
    "    ego_controls = vector_of_vectors_to_matrix(ego_controls)\n",
    "    other_traj = vector_of_vectors_to_matrix(other_traj)\n",
    "    other_controls = vector_of_vectors_to_matrix(other_controls)\n",
    "\n",
    "    ego_traj, ego_controls, other_traj, other_controls, (ego_solve_times, other_solve_times)\n",
    "end"
   ]
  },
  {
   "cell_type": "code",
   "execution_count": 13,
   "metadata": {},
   "outputs": [
    {
     "data": {
      "text/plain": [
       "PlannerHyperparameters{Float64}\n",
       "  dynamics: DynamicallyExtendedUnicycle{Float64}\n",
       "  time_horizon: Int64 25\n",
       "  Q: Array{Float64}((4, 4)) [0.0 0.0 0.0 0.0; 0.0 0.0 0.0 0.0; 0.0 0.0 0.0 0.0; 0.0 0.0 0.0 0.0]\n",
       "  R: Array{Float64}((2, 2)) [1.0 0.0; 0.0 1.0]\n",
       "  Qt: Array{Float64}((4, 4)) [10.0 0.0 0.0 0.0; 0.0 10.0 0.0 0.0; 0.0 0.0 0.0 0.0; 0.0 0.0 0.0 0.0]\n",
       "  markup: Float64 1.0\n",
       "  collision_slack: Float64 1000.0\n",
       "  collision_markup: Float64 0.98\n",
       "  trust_region_weight: Float64 0.0\n",
       "  inconvenience_weights: Array{Float64}((3,)) [0.0, 0.0, 0.0]\n",
       "  collision_radius: Float64 1.0\n",
       "  inconvenience_ratio: Float64 0.0\n"
      ]
     },
     "metadata": {},
     "output_type": "display_data"
    }
   ],
   "source": [
    "solver = \"ECOS\"\n",
    "\n",
    "time_horizon = 25\n",
    "dt = 0.1\n",
    "velocity_max = 1.5\n",
    "\n",
    "human = DynamicallyExtendedUnicycle(dt, velocity_max, [1., 1.5])\n",
    "\n",
    "Q = diagm([0.0; 0.0; 0.; 0.])\n",
    "R = diagm([1.; 1.]) \n",
    "Qt = diagm([10.; 10.; 0.; 0.])\n",
    "markup = 1.0\n",
    "collision_slack = 1000.\n",
    "trust_region_weight = 0.\n",
    "inconvenience_weights = [1.; 1.; 0.1] * 0.\n",
    "collision_radius = 1.\n",
    "inconvenience_ratio = 0.0\n",
    "\n",
    "human_hps = PlannerHyperparameters(dynamics=human,\n",
    "                             time_horizon=time_horizon,\n",
    "                             Q=Q,\n",
    "                             R=R,\n",
    "                             Qt=Qt,\n",
    "                             markup=markup,\n",
    "                             collision_slack=collision_slack,\n",
    "                             trust_region_weight=trust_region_weight,\n",
    "                             inconvenience_weights=inconvenience_weights,\n",
    "                             collision_radius=collision_radius,\n",
    "                             inconvenience_ratio=inconvenience_ratio)\n",
    "\n",
    "\n",
    "\n",
    "dt = 0.1\n",
    "velocity_max = 1.5\n",
    "\n",
    "robot = DynamicallyExtendedUnicycle(dt, velocity_max, [1., 1.5])\n",
    "\n",
    "Q = diagm([0.0; 0.0; 0.; 0.])\n",
    "R = diagm([1.; 1.]) \n",
    "Qt = diagm([10.; 10.; 0.; 0.])\n",
    "\n",
    "robot_hps = PlannerHyperparameters(dynamics=robot,\n",
    "                             time_horizon=time_horizon,\n",
    "                             Q=Q,\n",
    "                             R=R,\n",
    "                             Qt=Qt,\n",
    "                             markup=markup,\n",
    "                             collision_slack=collision_slack,\n",
    "                             trust_region_weight=trust_region_weight,\n",
    "                             inconvenience_weights=inconvenience_weights,\n",
    "                             collision_radius=collision_radius,\n",
    "                             inconvenience_ratio=inconvenience_ratio)"
   ]
  },
  {
   "cell_type": "code",
   "execution_count": 14,
   "metadata": {},
   "outputs": [
    {
     "data": {
      "text/plain": [
       "InteractionPlanner\n",
       "  ego_planner: AgentPlanner\n",
       "  other_planner: AgentPlanner\n"
      ]
     },
     "metadata": {},
     "output_type": "display_data"
    }
   ],
   "source": [
    "robot_initial_state = [0.; 0.; 0.; 0.]\n",
    "robot_goal_state = [10.; 0.; 0.; 0.]\n",
    "human_initial_state = [10.; 0.; pi; 0.]\n",
    "human_goal_state = [0.; 0.; pi; 0.]\n",
    "\n",
    "robot_ip = InteractionPlanner(robot_hps, \n",
    "                        human_hps,\n",
    "                        robot_initial_state,\n",
    "                        human_initial_state,\n",
    "                        robot_goal_state,\n",
    "                        human_goal_state,\n",
    "                        solver)\n"
   ]
  },
  {
   "cell_type": "code",
   "execution_count": 62,
   "metadata": {},
   "outputs": [
    {
     "data": {
      "text/plain": [
       "PlannerHyperparameters{Float64}\n",
       "  dynamics: DynamicallyExtendedUnicycle{Float64}\n",
       "  time_horizon: Int64 25\n",
       "  Q: Array{Float64}((4, 4)) [0.0 0.0 0.0 0.0; 0.0 0.0 0.0 0.0; 0.0 0.0 0.0 0.0; 0.0 0.0 0.0 0.0]\n",
       "  R: Array{Float64}((2, 2)) [1.0 0.0; 0.0 0.0]\n",
       "  Qt: Array{Float64}((4, 4)) [10.0 0.0 0.0 0.0; 0.0 10.0 0.0 0.0; 0.0 0.0 0.0 0.0; 0.0 0.0 0.0 0.0]\n",
       "  markup: Float64 1.0\n",
       "  collision_slack: Float64 1000.0\n",
       "  collision_markup: Float64 0.98\n",
       "  trust_region_weight: Float64 0.0\n",
       "  inconvenience_weights: Array{Float64}((3,)) [0.0, 0.0, 0.0]\n",
       "  collision_radius: Float64 1.0\n",
       "  inconvenience_ratio: Float64 0.0\n"
      ]
     },
     "metadata": {},
     "output_type": "display_data"
    }
   ],
   "source": [
    "dt = 0.1\n",
    "velocity_max = 1.5\n",
    "human = DynamicallyExtendedUnicycle(dt, velocity_max, [1., 1.5])\n",
    "\n",
    "time_horizon = 25\n",
    "Q = diagm([0.0; 0.0; 0.; 0.])\n",
    "R = diagm([1.; 0.3]) \n",
    "Qt = diagm([10.; 10.; 0.; 0.])\n",
    "markup = 1.0\n",
    "collision_slack = 1000.\n",
    "trust_region_weight = 0.\n",
    "inconvenience_weights = [1.; 1.; 0.1] * 0.\n",
    "collision_radius = 1.\n",
    "inconvenience_ratio = 0.0\n",
    "\n",
    "\n",
    "human_hps = PlannerHyperparameters(dynamics=human,\n",
    "                             time_horizon=time_horizon,\n",
    "                             Q=Q,\n",
    "                             R=R,\n",
    "                             Qt=Qt,\n",
    "                             markup=markup,\n",
    "                             collision_slack=collision_slack,\n",
    "                             trust_region_weight=trust_region_weight,\n",
    "                             inconvenience_weights=inconvenience_weights,\n",
    "                             collision_radius=collision_radius,\n",
    "                             inconvenience_ratio=inconvenience_ratio)\n",
    "\n",
    "\n",
    "\n",
    "dt = 0.1\n",
    "velocity_max = 1.5\n",
    "# robot = Unicycle(dt, velocity_max, [1.0, 2.])\n",
    "robot = DynamicallyExtendedUnicycle(dt, velocity_max, [1., 1.5])\n",
    "\n",
    "# time_horizon = 45\n",
    "Q = diagm([0.0; 0.0; 0.; 0.])\n",
    "R = diagm([1.; 0.0]) \n",
    "Qt = diagm([10.; 10.; 0.; 0.])\n",
    "\n",
    "robot_hps = PlannerHyperparameters(dynamics=robot,\n",
    "                             time_horizon=time_horizon,\n",
    "                             Q=Q,\n",
    "                             R=R,\n",
    "                             Qt=Qt,\n",
    "                             markup=markup,\n",
    "                             collision_slack=collision_slack,\n",
    "                             trust_region_weight=trust_region_weight,\n",
    "                             inconvenience_weights=inconvenience_weights,\n",
    "                             collision_radius=collision_radius,\n",
    "                             inconvenience_ratio=inconvenience_ratio)"
   ]
  },
  {
   "cell_type": "code",
   "execution_count": 63,
   "metadata": {},
   "outputs": [
    {
     "data": {
      "text/plain": [
       "InteractionPlanner\n",
       "  ego_planner: AgentPlanner\n",
       "  other_planner: AgentPlanner\n"
      ]
     },
     "metadata": {},
     "output_type": "display_data"
    }
   ],
   "source": [
    "robot_initial_state = [0.; 0.; 0.; 0.]\n",
    "robot_goal_state = [10.; 0.; 0.; 0.]\n",
    "human_initial_state = [10.; 0.; pi; 0.]\n",
    "human_goal_state = [0.; 0.; pi; 0.]\n",
    "\n",
    "human_ip = InteractionPlanner(human_hps, \n",
    "                        robot_hps,\n",
    "                        human_initial_state,\n",
    "                        robot_initial_state,\n",
    "                        human_goal_state,\n",
    "                        robot_goal_state,\n",
    "                        solver)"
   ]
  },
  {
   "cell_type": "code",
   "execution_count": 17,
   "metadata": {},
   "outputs": [
    {
     "data": {
      "text/plain": [
       "([0.0 0.0 0.0 0.0; 0.007499998586465879 0.0 -1.3848336065225514e-16 0.14999997172931756; … ; 9.228328426883488 0.2341255218783397 -0.2722778327828496 0.6944900919219001; 9.293440589164328 0.21590534519745633 -0.2734301568117478 0.6577774882475893], [-1.3848336065225512e-15 1.4999997172931756; -0.5321595703981812 1.4999991282241099; … ; -0.012372696632749314 -0.37608797812325984; -0.011523240288982025 -0.36712603674310895], [10.0 0.0 3.141592653589793 0.0; 9.991945174312972 9.864316495309015e-19 3.1415928711399945 0.1610965137405648; … ; 0.7610075538165713 -0.020208916675286705 3.1328193803439337 0.6123244411900007; 0.7014302687499735 -0.019686215463255042 3.1320187756990396 0.5792671184416907], [2.1755020134363073e-6 1.610965137405648; 0.25503591506149487 1.438103750642899; … ; -0.008742625935668612 -0.35247638777630047; -0.008006046448938976 -0.33057322748310075], ([0.04863715171813965, 0.04868817329406738, 0.04833412170410156, 0.0549769401550293, 0.055452823638916016, 0.053086042404174805, 0.05581998825073242, 0.05848503112792969, 0.056173086166381836, 0.054936885833740234  …  0.054322004318237305, 0.05532097816467285, 0.05484604835510254, 0.05523681640625, 0.055854082107543945, 0.05849003791809082, 0.057665109634399414, 0.051928043365478516, 0.04641103744506836, 0.0476229190826416], [0.10375213623046875, 0.10383987426757812, 0.08748507499694824, 0.09410715103149414, 0.09058690071105957, 0.09337401390075684, 0.09470200538635254, 0.0891571044921875, 0.0952751636505127, 0.08439898490905762  …  0.09186291694641113, 0.09931683540344238, 0.09175896644592285, 0.09009289741516113, 0.09128999710083008, 0.08764100074768066, 0.0918130874633789, 0.1012110710144043, 0.10327696800231934, 0.08695507049560547]))"
      ]
     },
     "metadata": {},
     "output_type": "display_data"
    }
   ],
   "source": [
    "robot_path, robot_controls, human_path, human_controls, solve_times = simulate_oc(robot_ip, human_ip, 75, ego_ibr_iterations=2, other_ibr_iterations=1, leader=\"ego\")"
   ]
  },
  {
   "cell_type": "code",
   "execution_count": 18,
   "metadata": {},
   "outputs": [
    {
     "name": "stderr",
     "output_type": "stream",
     "text": [
      "┌ Info: Saved animation to /tmp/jl_il07EbwXuz.gif\n",
      "└ @ Plots /home/jasper/.julia/packages/Plots/3BCH5/src/animation.jl:156\n"
     ]
    },
    {
     "data": {
      "text/html": [
       "<img src=\"data:image/gif;base64,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\" />"
      ],
      "text/plain": [
       "Plots.AnimatedGif(\"/tmp/jl_il07EbwXuz.gif\")"
      ]
     },
     "metadata": {},
     "output_type": "display_data"
    }
   ],
   "source": [
    "animation(robot_path, human_path, pos_xlims=[-1, 11])"
   ]
  },
  {
   "cell_type": "code",
   "execution_count": 45,
   "metadata": {},
   "outputs": [
    {
     "data": {
      "text/plain": [
       "simulation_sweep (generic function with 3 methods)"
      ]
     },
     "metadata": {},
     "output_type": "display_data"
    }
   ],
   "source": [
    "function simulation_sweep(ego_ip::InteractionPlanner, other_ip::InteractionPlanner, sim_horizon, ego_boundary_conditions::Vector{Tuple{Vector{Float64}, Vector{Float64}}}, other_boundary_conditions::Vector{Tuple{Vector{Float64}, Vector{Float64}}}; ego_ibr_iterations=3::Int64, other_ibr_iterations=3::Int64)\n",
    "    runs = maximum([length(ego_boundary_conditions), length(other_boundary_conditions)])\n",
    "\n",
    "    ego_ego_hps = ego_ip.ego_planner.incon.hps\n",
    "    ego_other_hps = ego_ip.other_planner.incon.hps\n",
    "    other_ego_hps = other_ip.ego_planner.incon.hps\n",
    "    other_other_hps = other_ip.other_planner.incon.hps\n",
    "\n",
    "    if length(ego_boundary_conditions) == 1 \n",
    "        for i in 1:(runs - 1)\n",
    "            push!(ego_boundary_conditions, ego_boundary_conditions[1])\n",
    "        end\n",
    "    elseif length(other_boundary_conditions) == 1\n",
    "        for i in 1:(runs - 1)\n",
    "            push!(other_boundary_conditions, other_boundary_conditions[1])\n",
    "        end\n",
    "    end\n",
    "\n",
    "    if length(ego_boundary_conditions) != length(other_boundary_conditions)\n",
    "        throw(ArgumentError(\"length of 'ego_boundary_conditions' and 'other_boundary_conditions' must match\"))\n",
    "    end\n",
    "\n",
    "    runs_dict = Dict{String, SimData}()\n",
    "\n",
    "    for j in ProgressBar(1:runs)\n",
    "        sim_ego_ip = InteractionPlanner(ego_ego_hps, ego_other_hps, ego_boundary_conditions[j][1], other_boundary_conditions[j][1], ego_boundary_conditions[j][2], other_boundary_conditions[j][2], \"ECOS\")\n",
    "        sim_other_ip = InteractionPlanner(other_ego_hps, other_other_hps, other_boundary_conditions[j][1], ego_boundary_conditions[j][1], other_boundary_conditions[j][2], ego_boundary_conditions[j][2], \"ECOS\")\n",
    "\n",
    "        ego_params = PlannerParams(sim_ego_ip.ego_planner.incon.hps, sim_ego_ip.ego_planner.incon.opt_params, sim_ego_ip.other_planner.incon.hps, sim_ego_ip.other_planner.incon.opt_params)\n",
    "        other_params = PlannerParams(sim_other_ip.ego_planner.incon.hps, sim_other_ip.ego_planner.incon.opt_params, sim_other_ip.other_planner.incon.hps, sim_other_ip.other_planner.incon.opt_params)\n",
    "\n",
    "        sim_params = IPSimParams(ego_params, other_params)\n",
    "\n",
    "        ego_states, ego_controls, other_states, other_controls, solve_time = simulate_oc(sim_ego_ip, sim_other_ip, sim_horizon, ego_ibr_iterations=ego_ibr_iterations, other_ibr_iterations=other_ibr_iterations)\n",
    "\n",
    "        sim_data = SimData(sim_params, solve_time, ego_states, ego_controls, other_states, other_controls)\n",
    "\n",
    "        runs_dict[\"Run $(j)\"] = sim_data\n",
    "\n",
    "        # deleting variables\n",
    "        sim_ego_ip = nothing\n",
    "        sim_other_ip = nothing\n",
    "        ego_params = nothing\n",
    "        other_params = nothing\n",
    "        sim_params = nothing\n",
    "        ego_states = nothing\n",
    "        ego_controls = nothing\n",
    "        other_states = nothing\n",
    "        other_controls = nothing\n",
    "        sim_data = nothing\n",
    "    end\n",
    "\n",
    "    runs_dict\n",
    "end"
   ]
  },
  {
   "cell_type": "code",
   "execution_count": 46,
   "metadata": {},
   "outputs": [],
   "source": [
    "robot_states = mohrs_circle_states(robot, [0., 0., 0., 0.], [10., 0., 0., 0.], pi / 6);"
   ]
  },
  {
   "cell_type": "code",
   "execution_count": 57,
   "metadata": {},
   "outputs": [
    {
     "data": {
      "text/plain": [
       "run_experiment (generic function with 6 methods)"
      ]
     },
     "metadata": {},
     "output_type": "display_data"
    }
   ],
   "source": [
    "function run_experiment(ego_ip::InteractionPlanner, other_ip::InteractionPlanner, sim_horizon, ego_boundary_conditions::Vector{Tuple{Vector{Float64}, Vector{Float64}}}, other_boundary_conditions::Vector{Tuple{Vector{Float64}, Vector{Float64}}}; ego_ibr_iterations=3::Int64, other_ibr_iterations=3::Int64, save_path=\"\"::String)\n",
    "    start_time = time()\n",
    "    println(\"-\" ^ 80)\n",
    "    println(\"Running Simulations\")\n",
    "    println(\"-\" ^ 80)\n",
    "    sweep_data = simulation_sweep(ego_ip, other_ip, sim_horizon, ego_boundary_conditions, other_boundary_conditions, ego_ibr_iterations=ego_ibr_iterations, other_ibr_iterations=other_ibr_iterations)\n",
    "    println(\"-\" ^ 80)\n",
    "    println(\"Evaluating Simulations\")\n",
    "    println(\"-\" ^ 80)\n",
    "    metrics = evaluate_sim(sweep_data)\n",
    "    end_time = time()\n",
    "    if save_path != \"\"\n",
    "        serialize(save_path, metrics)\n",
    "    end\n",
    "\n",
    "    print(\"Experiment finished in $(end_time - start_time)\")\n",
    "\n",
    "    metrics\n",
    "end"
   ]
  },
  {
   "cell_type": "code",
   "execution_count": 58,
   "metadata": {},
   "outputs": [
    {
     "name": "stdout",
     "output_type": "stream",
     "text": [
      "--------------------------------------------------------------------------------\n",
      "Running Simulations\n",
      "--------------------------------------------------------------------------------\n"
     ]
    },
    {
     "name": "stderr",
     "output_type": "stream",
     "text": [
      "\r0.0%┣                                               ┫ 0/12 [00:00<00:00, -0s/it]\n",
      "\u001b[1A"
     ]
    },
    {
     "name": "stderr",
     "output_type": "stream",
     "text": [
      "\r8.3%┣███▋                                       ┫ 1/12 [00:11<Inf:Inf, InfGs/it]\n",
      "\u001b[1A"
     ]
    },
    {
     "name": "stderr",
     "output_type": "stream",
     "text": [
      "\r16.7%┣███████▊                                      ┫ 2/12 [00:22<03:37, 22s/it]\n",
      "\u001b[1A"
     ]
    },
    {
     "name": "stderr",
     "output_type": "stream",
     "text": [
      "\r25.0%┣███████████▌                                  ┫ 3/12 [00:33<02:27, 16s/it]\n",
      "\u001b[1A"
     ]
    },
    {
     "name": "stderr",
     "output_type": "stream",
     "text": [
      "\r33.3%┣███████████████▍                              ┫ 4/12 [00:44<01:57, 15s/it]\n",
      "\u001b[1A"
     ]
    },
    {
     "name": "stderr",
     "output_type": "stream",
     "text": [
      "\r41.7%┣███████████████████▏                          ┫ 5/12 [00:55<01:36, 14s/it]\n",
      "\u001b[1A"
     ]
    },
    {
     "name": "stderr",
     "output_type": "stream",
     "text": [
      "\r50.0%┣███████████████████████                       ┫ 6/12 [01:06<01:19, 13s/it]\n",
      "\u001b[1A"
     ]
    },
    {
     "name": "stderr",
     "output_type": "stream",
     "text": [
      "\r58.3%┣██████████████████████████▉                   ┫ 7/12 [01:17<01:04, 13s/it]\n",
      "\u001b[1A"
     ]
    },
    {
     "name": "stderr",
     "output_type": "stream",
     "text": [
      "\r66.7%┣██████████████████████████████▊               ┫ 8/12 [01:28<00:50, 13s/it]\n",
      "\u001b[1A"
     ]
    },
    {
     "name": "stderr",
     "output_type": "stream",
     "text": [
      "\r75.0%┣██████████████████████████████████▌           ┫ 9/12 [01:39<00:37, 12s/it]\n",
      "\u001b[1A"
     ]
    },
    {
     "name": "stderr",
     "output_type": "stream",
     "text": [
      "\r83.3%┣█████████████████████████████████████▌       ┫ 10/12 [01:51<00:25, 12s/it]\n",
      "\u001b[1A"
     ]
    },
    {
     "name": "stderr",
     "output_type": "stream",
     "text": [
      "\r91.7%┣█████████████████████████████████████████▎   ┫ 11/12 [02:02<00:12, 12s/it]\n",
      "\u001b[1A"
     ]
    },
    {
     "name": "stdout",
     "output_type": "stream",
     "text": [
      "--------------------------------------------------------------------------------\n",
      "Evaluating Simulations\n",
      "--------------------------------------------------------------------------------\n"
     ]
    },
    {
     "name": "stderr",
     "output_type": "stream",
     "text": [
      "\r100.0%┣████████████████████████████████████████████┫ 12/12 [02:14<00:00, 12s/it]\n",
      "\u001b[1A\r100.0%┣████████████████████████████████████████████┫ 12/12 [02:14<00:00, 12s/it]\n",
      "\r0.0%┣                                               ┫ 0/12 [00:00<00:00, -0s/it]\n"
     ]
    },
    {
     "name": "stdout",
     "output_type": "stream",
     "text": [
      "5151"
     ]
    },
    {
     "name": "stderr",
     "output_type": "stream",
     "text": [
      "\u001b[1A\r8.3%┣███▋                                       ┫ 1/12 [00:00<Inf:Inf, InfGs/it]\n"
     ]
    },
    {
     "name": "stdout",
     "output_type": "stream",
     "text": [
      "5151"
     ]
    },
    {
     "name": "stderr",
     "output_type": "stream",
     "text": [
      "\u001b[1A\r16.7%┣███████▉                                       ┫ 2/12 [00:00<00:02, 4it/s]\n"
     ]
    },
    {
     "name": "stdout",
     "output_type": "stream",
     "text": [
      "5151"
     ]
    },
    {
     "name": "stderr",
     "output_type": "stream",
     "text": [
      "\u001b[1A\r25.0%┣███████████▊                                   ┫ 3/12 [00:00<00:02, 6it/s]\n"
     ]
    },
    {
     "name": "stdout",
     "output_type": "stream",
     "text": [
      "5151"
     ]
    },
    {
     "name": "stderr",
     "output_type": "stream",
     "text": [
      "\u001b[1A\r33.3%┣███████████████▊                               ┫ 4/12 [00:00<00:01, 6it/s]\n"
     ]
    },
    {
     "name": "stdout",
     "output_type": "stream",
     "text": [
      "5151"
     ]
    },
    {
     "name": "stderr",
     "output_type": "stream",
     "text": [
      "\u001b[1A\r41.7%┣███████████████████▋                           ┫ 5/12 [00:01<00:01, 7it/s]\n"
     ]
    },
    {
     "name": "stdout",
     "output_type": "stream",
     "text": [
      "5151"
     ]
    },
    {
     "name": "stderr",
     "output_type": "stream",
     "text": [
      "\u001b[1A\r50.0%┣███████████████████████▌                       ┫ 6/12 [00:01<00:01, 7it/s]\n"
     ]
    },
    {
     "name": "stdout",
     "output_type": "stream",
     "text": [
      "5151"
     ]
    },
    {
     "name": "stderr",
     "output_type": "stream",
     "text": [
      "\u001b[1A\r58.3%┣███████████████████████████▍                   ┫ 7/12 [00:01<00:01, 7it/s]\n"
     ]
    },
    {
     "name": "stdout",
     "output_type": "stream",
     "text": [
      "5151"
     ]
    },
    {
     "name": "stderr",
     "output_type": "stream",
     "text": [
      "\u001b[1A\r66.7%┣███████████████████████████████▍               ┫ 8/12 [00:01<00:01, 7it/s]\n"
     ]
    },
    {
     "name": "stdout",
     "output_type": "stream",
     "text": [
      "5151"
     ]
    },
    {
     "name": "stderr",
     "output_type": "stream",
     "text": [
      "\u001b[1A\r75.0%┣███████████████████████████████████▎           ┫ 9/12 [00:01<00:00, 7it/s]\n"
     ]
    },
    {
     "name": "stdout",
     "output_type": "stream",
     "text": [
      "5151"
     ]
    },
    {
     "name": "stderr",
     "output_type": "stream",
     "text": [
      "\u001b[1A\r83.3%┣██████████████████████████████████████▍       ┫ 10/12 [00:01<00:00, 8it/s]\n"
     ]
    },
    {
     "name": "stdout",
     "output_type": "stream",
     "text": [
      "5151"
     ]
    },
    {
     "name": "stderr",
     "output_type": "stream",
     "text": [
      "\u001b[1A\r91.7%┣██████████████████████████████████████████▏   ┫ 11/12 [00:01<00:00, 8it/s]\n"
     ]
    },
    {
     "name": "stdout",
     "output_type": "stream",
     "text": [
      "5151Experiment finished in 135.0133068561554"
     ]
    },
    {
     "name": "stderr",
     "output_type": "stream",
     "text": [
      "\u001b[1A\r100.0%┣█████████████████████████████████████████████┫ 12/12 [00:01<00:00, 8it/s]\n",
      "\u001b[1A\r100.0%┣█████████████████████████████████████████████┫ 12/12 [00:01<00:00, 8it/s]\n"
     ]
    },
    {
     "data": {
      "text/plain": [
       "Dict{String, SimMetrics} with 12 entries:\n",
       "  \"Run 4\"  => SimMetrics(SimData(IPSimParams(PlannerParams(PlannerHyperparamete…\n",
       "  \"Run 10\" => SimMetrics(SimData(IPSimParams(PlannerParams(PlannerHyperparamete…\n",
       "  \"Run 1\"  => SimMetrics(SimData(IPSimParams(PlannerParams(PlannerHyperparamete…\n",
       "  \"Run 11\" => SimMetrics(SimData(IPSimParams(PlannerParams(PlannerHyperparamete…\n",
       "  \"Run 6\"  => SimMetrics(SimData(IPSimParams(PlannerParams(PlannerHyperparamete…\n",
       "  \"Run 12\" => SimMetrics(SimData(IPSimParams(PlannerParams(PlannerHyperparamete…\n",
       "  \"Run 2\"  => SimMetrics(SimData(IPSimParams(PlannerParams(PlannerHyperparamete…\n",
       "  \"Run 9\"  => SimMetrics(SimData(IPSimParams(PlannerParams(PlannerHyperparamete…\n",
       "  \"Run 5\"  => SimMetrics(SimData(IPSimParams(PlannerParams(PlannerHyperparamete…\n",
       "  \"Run 8\"  => SimMetrics(SimData(IPSimParams(PlannerParams(PlannerHyperparamete…\n",
       "  \"Run 7\"  => SimMetrics(SimData(IPSimParams(PlannerParams(PlannerHyperparamete…\n",
       "  \"Run 3\"  => SimMetrics(SimData(IPSimParams(PlannerParams(PlannerHyperparamete…"
      ]
     },
     "metadata": {},
     "output_type": "display_data"
    }
   ],
   "source": [
    "metrics_test = run_experiment(robot_ip, human_ip, 50, robot_states, [([10.; 0.; pi; 0.], [0.; 0.; pi; 0.])], other_ibr_iterations=1)"
   ]
  },
  {
   "cell_type": "code",
   "execution_count": 60,
   "metadata": {},
   "outputs": [
    {
     "data": {
      "text/plain": [
       "GtkLabelLeaf(name=\"\", parent, width-request=-1, height-request=-1, visible=TRUE, sensitive=TRUE, app-paintable=FALSE, can-focus=FALSE, has-focus=FALSE, is-focus=FALSE, focus-on-click=TRUE, can-default=FALSE, has-default=FALSE, receives-default=FALSE, composite-child=FALSE, style, events=0, no-show-all=FALSE, has-tooltip=FALSE, tooltip-markup=NULL, tooltip-text=NULL, window, opacity=1.000000, double-buffered, halign=GTK_ALIGN_FILL, valign=GTK_ALIGN_FILL, margin-left, margin-right, margin-start=0, margin-end=0, margin-top=0, margin-bottom=100, margin=100, hexpand=FALSE, vexpand=FALSE, hexpand-set=FALSE, vexpand-set=TRUE, expand=FALSE, scale-factor=1, xpad, ypad, label=\"<b><u>Sim 12 Metrics</u></b>\n",
       "<b> </b> \n",
       "<b>Ego Average Acceleration = </b>0.2996\n",
       "<b>Other Average Acceleration = </b>0.2984\n",
       "<b>-</b><b>-</b><b>-</b><b>-</b><b>-</b><b>-</b><b>-</b><b>-</b><b>-</b><b>-</b><b>-</b><b>-</b><b>-</b><b>-</b><b>-</b><b>-</b><b>-</b><b>-</b><b>-</b><b>-</b><b>-</b><b>-</b><b>-</b><b>-</b><b>-</b><b>-</b><b>-</b><b>-</b><b>-</b><b>-</b><b>-</b><b>-</b><b>-</b><b>-</b><b>-</b><b>-</b><b>-</b><b>-</b><b>-</b><b>-</b><b>-</b><b>-</b><b>-</b><b>-</b><b>-</b><b>-</b><b>-</b><b>-</b><b>-</b><b>-</b><b>-</b><b>-</b><b>-</b><b>-</b><b>-</b><b>-</b><b>-</b><b>-</b>\n",
       "<b>Ego PI = </b>6.121\n",
       "<b>Other PI = </b>4.413\n",
       "<b>-</b><b>-</b><b>-</b><b>-</b><b>-</b><b>-</b><b>-</b><b>-</b><b>-</b><b>-</b><b>-</b><b>-</b><b>-</b><b>-</b><b>-</b><b>-</b><b>-</b><b>-</b><b>-</b><b>-</b><b>-</b><b>-</b><b>-</b><b>-</b><b>-</b><b>-</b><b>-</b><b>-</b><b>-</b><b>-</b><b>-</b><b>-</b><b>-</b><b>-</b><b>-</b><b>-</b><b>-</b><b>-</b><b>-</b><b>-</b><b>-</b><b>-</b><b>-</b><b>-</b><b>-</b><b>-</b><b>-</b><b>-</b><b>-</b><b>-</b><b>-</b><b>-</b><b>-</b><b>-</b><b>-</b><b>-</b><b>-</b><b>-</b>\n",
       "<b>Ego PE = </b>1.011\n",
       "<b>Other PE = </b>0.979\n",
       "<b>-</b><b>-</b><b>-</b><b>-</b><b>-</b><b>-</b><b>-</b><b>-</b><b>-</b><b>-</b><b>-</b><b>-</b><b>-</b><b>-</b><b>-</b><b>-</b><b>-</b><b>-</b><b>-</b><b>-</b><b>-</b><b>-</b><b>-</b><b>-</b><b>-</b><b>-</b><b>-</b><b>-</b><b>-</b><b>-</b><b>-</b><b>-</b><b>-</b><b>-</b><b>-</b><b>-</b><b>-</b><b>-</b><b>-</b><b>-</b><b>-</b><b>-</b><b>-</b><b>-</b><b>-</b><b>-</b><b>-</b><b>-</b><b>-</b><b>-</b><b>-</b><b>-</b><b>-</b><b>-</b><b>-</b><b>-</b><b>-</b><b>-</b>\n",
       "<b>Minimum Distance = </b>0.9985\n",
       "<b>-</b><b>-</b><b>-</b><b>-</b><b>-</b><b>-</b><b>-</b><b>-</b><b>-</b><b>-</b><b>-</b><b>-</b><b>-</b><b>-</b><b>-</b><b>-</b><b>-</b><b>-</b><b>-</b><b>-</b><b>-</b><b>-</b><b>-</b><b>-</b><b>-</b><b>-</b><b>-</b><b>-</b><b>-</b><b>-</b><b>-</b><b>-</b><b>-</b><b>-</b><b>-</b><b>-</b><b>-</b><b>-</b><b>-</b><b>-</b><b>-</b><b>-</b><b>-</b><b>-</b><b>-</b><b>-</b><b>-</b><b>-</b><b>-</b><b>-</b><b>-</b><b>-</b><b>-</b><b>-</b><b>-</b><b>-</b><b>-</b><b>-</b>\n",
       "<b>Max Solve Time: </b>0.1788 s\n",
       "<b>Average Solve Time: </b>0.1105 s\n",
       "<b>Planning Deadline Overruns: </b>47\", attributes, use-markup=TRUE, use-underline=FALSE, justify=GTK_JUSTIFY_LEFT, pattern, wrap=FALSE, wrap-mode=PANGO_WRAP_WORD, selectable=FALSE, mnemonic-keyval=16777215, mnemonic-widget, cursor-position=0, selection-bound=0, ellipsize=PANGO_ELLIPSIZE_NONE, width-chars=-1, single-line-mode=FALSE, angle=0.000000, max-width-chars=-1, track-visited-links=TRUE, lines=-1, xalign=0.500000, yalign=0.500000)"
      ]
     },
     "metadata": {},
     "output_type": "display_data"
    }
   ],
   "source": [
    "display_data(test_metrics)"
   ]
  },
  {
   "cell_type": "code",
   "execution_count": null,
   "metadata": {},
   "outputs": [],
   "source": []
  }
 ],
 "metadata": {
  "kernelspec": {
   "display_name": "Julia 1.9.3",
   "language": "julia",
   "name": "julia-1.9"
  },
  "language_info": {
   "file_extension": ".jl",
   "mimetype": "application/julia",
   "name": "julia",
   "version": "1.9.3"
  },
  "orig_nbformat": 4
 },
 "nbformat": 4,
 "nbformat_minor": 2
}
