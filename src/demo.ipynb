{
 "cells": [
  {
   "cell_type": "code",
   "execution_count": 1,
   "metadata": {},
   "outputs": [
    {
     "name": "stderr",
     "output_type": "stream",
     "text": [
      "\u001b[32m\u001b[1m  Activating\u001b[22m\u001b[39m project at `~/repos/ProactiveHRI.jl`\n"
     ]
    }
   ],
   "source": [
    "using Pkg\n",
    "Pkg.activate(\"..\")"
   ]
  },
  {
   "cell_type": "code",
   "execution_count": null,
   "metadata": {},
   "outputs": [],
   "source": [
    "Pkg.instantiate()\n",
    "Pkg.update()"
   ]
  },
  {
   "cell_type": "code",
   "execution_count": 45,
   "metadata": {},
   "outputs": [
    {
     "data": {
      "text/plain": [
       "display_data (generic function with 1 method)"
      ]
     },
     "metadata": {},
     "output_type": "display_data"
    }
   ],
   "source": [
    "include(\"dynamics.jl\")\n",
    "include(\"planner.jl\")\n",
    "include(\"planner_utils.jl\")\n",
    "include(\"utils.jl\")\n",
    "include(\"plotting.jl\")\n",
    "include(\"mpc.jl\")\n",
    "include(\"sim.jl\")\n",
    "include(\"experiments.jl\")"
   ]
  },
  {
   "attachments": {},
   "cell_type": "markdown",
   "metadata": {},
   "source": [
    "### Interaction planner"
   ]
  },
  {
   "cell_type": "code",
   "execution_count": null,
   "metadata": {},
   "outputs": [],
   "source": [
    "dt = 0.1\n",
    "velocity_max = 3.0\n",
    "# human = SingleIntegratorPolar2D(dt, velocity_max, [pi, 2.])\n",
    "human = Unicycle(dt, velocity_max, [1., 3.])\n",
    "\n",
    "time_horizon = 25\n",
    "# Q = zeros(Float64, human.state_dim, human.state_dim)\n",
    "# R = diagm([0.; 0.1]) \n",
    "# Qt = diagm([10.; 10.])\n",
    "Q = diagm([0.0; 0.0; 0.])\n",
    "R = diagm([1.0; 0.1]) \n",
    "Qt = diagm([10.; 10.; 0.])\n",
    "markup = 1.05\n",
    "collision_slack = 150.\n",
    "trust_region_weight = 5.\n",
    "inconvenience_weights = [1.; 1.; 0.01]\n",
    "collision_radius = 1.\n",
    "inconvenience_ratio = 0.2\n",
    "\n",
    "\n",
    "human_hps = PlannerHyperparameters(dynamics=human,\n",
    "                             time_horizon=time_horizon,\n",
    "                             Q=Q,\n",
    "                             R=R,\n",
    "                             Qt=Qt,\n",
    "                             markup=markup,\n",
    "                             collision_slack=collision_slack,\n",
    "                             trust_region_weight=trust_region_weight,\n",
    "                             inconvenience_weights=inconvenience_weights,\n",
    "                             collision_radius=collision_radius,\n",
    "                             inconvenience_ratio=inconvenience_ratio)\n",
    "\n",
    "\n",
    "\n",
    "dt = 0.1\n",
    "velocity_max = 3.0\n",
    "# robot = Unicycle(dt, velocity_max, [1.0, 2.])\n",
    "robot = DynamicallyExtendedUnicycle(dt, velocity_max, [1., 3.])\n",
    "\n",
    "# time_horizon = 45\n",
    "Q = diagm([0.0; 0.0; 0.; 0.])\n",
    "R = diagm([1.; 1.]) \n",
    "Qt = diagm([10.; 10.; 0.; 0.])\n",
    "\n",
    "robot_hps = PlannerHyperparameters(dynamics=robot,\n",
    "                             time_horizon=time_horizon,\n",
    "                             Q=Q,\n",
    "                             R=R,\n",
    "                             Qt=Qt,\n",
    "                             markup=markup,\n",
    "                             collision_slack=collision_slack,\n",
    "                             trust_region_weight=trust_region_weight,\n",
    "                             inconvenience_weights=inconvenience_weights,\n",
    "                             collision_radius=collision_radius,\n",
    "                             inconvenience_ratio=inconvenience_ratio)\n"
   ]
  },
  {
   "cell_type": "code",
   "execution_count": null,
   "metadata": {},
   "outputs": [],
   "source": [
    "robot_initial_state = [5.; 5.; -pi / 2.; 0.]\n",
    "robot_goal_state = [5.; -5.; -pi / 2; 0.]\n",
    "human_initial_state = [5.; -5.; pi / 2]\n",
    "human_goal_state = [5.; 5.; pi / 2]\n",
    "solver = \"ECOS\"\n",
    "\n",
    "ip = InteractionPlanner(robot_hps, \n",
    "                        human_hps,\n",
    "                        robot_initial_state,\n",
    "                        human_initial_state,\n",
    "                        robot_goal_state,\n",
    "                        human_goal_state,\n",
    "                        solver)\n",
    "# \n",
    "# ip = InteractionPlanner(human_hps, \n",
    "#                         robot_hps,\n",
    "#                         human_initial_state,\n",
    "#                         robot_initial_state,\n",
    "#                         human_goal_state,\n",
    "#                         robot_goal_state,\n",
    "#                         solver)"
   ]
  },
  {
   "cell_type": "code",
   "execution_count": null,
   "metadata": {},
   "outputs": [],
   "source": [
    "# Adds a wall constraint to the planner\n",
    "wall_1 = Wall(\"x\", 0., 6.1, \"less\")\n",
    "wall_constraint(ip, wall_1, \"wall_1\")\n",
    "wall_2 = Wall(\"x\", 0.1, 3.2, \"greater\")\n",
    "wall_constraint(ip, wall_2, \"wall_2\")"
   ]
  },
  {
   "cell_type": "code",
   "execution_count": null,
   "metadata": {},
   "outputs": [],
   "source": [
    "incon_problem, xs, us = @time solve(ip.ego_planner.incon, iterations=10, verbose=false, keep_history=false)\n",
    "incon_problem, xs, us = @time solve(ip.other_planner.incon, iterations=10, verbose=false, keep_history=false);\n",
    "\n"
   ]
  },
  {
   "cell_type": "code",
   "execution_count": null,
   "metadata": {},
   "outputs": [],
   "source": [
    "plot_solve_solution(ip, walls=nothing, pos_xlims=[-1, 11], pos_ylims=[-6, 6])"
   ]
  },
  {
   "attachments": {},
   "cell_type": "markdown",
   "metadata": {},
   "source": [
    "# Iterated Best Response"
   ]
  },
  {
   "cell_type": "code",
   "execution_count": null,
   "metadata": {},
   "outputs": [],
   "source": [
    "@time ibr(ip, 3, \"ego\")"
   ]
  },
  {
   "cell_type": "code",
   "execution_count": null,
   "metadata": {},
   "outputs": [],
   "source": [
    "plot_solve_solution(ip, pos_xlims=[-1, 11], walls=nothing, pos_ylims=[-6, 6])"
   ]
  },
  {
   "attachments": {},
   "cell_type": "markdown",
   "metadata": {},
   "source": [
    "# Animation"
   ]
  },
  {
   "cell_type": "code",
   "execution_count": null,
   "metadata": {},
   "outputs": [],
   "source": [
    "animation(ip, pos_xlims=[-1, 11], pos_ylims=[-4, 4])"
   ]
  },
  {
   "cell_type": "code",
   "execution_count": null,
   "metadata": {},
   "outputs": [],
   "source": [
    "avoidance_animation(ip, pos_xlims=[0, 10], pos_ylims=[-5, 5])"
   ]
  },
  {
   "attachments": {},
   "cell_type": "markdown",
   "metadata": {},
   "source": [
    "# MPC Controller Simulation\n",
    "*At the moment it is a known issue that the sim breaks if the dynamics classes used are different between the different InteractionPlanner models, will be fixed"
   ]
  },
  {
   "cell_type": "code",
   "execution_count": null,
   "metadata": {},
   "outputs": [],
   "source": [
    "include(\"sim.jl\")\n",
    "include(\"mpc.jl\")"
   ]
  },
  {
   "cell_type": "code",
   "execution_count": null,
   "metadata": {},
   "outputs": [],
   "source": [
    "solver = \"ECOS\"\n",
    "\n",
    "time_horizon = 25\n",
    "dt = 0.1\n",
    "velocity_max = 1.5\n",
    "\n",
    "human = DynamicallyExtendedUnicycle(dt, velocity_max, [1., 1.5])\n",
    "\n",
    "Q = diagm([0.0; 0.0; 0.; 0.])\n",
    "R = diagm([1.; 1.]) \n",
    "Qt = diagm([10.; 10.; 0.; 0.])\n",
    "markup = 1.05\n",
    "collision_slack = 150.\n",
    "trust_region_weight = 5.\n",
    "inconvenience_weights = [1.; 1.; 0.1]\n",
    "collision_radius = 1.\n",
    "inconvenience_ratio = 0.2\n",
    "\n",
    "human_hps = PlannerHyperparameters(dynamics=human,\n",
    "                             time_horizon=time_horizon,\n",
    "                             Q=Q,\n",
    "                             R=R,\n",
    "                             Qt=Qt,\n",
    "                             markup=markup,\n",
    "                             collision_slack=collision_slack,\n",
    "                             trust_region_weight=trust_region_weight,\n",
    "                             inconvenience_weights=inconvenience_weights,\n",
    "                             collision_radius=collision_radius,\n",
    "                             inconvenience_ratio=inconvenience_ratio)\n",
    "\n",
    "\n",
    "\n",
    "dt = 0.1\n",
    "velocity_max = 1.5\n",
    "\n",
    "robot = DynamicallyExtendedUnicycle(dt, velocity_max, [1., 1.5])\n",
    "\n",
    "Q = diagm([0.0; 0.0; 0.; 0.])\n",
    "R = diagm([1.; 1.]) \n",
    "Qt = diagm([10.; 10.; 0.; 0.])\n",
    "\n",
    "robot_hps = PlannerHyperparameters(dynamics=robot,\n",
    "                             time_horizon=time_horizon,\n",
    "                             Q=Q,\n",
    "                             R=R,\n",
    "                             Qt=Qt,\n",
    "                             markup=markup,\n",
    "                             collision_slack=collision_slack,\n",
    "                             trust_region_weight=trust_region_weight,\n",
    "                             inconvenience_weights=inconvenience_weights,\n",
    "                             collision_radius=collision_radius,\n",
    "                             inconvenience_ratio=inconvenience_ratio)"
   ]
  },
  {
   "cell_type": "code",
   "execution_count": null,
   "metadata": {},
   "outputs": [],
   "source": [
    "robot_initial_state = [0.; 0.; 0.; 0.]\n",
    "robot_goal_state = [10.; 0.; 0.; 0.]\n",
    "human_initial_state = [10.; 0.; pi; 0.]\n",
    "human_goal_state = [0.; 0.; pi; 0.]\n",
    "\n",
    "robot_ip = InteractionPlanner(robot_hps, \n",
    "                        human_hps,\n",
    "                        robot_initial_state,\n",
    "                        human_initial_state,\n",
    "                        robot_goal_state,\n",
    "                        human_goal_state,\n",
    "                        solver)\n"
   ]
  },
  {
   "cell_type": "code",
   "execution_count": null,
   "metadata": {},
   "outputs": [],
   "source": [
    "dt = 0.1\n",
    "velocity_max = 1.5\n",
    "human = DynamicallyExtendedUnicycle(dt, velocity_max, [1., 1.5])\n",
    "\n",
    "time_horizon = 25\n",
    "Q = diagm([0.0; 0.0; 0.; 0.])\n",
    "R = diagm([1.; 0.3]) \n",
    "Qt = diagm([10.; 10.; 0.; 0.])\n",
    "markup = 1.05\n",
    "collision_slack = 150.\n",
    "trust_region_weight = 5.\n",
    "inconvenience_weights = [1.; 1.; 0.1]\n",
    "collision_radius = 1.\n",
    "inconvenience_ratio = 0.2\n",
    "\n",
    "\n",
    "human_hps = PlannerHyperparameters(dynamics=human,\n",
    "                             time_horizon=time_horizon,\n",
    "                             Q=Q,\n",
    "                             R=R,\n",
    "                             Qt=Qt,\n",
    "                             markup=markup,\n",
    "                             collision_slack=collision_slack,\n",
    "                             trust_region_weight=trust_region_weight,\n",
    "                             inconvenience_weights=inconvenience_weights,\n",
    "                             collision_radius=collision_radius,\n",
    "                             inconvenience_ratio=inconvenience_ratio)\n",
    "\n",
    "\n",
    "\n",
    "dt = 0.1\n",
    "velocity_max = 1.5\n",
    "# robot = Unicycle(dt, velocity_max, [1.0, 2.])\n",
    "robot = DynamicallyExtendedUnicycle(dt, velocity_max, [1., 1.5])\n",
    "\n",
    "# time_horizon = 45\n",
    "Q = diagm([0.0; 0.0; 0.; 0.])\n",
    "R = diagm([1.; 0.0]) \n",
    "Qt = diagm([10.; 10.; 0.; 0.])\n",
    "\n",
    "robot_hps = PlannerHyperparameters(dynamics=robot,\n",
    "                             time_horizon=time_horizon,\n",
    "                             Q=Q,\n",
    "                             R=R,\n",
    "                             Qt=Qt,\n",
    "                             markup=markup,\n",
    "                             collision_slack=collision_slack,\n",
    "                             trust_region_weight=trust_region_weight,\n",
    "                             inconvenience_weights=inconvenience_weights,\n",
    "                             collision_radius=collision_radius,\n",
    "                             inconvenience_ratio=inconvenience_ratio)"
   ]
  },
  {
   "cell_type": "code",
   "execution_count": null,
   "metadata": {},
   "outputs": [],
   "source": [
    "human_ip = InteractionPlanner(human_hps, \n",
    "                        robot_hps,\n",
    "                        human_initial_state,\n",
    "                        robot_initial_state,\n",
    "                        human_goal_state,\n",
    "                        robot_goal_state,\n",
    "                        solver)"
   ]
  },
  {
   "cell_type": "code",
   "execution_count": null,
   "metadata": {},
   "outputs": [],
   "source": [
    "robot_path, robot_controls, human_path, human_controls, solve_times = simulate(robot_ip, human_ip, 50, ibr_iterations=2, leader=\"ego\")"
   ]
  },
  {
   "cell_type": "code",
   "execution_count": null,
   "metadata": {},
   "outputs": [],
   "source": [
    "solve_times"
   ]
  },
  {
   "cell_type": "code",
   "execution_count": null,
   "metadata": {},
   "outputs": [],
   "source": [
    "plt = plot(robot_path[:,1], robot_path[:,2], xlims=[-1, 10], ylims=[-5, 5])\n",
    "plot!(plt, human_path[:,1], human_path[:,2])"
   ]
  },
  {
   "cell_type": "code",
   "execution_count": null,
   "metadata": {},
   "outputs": [],
   "source": [
    "animation(robot_path, human_path, pos_xlims=[-1, 11], pos_ylims=[-2.5, 2.5])"
   ]
  },
  {
   "attachments": {},
   "cell_type": "markdown",
   "metadata": {},
   "source": [
    "# Summary Plots"
   ]
  },
  {
   "attachments": {},
   "cell_type": "markdown",
   "metadata": {},
   "source": [
    "### Setup the planner"
   ]
  },
  {
   "cell_type": "code",
   "execution_count": null,
   "metadata": {},
   "outputs": [],
   "source": [
    "dt = 0.1\n",
    "velocity_max = 1.5\n",
    "# human = SingleIntegratorPolar2D(dt, velocity_max, [pi, 2.])\n",
    "human = Unicycle(dt, velocity_max, [1., 1.5])\n",
    "\n",
    "time_horizon = 50\n",
    "# Q = zeros(Float64, human.state_dim, human.state_dim)\n",
    "# R = diagm([0.; 0.1]) \n",
    "# Qt = diagm([10.; 10.])\n",
    "Q = diagm([0.0; 0.0; 0.])\n",
    "R = diagm([1.0; 0.0]) \n",
    "Qt = diagm([10.; 10.; 0.])\n",
    "markup = 0.8\n",
    "collision_slack = 150.\n",
    "trust_region_weight = 5.\n",
    "inconvenience_weights = [1.; 1.; 0.01]\n",
    "collision_radius = 1.\n",
    "inconvenience_ratio = 0.2\n",
    "\n",
    "\n",
    "human_hps = PlannerHyperparameters(dynamics=human,\n",
    "                             time_horizon=time_horizon,\n",
    "                             Q=Q,\n",
    "                             R=R,\n",
    "                             Qt=Qt,\n",
    "                             markup=markup,\n",
    "                             collision_slack=collision_slack,\n",
    "                             trust_region_weight=trust_region_weight,\n",
    "                             inconvenience_weights=inconvenience_weights,\n",
    "                             collision_radius=collision_radius,\n",
    "                             inconvenience_ratio=inconvenience_ratio)\n",
    "\n",
    "\n",
    "\n",
    "dt = 0.1\n",
    "velocity_max = 1.5\n",
    "# robot = Unicycle(dt, velocity_max, [1.0, 2.])\n",
    "robot = DynamicallyExtendedUnicycle(dt, velocity_max, [1., 3.])\n",
    "\n",
    "# time_horizon = 45\n",
    "Q = diagm([0.0; 0.0; 0.; 0.])\n",
    "R = diagm([1.; 1.]) \n",
    "Qt = diagm([10.; 10.; 0.; 0.])\n",
    "\n",
    "robot_hps = PlannerHyperparameters(dynamics=robot,\n",
    "                             time_horizon=time_horizon,\n",
    "                             Q=Q,\n",
    "                             R=R,\n",
    "                             Qt=Qt,\n",
    "                             markup=markup,\n",
    "                             collision_slack=collision_slack,\n",
    "                             trust_region_weight=trust_region_weight,\n",
    "                             inconvenience_weights=inconvenience_weights,\n",
    "                             collision_radius=collision_radius,\n",
    "                             inconvenience_ratio=inconvenience_ratio)\n"
   ]
  },
  {
   "cell_type": "code",
   "execution_count": null,
   "metadata": {},
   "outputs": [],
   "source": [
    "robot_initial_state = [0.; 0.; 0.; 0.]\n",
    "robot_goal_state = [10.; 0.; 0.; 0.]\n",
    "human_initial_state = [10.; 0.; pi]\n",
    "human_goal_state = [0.; 0.; pi]\n",
    "solver = \"ECOS\"\n",
    "\n",
    "ip = InteractionPlanner(robot_hps, \n",
    "                        human_hps,\n",
    "                        robot_initial_state,\n",
    "                        human_initial_state,\n",
    "                        robot_goal_state,\n",
    "                        human_goal_state,\n",
    "                        solver)"
   ]
  },
  {
   "cell_type": "code",
   "execution_count": null,
   "metadata": {},
   "outputs": [],
   "source": [
    "incon_problem, xs, us = @time solve(ip.ego_planner.incon, iterations=10, verbose=false, keep_history=false)\n",
    "incon_problem, xs, us = @time solve(ip.other_planner.incon, iterations=10, verbose=false, keep_history=false);"
   ]
  },
  {
   "cell_type": "code",
   "execution_count": null,
   "metadata": {},
   "outputs": [],
   "source": [
    "@time saved_data_test, _, _, _, _ = ibr_save(ip, 2, \"ego\")"
   ]
  },
  {
   "cell_type": "code",
   "execution_count": null,
   "metadata": {},
   "outputs": [],
   "source": [
    "plot_example = plot_solve_solution(saved_data_test, scatter=false, show_speed=true, show_control=true)"
   ]
  },
  {
   "cell_type": "code",
   "execution_count": null,
   "metadata": {},
   "outputs": [],
   "source": [
    "function plot_solve_solution(problem::SaveData, second_problem::SaveData,show_theta::Bool; pos_xlims=[-1,11], pos_ylims=[-6, 6], scatter=true::Bool, show_speed=true::Bool, show_control=true::Bool)\n",
    "\n",
    "    l = @layout [a b] \n",
    "    width=2000\n",
    "    height=800\n",
    "    alpha_plot = 0.7\n",
    "    linewidth = 2\n",
    "    markersize = 2\n",
    "    markersize_large = 7\n",
    "    ego_color = :blue\n",
    "    other_color = :red\n",
    "\n",
    "    global iterations = length(problem.previous_ips)\n",
    "\n",
    "    alpha_ratio = 1 / (iterations + 1)\n",
    "    N = problem.previous_ips[1].ego_planner.ideal.hps.time_horizon\n",
    "\n",
    "    ego_goal_state = problem.previous_ips[1].ego_planner.ideal.opt_params.goal_state\n",
    "    other_goal_state = problem.previous_ips[1].other_planner.ideal.opt_params.goal_state\n",
    "\n",
    "    ego_dynamics = problem.previous_ips[1].ego_planner.ideal.hps.dynamics       # use first ip arbitrarily, any iteration will give the same values for these entries\n",
    "    other_dynamics = problem.previous_ips[1].other_planner.ideal.hps.dynamics\n",
    "\n",
    "    global ego_ctrl_dim = 2\n",
    "    global other_ctrl_dim = 2\n",
    "\n",
    "    # plotting position trajectory\n",
    "\n",
    "    plot_traj = plot(size=(height, height), xlabel=\"x position\", ylabel=\"y position\", title=\"Position\", margin=10mm, ylims=pos_ylims, xlims=pos_xlims, aspect_ratio=:equal)\n",
    "    scatter!(ego_goal_state[1:1], ego_goal_state[2:2], marker=:star, markersize=markersize_large, color=ego_color, label=\"ego goal\")\n",
    "    scatter!(plot_traj, other_goal_state[1:1], other_goal_state[2:2], marker=:star, markersize=markersize_large, color=other_color, label=\"other goal\")\n",
    "\n",
    "    plot!(plot_traj, value.(problem.previous_ips[end].ego_planner.incon.model[:x])[:,1], value.(problem.previous_ips[end].ego_planner.incon.model[:x])[:,2], color=ego_color, linewidth=linewidth, label=\"Robot μ = 0.9\", alpha=alpha_plot)\n",
    "\n",
    "    plot!(plot_traj, value.(problem.previous_ips[end].other_planner.incon.model[:x])[:,1], value.(problem.previous_ips[end].other_planner.incon.model[:x])[:,2], color=other_color, linewidth=linewidth, label=\"Human μ = 0.9\", alpha=alpha_plot)\n",
    "\n",
    "\n",
    "    plot!(plot_traj, value.(second_problem.previous_ips[end].ego_planner.incon.model[:x])[:,1], value.(second_problem.previous_ips[end].ego_planner.incon.model[:x])[:,2], color=:purple, linewidth=linewidth, label=\"Robot μ = 1.1\", alpha=alpha_plot)\n",
    "\n",
    "    plot!(plot_traj, value.(second_problem.previous_ips[end].other_planner.incon.model[:x])[:,1], value.(second_problem.previous_ips[end].other_planner.incon.model[:x])[:,2], color=:green, linewidth=linewidth, label=\"Human μ = 1.1\", alpha=alpha_plot)\n",
    "\n",
    "    if scatter\n",
    "        scatter!(plot_traj, value.(problem.previous_ips[end].ego_planner.ideal.model[:x])[:,1], value.(problem.previous_ips[end].ego_planner.ideal.model[:x])[:,2], color=ego_color, linewidth=linewidth, label=\"\", alpha=alpha_plot)\n",
    "\n",
    "        scatter!(plot_traj, value.(problem.previous_ips[end].other_planner.ideal.model[:x])[:,1], value.(problem.previous_ips[end].other_planner.ideal.model[:x])[:,2], color=other_color, linewidth=linewidth, label=\"\", alpha=alpha_plot)\n",
    "\n",
    "        scatter!(plot_traj, value.(second_problem.previous_ips[end].ego_planner.ideal.model[:x])[:,1], value.(second_problem.previous_ips[end].ego_planner.ideal.model[:x])[:,2], color=ego_color, linewidth=linewidth, label=\"\", alpha=alpha_plot)\n",
    "\n",
    "        scatter!(plot_traj, value.(second_problem.previous_ips[end].other_planner.ideal.model[:x])[:,1], value.(second_problem.previous_ips[end].other_planner.ideal.model[:x])[:,2], color=other_color, linewidth=linewidth, label=\"\", alpha=alpha_plot)\n",
    "    end\n",
    "    # plotting speed/control\n",
    "\n",
    "    # speed parameters\n",
    "    max_speed = maximum([problem.previous_ips[1].ego_planner.ideal.hps.dynamics.velocity_max, problem.previous_ips[1].other_planner.ideal.hps.dynamics.velocity_max])\n",
    "    ego_max_speed = problem.previous_ips[1].ego_planner.ideal.hps.dynamics.velocity_max\n",
    "    other_max_speed = problem.previous_ips[1].other_planner.ideal.hps.dynamics.velocity_max\n",
    "\n",
    "    # control parameters\n",
    "    ego_ctrl_dim = problem.previous_ips[1].ego_planner.ideal.hps.dynamics.ctrl_dim\n",
    "    other_ctrl_dim = problem.previous_ips[1].other_planner.ideal.hps.dynamics.ctrl_dim\n",
    "\n",
    "    ego_max_ctrl = maximum(problem.previous_ips[1].ego_planner.ideal.hps.dynamics.control_max)\n",
    "    ego_min_ctrl = minimum(problem.previous_ips[1].ego_planner.ideal.hps.dynamics.control_min)\n",
    "    other_max_ctrl = maximum(problem.previous_ips[1].other_planner.ideal.hps.dynamics.control_max)\n",
    "    other_min_ctrl = minimum(problem.previous_ips[1].other_planner.ideal.hps.dynamics.control_min)\n",
    "\n",
    "    plot_theta = plot(size=(height, height), xlabel=\"time step\", ylabel=\"abs(Theta)\", title=\"Theta vs. time\", margin=10mm, legend=:bottomright)\n",
    "    plot_ctrl = plot(size=(height, height), xlabel=\"time step\", ylabel=\"input magnitude\", title=\"Control\", margin=10mm)\n",
    "\n",
    "    # angle plotting\n",
    "    robot_xs_mu_09 = vector_of_vectors_to_matrix(problem.previous_ips[iterations].ego_planner.incon.opt_params.previous_states)\n",
    "    human_xs_mu_09 = vector_of_vectors_to_matrix(problem.previous_ips[iterations].other_planner.incon.opt_params.previous_states)\n",
    "    robot_xs_mu_11 = vector_of_vectors_to_matrix(second_problem.previous_ips[iterations].ego_planner.incon.opt_params.previous_states)\n",
    "    human_xs_mu_11 = vector_of_vectors_to_matrix(second_problem.previous_ips[iterations].other_planner.incon.opt_params.previous_states)\n",
    "    plot!(plot_theta, robot_xs_mu_09[:,3:3], linewidth=2, label=\"Robot μ = 0.9\", color=ego_color)\n",
    "    plot!(plot_theta, human_xs_mu_09[:,3:3], linewidth=2, label=\"Human μ = 0.9\", color=other_color)\n",
    "    plot!(plot_theta, robot_xs_mu_11[:,3:3], linewidth=2, label=\"Robot μ = 1.1\", color=:magenta)\n",
    "    plot!(plot_theta, human_xs_mu_11[:,3:3], linewidth=2, label=\"Human μ = 1.1\", color=:green)\n",
    "\n",
    "        # ctrl plotting\n",
    "    plot!(plot_ctrl, 1:N, maximum([ego_max_ctrl, other_max_ctrl]) * ones(Float64, N), linestyle=:dash, linewith=linewidth,  color=:green, label=\"Control Limits\")\n",
    "    plot!(plot_ctrl, 1:N, minimum([ego_min_ctrl, other_min_ctrl]) * ones(Float64, N), linestyle=:dash, linewith=linewidth,  color=:green, label=\"\")   \n",
    "        # ego plot\n",
    "    for j in 1:ego_ctrl_dim\n",
    "        plot!(plot_ctrl, 1:N, vector_of_vectors_to_matrix(problem.previous_ips[iterations].ego_planner.incon.opt_params.previous_controls)[:, j], label=\"\", color=RGB(1 - (1 / ego_ctrl_dim) * j, 0., (1 / ego_ctrl_dim) * j), linewidth=linewidth, alpha=(i * alpha_ratio))\n",
    "        plot!(plot_ctrl, 1:N, vector_of_vectors_to_matrix(second_problem.previous_ips[iterations].ego_planner.incon.opt_params.previous_controls)[:, j], label=\"\", color=RGB(1 - (1 / ego_ctrl_dim) * j, 0., (1 / ego_ctrl_dim) * j), linewidth=linewidth, alpha=(i * alpha_ratio))\n",
    "    end \n",
    "        # other plot\n",
    "    for k in 1:other_ctrl_dim\n",
    "        plot!(plot_ctrl, 1:N, vector_of_vectors_to_matrix(problem.previous_ips[iterations].other_planner.incon.opt_params.previous_controls)[:, k], label=\"\", color=RGB((1 / other_ctrl_dim) * k, 1 - (1 / other_ctrl_dim) * k, 0.), linewidth=linewidth, alpha=(i * alpha_ratio))\n",
    "        plot!(plot_ctrl, 1:N, vector_of_vectors_to_matrix(second_problem.previous_ips[iterations].other_planner.incon.opt_params.previous_controls)[:, k], label=\"\", color=RGB((1 / other_ctrl_dim) * k, 1 - (1 / other_ctrl_dim) * k, 0.), linewidth=linewidth, alpha=(i * alpha_ratio))\n",
    "    end \n",
    "\n",
    "\n",
    "    slack_violation = Vector{Float64}(undef, iterations)\n",
    "\n",
    "    for i in 1:iterations\n",
    "        slack_violation[i] = value(problem.previous_ips[i].ego_planner.incon.model[:ϵ])\n",
    "    end\n",
    "\n",
    "    plot_slack_violation = plot(size=(height, height), xlabel=\"Iteration\", ylabel=\"ϵ (slack value)\", title=\"Slack (collision) Violation\", margin=10mm)\n",
    "\n",
    "    plot!(plot_slack_violation, 1:iterations, slack_violation, color=:black, label=\"Slack\")\n",
    "\n",
    "    # plotting inconvenience value over iterations\n",
    "\n",
    "    incon_budget = problem.previous_ips[1].ego_planner.incon.hps.inconvenience_ratio\n",
    "    inconvenience_ego = Vector{Float64}(undef, iterations)\n",
    "    inconvenience_other = Vector{Float64}(undef, iterations)\n",
    "\n",
    "    ideal_incon_ego = compute_convenience_value(ego_dynamics, matrix_to_vector_of_vectors(value.(problem.previous_ips[1].ego_planner.ideal.model[:x])), matrix_to_vector_of_vectors(value.(problem.previous_ips[1].ego_planner.ideal.model[:u])), ego_goal_state, problem.previous_ips[1].ego_planner.incon.hps.inconvenience_weights)\n",
    "\n",
    "    ideal_incon_other = compute_convenience_value(other_dynamics, matrix_to_vector_of_vectors(value.(problem.previous_ips[1].other_planner.ideal.model[:x])), matrix_to_vector_of_vectors(value.(problem.previous_ips[1].other_planner.ideal.model[:u])), other_goal_state, problem.previous_ips[1].other_planner.incon.hps.inconvenience_weights)\n",
    "\n",
    "    for i in 1:iterations\n",
    "        inconvenience_ego[i] = compute_convenience_value(ego_dynamics, problem.previous_ips[i].ego_planner.incon.opt_params.previous_states, problem.previous_ips[i].ego_planner.incon.opt_params.previous_controls, ego_goal_state, problem.previous_ips[1].ego_planner.incon.hps.inconvenience_weights)\n",
    "        \n",
    "        inconvenience_other[i] = compute_convenience_value(other_dynamics, problem.previous_ips[i].other_planner.incon.opt_params.previous_states, problem.previous_ips[i].other_planner.incon.opt_params.previous_controls, other_goal_state, problem.previous_ips[1].other_planner.incon.hps.inconvenience_weights)\n",
    "    end\n",
    "\n",
    "    inconvenience_ego ./= ideal_incon_ego\n",
    "    inconvenience_other ./= ideal_incon_other \n",
    "\n",
    "    plot_incon = plot(size=(height, height), xlabel=\"Iteration\", ylabel=\"Inconvenience\", title=\"Agent Inconvenience\", margin=10mm)\n",
    "    plot!(plot_incon, 1:iterations, ones(iterations), linestyle=:dash, linewith=linewidth, color=:green, label=\"Ideal Incon\")\n",
    "    plot!(plot_incon, 1:iterations, ones(iterations) .+ incon_budget, linestyle=:dash, linewith=linewidth, color=:black, label=\"Incon Budget\")\n",
    "    plot!(plot_incon, 1:iterations, inconvenience_ego, color=ego_color, linewidth=linewidth, label=\"Ego Incon\")\n",
    "    plot!(plot_incon, 1:iterations, inconvenience_other, color=other_color, linewidth=linewidth, label=\"Other Incon\")\n",
    "\n",
    "    plot(plot_traj, plot_theta, layout=l, size=(width, height))\n",
    "end\n"
   ]
  },
  {
   "cell_type": "markdown",
   "metadata": {},
   "source": [
    "# Sim Experimentation Utils"
   ]
  },
  {
   "cell_type": "code",
   "execution_count": null,
   "metadata": {},
   "outputs": [],
   "source": [
    "robot_params = PlannerParams(robot_ip.ego_planner.incon.hps, robot_ip.ego_planner.incon.opt_params, robot_ip.other_planner.incon.hps, robot_ip.other_planner.incon.opt_params)\n",
    "human_params = PlannerParams(human_ip.ego_planner.incon.hps, human_ip.ego_planner.incon.opt_params, human_ip.other_planner.incon.hps, human_ip.other_planner.incon.opt_params)"
   ]
  },
  {
   "cell_type": "code",
   "execution_count": null,
   "metadata": {},
   "outputs": [],
   "source": [
    "sim_params = IPSimParams(robot_params, human_params)"
   ]
  },
  {
   "cell_type": "code",
   "execution_count": null,
   "metadata": {},
   "outputs": [],
   "source": [
    "# robot_xs, robot_us, human_xs, human_us, solve_times = simulate(robot_ip, human_ip, 50, ibr_iterations=2, leader=\"other\")"
   ]
  },
  {
   "cell_type": "code",
   "execution_count": null,
   "metadata": {},
   "outputs": [],
   "source": [
    "sim_data = SimData(sim_params, solve_times, robot_path, robot_controls, human_path, human_controls)"
   ]
  },
  {
   "cell_type": "code",
   "execution_count": null,
   "metadata": {},
   "outputs": [],
   "source": [
    "plot_solve_solution(sim_data)"
   ]
  },
  {
   "cell_type": "code",
   "execution_count": null,
   "metadata": {},
   "outputs": [],
   "source": [
    "sim_data.solve_times"
   ]
  },
  {
   "cell_type": "markdown",
   "metadata": {},
   "source": [
    "# Experimentation Code"
   ]
  },
  {
   "cell_type": "code",
   "execution_count": null,
   "metadata": {},
   "outputs": [],
   "source": [
    "# for experiment in experiments\n",
    "#     set up problem. Assign hyperparameters. Cycle through hps for each experiment\n",
    "#     (markup, collision slack, trust region weights, incon weights, collision radius, incon ratio)\n",
    "#     for opt_param in opt_params\n",
    "#         assign new opt_params to the problem.\n",
    "#         (initial states, goal states)\n",
    "#         register the InteractionPlanner\n",
    "#         run simulation\n",
    "#         store data into dictionary w/ with key=run_number\n",
    "#         (store: hps, opt_params, and paths) -- enough data to recreate the problem and plot Base.load_path_setup_code\n",
    "#         delete interaction planner before cycling through the loop.\n",
    "#     end\n",
    "# end"
   ]
  },
  {
   "cell_type": "code",
   "execution_count": null,
   "metadata": {},
   "outputs": [],
   "source": [
    "using ProgressBars"
   ]
  },
  {
   "cell_type": "code",
   "execution_count": null,
   "metadata": {},
   "outputs": [],
   "source": [
    "# setting up the problem to be deep copied for experiments\n",
    "# this is for experimentation where each agent correctly assumes the policy of the oteher agent\n",
    "\n",
    "# setting up the robot planner\n",
    "solver = \"ECOS\"\n",
    "\n",
    "time_horizon = 25\n",
    "dt = 0.1\n",
    "velocity_max = 1.5\n",
    "\n",
    "human = DynamicallyExtendedUnicycle(dt, velocity_max, [1., 1.5])\n",
    "\n",
    "Q = diagm([0.0; 0.0; 0.; 0.])\n",
    "R = diagm([1.; 1.]) \n",
    "Qt = diagm([10.; 10.; 0.; 0.])\n",
    "markup = 1.05\n",
    "collision_slack = 150.\n",
    "trust_region_weight = 5.\n",
    "inconvenience_weights = [1.; 1.; 0.1]\n",
    "collision_radius = 1.\n",
    "inconvenience_ratio = 0.2\n",
    "\n",
    "human_hps = PlannerHyperparameters(dynamics=human,\n",
    "                             time_horizon=time_horizon,\n",
    "                             Q=Q,\n",
    "                             R=R,\n",
    "                             Qt=Qt,\n",
    "                             markup=markup,\n",
    "                             collision_slack=collision_slack,\n",
    "                             trust_region_weight=trust_region_weight,\n",
    "                             inconvenience_weights=inconvenience_weights,\n",
    "                             collision_radius=collision_radius,\n",
    "                             inconvenience_ratio=inconvenience_ratio)\n",
    "\n",
    "\n",
    "\n",
    "dt = 0.1\n",
    "velocity_max = 1.5\n",
    "\n",
    "robot = DynamicallyExtendedUnicycle(dt, velocity_max, [1., 1.5])\n",
    "\n",
    "Q = diagm([0.0; 0.0; 0.; 0.])\n",
    "R = diagm([1.; 1.]) \n",
    "Qt = diagm([10.; 10.; 0.; 0.])\n",
    "\n",
    "robot_hps = PlannerHyperparameters(dynamics=robot,\n",
    "                             time_horizon=time_horizon,\n",
    "                             Q=Q,\n",
    "                             R=R,\n",
    "                             Qt=Qt,\n",
    "                             markup=markup,\n",
    "                             collision_slack=collision_slack,\n",
    "                             trust_region_weight=trust_region_weight,\n",
    "                             inconvenience_weights=inconvenience_weights,\n",
    "                             collision_radius=collision_radius,\n",
    "                             inconvenience_ratio=inconvenience_ratio)\n",
    "\n",
    "robot_initial_state = [0.; 0.; 0.; 0.]\n",
    "robot_goal_state = [10.; 0.; 0.; 0.]\n",
    "human_initial_state = [10.; 0.; pi; 0.]\n",
    "human_goal_state = [0.; 0.; pi; 0.]\n",
    "\n",
    "robot_ip = InteractionPlanner(robot_hps, \n",
    "                        human_hps,\n",
    "                        robot_initial_state,\n",
    "                        human_initial_state,\n",
    "                        robot_goal_state,\n",
    "                        human_goal_state,\n",
    "                        solver)\n",
    "                             \n",
    "human_ip = InteractionPlanner(human_hps, \n",
    "                        robot_hps,\n",
    "                        human_initial_state,\n",
    "                        robot_initial_state,\n",
    "                        human_goal_state,\n",
    "                        robot_goal_state,\n",
    "                        solver)"
   ]
  },
  {
   "cell_type": "markdown",
   "metadata": {},
   "source": [
    "### Mohr's Circle-ish Implementation "
   ]
  },
  {
   "cell_type": "code",
   "execution_count": null,
   "metadata": {},
   "outputs": [],
   "source": [
    "include(\"experiments.jl\")"
   ]
  },
  {
   "cell_type": "code",
   "execution_count": null,
   "metadata": {},
   "outputs": [],
   "source": [
    "test_human = DynamicallyExtendedUnicycle(dt, velocity_max, [1., 1.5])"
   ]
  },
  {
   "cell_type": "code",
   "execution_count": null,
   "metadata": {},
   "outputs": [],
   "source": [
    "robot_states = mohrs_circle_states(test_human, [0., 0., 0., 0.], [10., 0., 0., 0.], pi / 6);"
   ]
  },
  {
   "cell_type": "code",
   "execution_count": null,
   "metadata": {},
   "outputs": [],
   "source": [
    "human_states = [([10., 0., pi, 0.], [0., 0., pi, 0.])]"
   ]
  },
  {
   "cell_type": "markdown",
   "metadata": {},
   "source": [
    "### Simulation Code"
   ]
  },
  {
   "cell_type": "code",
   "execution_count": null,
   "metadata": {},
   "outputs": [],
   "source": [
    "sim_test = simulation_sweep(robot_ip, human_ip, 50, robot_states, human_states)"
   ]
  },
  {
   "cell_type": "code",
   "execution_count": null,
   "metadata": {},
   "outputs": [],
   "source": [
    "plot_solve_solution(sim_test[\"Run 12\"], pos_xlims=[-1, 11], pos_ylims=[-6, 6])"
   ]
  },
  {
   "cell_type": "markdown",
   "metadata": {},
   "source": [
    "# Data Metrics"
   ]
  },
  {
   "cell_type": "code",
   "execution_count": null,
   "metadata": {},
   "outputs": [],
   "source": [
    "compute_average_control_effort(sim_data)"
   ]
  },
  {
   "cell_type": "code",
   "execution_count": null,
   "metadata": {},
   "outputs": [],
   "source": [
    "compute_average_acceleration_per_segment(sim_data)"
   ]
  },
  {
   "cell_type": "code",
   "execution_count": null,
   "metadata": {},
   "outputs": [],
   "source": [
    "compute_path_efficiency(sim_data)"
   ]
  },
  {
   "cell_type": "code",
   "execution_count": null,
   "metadata": {},
   "outputs": [],
   "source": [
    "compute_path_irregularity_index(sim_data)"
   ]
  },
  {
   "cell_type": "code",
   "execution_count": null,
   "metadata": {},
   "outputs": [],
   "source": [
    "compute_minimum_distance(sim_data)"
   ]
  },
  {
   "cell_type": "code",
   "execution_count": null,
   "metadata": {},
   "outputs": [],
   "source": [
    "ttc = compute_time_to_collision(sim_data)\n",
    "# ttc[\"Time to collision\"]\n",
    "# plot(1:50, ttc[\"Time to collision\"])"
   ]
  },
  {
   "cell_type": "code",
   "execution_count": null,
   "metadata": {},
   "outputs": [],
   "source": [
    "compute_dθ_dt(sim_data)"
   ]
  },
  {
   "cell_type": "code",
   "execution_count": null,
   "metadata": {},
   "outputs": [],
   "source": [
    "compute_θ(sim_data)"
   ]
  },
  {
   "cell_type": "code",
   "execution_count": null,
   "metadata": {},
   "outputs": [],
   "source": [
    "compute_time(sim_data)"
   ]
  },
  {
   "cell_type": "code",
   "execution_count": null,
   "metadata": {},
   "outputs": [],
   "source": [
    "test_data_sweep_metrics = evaluate_sim(sim_test)"
   ]
  },
  {
   "cell_type": "code",
   "execution_count": null,
   "metadata": {},
   "outputs": [],
   "source": [
    "test_data_sweep_metrics[\"Run 5\"].plots[\"Combined Plot\"]"
   ]
  },
  {
   "cell_type": "code",
   "execution_count": null,
   "metadata": {},
   "outputs": [],
   "source": [
    "display_data(test_data_sweep_metrics)"
   ]
  },
  {
   "cell_type": "markdown",
   "metadata": {},
   "source": [
    "# Social Force Model Sim"
   ]
  },
  {
   "cell_type": "code",
   "execution_count": null,
   "metadata": {},
   "outputs": [],
   "source": [
    "ego = DoubleIntegrator2D(dt, 3., [1., 3.])"
   ]
  },
  {
   "cell_type": "code",
   "execution_count": null,
   "metadata": {},
   "outputs": [],
   "source": [
    "include(\"human.jl\")"
   ]
  },
  {
   "cell_type": "code",
   "execution_count": null,
   "metadata": {},
   "outputs": [],
   "source": [
    "# example usage\n",
    "state = [1.; 0.; 1.; 0.]\n",
    "goal_position = [10.; 1.]\n",
    "others = [[ego, [2; 0.; 0.0; 0.]]]\n",
    "desired_velocity = 2.\n",
    "forces = social_forces(ego, state, goal_position, others, desired_velocity, p=2., ψ=pi/6, c=0.3)\n",
    "# \n",
    "markersize = 15\n",
    "scatter(state[1:1], state[2:2], markersize=markersize, label=\"ego\", aspect_ratio=:equal)\n",
    "for (_, o) in others\n",
    "    scatter!(o[1:1], o[2:2], markersize=markersize, label=\"other\")\n",
    "end\n",
    "scatter!(goal_position[1:1], goal_position[2:2], markersize=markersize, label=\"goal\")\n",
    "plot!([state[1], state[1] + forces[1]], [state[2], state[2] + forces[2]], label=\"force\", linewidth=5, color=\"black\")"
   ]
  },
  {
   "cell_type": "code",
   "execution_count": null,
   "metadata": {},
   "outputs": [],
   "source": [
    "get_position(robot_sfm, [1.; 1.])"
   ]
  },
  {
   "cell_type": "code",
   "execution_count": null,
   "metadata": {},
   "outputs": [],
   "source": [
    "forces"
   ]
  },
  {
   "cell_type": "code",
   "execution_count": null,
   "metadata": {},
   "outputs": [],
   "source": [
    "include(\"sim.jl\")"
   ]
  },
  {
   "cell_type": "code",
   "execution_count": null,
   "metadata": {},
   "outputs": [],
   "source": [
    "# setting up the problem to be deep copied for experiments\n",
    "# this is for experimentation where each agent correctly assumes the policy of the oteher agent\n",
    "\n",
    "# setting up the robot planner\n",
    "solver = \"ECOS\"\n",
    "\n",
    "time_horizon = 25\n",
    "dt = 0.1\n",
    "velocity_max = 1.5\n",
    "\n",
    "human = Unicycle(dt, velocity_max, [1., 1.5])\n",
    "\n",
    "Q = diagm([0.0; 0.0; 0.])\n",
    "R = diagm([1.; 1.]) \n",
    "Qt = diagm([10.; 10.; 0.])\n",
    "markup = 1.05\n",
    "collision_slack = 150.\n",
    "trust_region_weight = 5.\n",
    "inconvenience_weights = [1.; 1.; 0.1]\n",
    "collision_radius = 1.\n",
    "inconvenience_ratio = 0.2\n",
    "\n",
    "human_hps = PlannerHyperparameters(dynamics=human,\n",
    "                             time_horizon=time_horizon,\n",
    "                             Q=Q,\n",
    "                             R=R,\n",
    "                             Qt=Qt,\n",
    "                             markup=markup,\n",
    "                             collision_slack=collision_slack,\n",
    "                             trust_region_weight=trust_region_weight,\n",
    "                             inconvenience_weights=inconvenience_weights,\n",
    "                             collision_radius=collision_radius,\n",
    "                             inconvenience_ratio=inconvenience_ratio)\n",
    "\n",
    "\n",
    "\n",
    "dt = 0.1\n",
    "velocity_max = 1.5\n",
    "\n",
    "robot = Unicycle(dt, velocity_max, [1., 1.5])\n",
    "\n",
    "Q = diagm([0.0; 0.0; 0.])\n",
    "R = diagm([1.; 1.]) \n",
    "Qt = diagm([10.; 10.; 0.])\n",
    "\n",
    "collision_slack = 150.\n",
    "\n",
    "robot_hps = PlannerHyperparameters(dynamics=robot,\n",
    "                             time_horizon=time_horizon,\n",
    "                             Q=Q,\n",
    "                             R=R,\n",
    "                             Qt=Qt,\n",
    "                             markup=markup,\n",
    "                             collision_slack=collision_slack,\n",
    "                             trust_region_weight=trust_region_weight,\n",
    "                             inconvenience_weights=inconvenience_weights,\n",
    "                             collision_radius=collision_radius,\n",
    "                             inconvenience_ratio=inconvenience_ratio)\n",
    "\n",
    "robot_initial_state = [0.; 0.; 0.]\n",
    "robot_goal_state = [10.; 0.; 0.]\n",
    "human_initial_state = [10.; -0.05; pi]\n",
    "human_goal_state = [0.; 0.; pi]\n",
    "\n",
    "robot_ip = InteractionPlanner(robot_hps, \n",
    "                        human_hps,\n",
    "                        robot_initial_state,\n",
    "                        human_initial_state,\n",
    "                        robot_goal_state,\n",
    "                        human_goal_state,\n",
    "                        solver)\n",
    "                             \n",
    "human_ip = InteractionPlanner(human_hps, \n",
    "                        robot_hps,\n",
    "                        human_initial_state,\n",
    "                        robot_initial_state,\n",
    "                        human_goal_state,\n",
    "                        robot_goal_state,\n",
    "                        solver)"
   ]
  },
  {
   "cell_type": "code",
   "execution_count": null,
   "metadata": {},
   "outputs": [],
   "source": [
    "ego_params = PlannerParams(human_ip.ego_planner.incon.hps, human_ip.ego_planner.incon.opt_params, robot_ip.ego_planner.incon.hps, robot_ip.ego_planner.incon.opt_params)\n",
    "other_params = PlannerParams(robot_ip.ego_planner.incon.hps, robot_ip.ego_planner.incon.opt_params, human_ip.ego_planner.incon.hps, human_ip.ego_planner.incon.opt_params)\n",
    "sim_params = IPSimParams(ego_params, other_params)"
   ]
  },
  {
   "cell_type": "code",
   "execution_count": null,
   "metadata": {},
   "outputs": [],
   "source": [
    "human_states, human_control, robot_states, robot_controls = simulate_human_social_forces(human_ip, ego, [0.; 0.; 0.; 0.], [10.; 0.; 0.; 0.], 50)"
   ]
  },
  {
   "cell_type": "code",
   "execution_count": null,
   "metadata": {},
   "outputs": [],
   "source": [
    "sim_data = SimData(sim_params, ([0.], nothing), human_states, human_control, robot_states, robot_controls)"
   ]
  },
  {
   "cell_type": "code",
   "execution_count": null,
   "metadata": {},
   "outputs": [],
   "source": [
    "sfm_metrics = evaluate_sim(sim_data)"
   ]
  },
  {
   "cell_type": "code",
   "execution_count": null,
   "metadata": {},
   "outputs": [],
   "source": [
    "display_sfm_metrics = Dict(\"Run 1\" => sfm_metrics, \"Run 2\" => sfm_metrics)"
   ]
  },
  {
   "cell_type": "code",
   "execution_count": null,
   "metadata": {},
   "outputs": [],
   "source": [
    "display_data(display_sfm_metrics)"
   ]
  },
  {
   "cell_type": "code",
   "execution_count": null,
   "metadata": {},
   "outputs": [],
   "source": [
    "good_human_states, good_human_controls, good_robot_states, good_robot_controls, solve_times = simulate(human_ip, robot_ip, 50)"
   ]
  },
  {
   "cell_type": "code",
   "execution_count": null,
   "metadata": {},
   "outputs": [],
   "source": [
    "good_sim_data = SimData(sim_params, solve_times, good_human_states, good_human_controls, good_robot_states, good_robot_controls)"
   ]
  },
  {
   "cell_type": "code",
   "execution_count": null,
   "metadata": {},
   "outputs": [],
   "source": [
    "good_sim_data = evaluate_sim(good_sim_data)"
   ]
  },
  {
   "cell_type": "code",
   "execution_count": null,
   "metadata": {},
   "outputs": [],
   "source": [
    "display_ip_metrics = Dict(\"Run 1\" => good_sim_data, \"Run 2\" => good_sim_data)"
   ]
  },
  {
   "cell_type": "code",
   "execution_count": null,
   "metadata": {},
   "outputs": [],
   "source": [
    "display_data(display_ip_metrics)"
   ]
  },
  {
   "cell_type": "code",
   "execution_count": null,
   "metadata": {},
   "outputs": [],
   "source": [
    "animation((human_states), (robot_states))"
   ]
  },
  {
   "cell_type": "code",
   "execution_count": null,
   "metadata": {},
   "outputs": [],
   "source": [
    "animation(good_human_states, good_robot_states)"
   ]
  },
  {
   "cell_type": "code",
   "execution_count": null,
   "metadata": {},
   "outputs": [],
   "source": [
    "compute_path_irregularity_index(sim_data)"
   ]
  },
  {
   "cell_type": "markdown",
   "metadata": {},
   "source": [
    "# Experimental Setup"
   ]
  },
  {
   "cell_type": "code",
   "execution_count": null,
   "metadata": {},
   "outputs": [],
   "source": [
    "using Serialization"
   ]
  },
  {
   "cell_type": "code",
   "execution_count": null,
   "metadata": {},
   "outputs": [],
   "source": [
    "test_human_ip = deserialize(\"../experimental_setup/cooperative_human_ip.dat\")"
   ]
  },
  {
   "cell_type": "code",
   "execution_count": null,
   "metadata": {},
   "outputs": [],
   "source": [
    "circular_experiment_states = mohrs_circle_states(robot_ip.ego_planner.incon.hps.dynamics, [0.; 0.; 0.; 0.], [10.; 0.; 0.; 0.], π/20)"
   ]
  },
  {
   "cell_type": "code",
   "execution_count": null,
   "metadata": {},
   "outputs": [],
   "source": [
    "serialize(\"../experimental_setup/circular_experiment_states\", circular_experiment_states)"
   ]
  },
  {
   "cell_type": "code",
   "execution_count": null,
   "metadata": {},
   "outputs": [],
   "source": [
    "run_experiment(robot_ip, test_human_ip, 50, circular_experiment_states, [([10.; 0.; pi; 0.], [0.; 0.; pi; 0.])], \"experimental_setup/metrics_test.dat\")"
   ]
  },
  {
   "cell_type": "code",
   "execution_count": null,
   "metadata": {},
   "outputs": [],
   "source": [
    "metrics = deserialize(\"experimental_setup/metrics_test.dat\")\n",
    "display_data(metrics)"
   ]
  },
  {
   "cell_type": "code",
   "execution_count": null,
   "metadata": {},
   "outputs": [],
   "source": [
    "using JLD2"
   ]
  },
  {
   "cell_type": "code",
   "execution_count": null,
   "metadata": {},
   "outputs": [],
   "source": [
    "proactiveHRI_robot_cooperative_human = deserialize(\"../experimental_results/ProactiveHRI_robot_cooperative_human.dat\")\n",
    "proactiveHRI_robot_less_cooperative_human = deserialize(\"../experimental_results/ProactiveHRI_robot_less-cooperative_human.dat\")\n",
    "proactiveHRI_robot_unaware_human = deserialize(\"../experimental_results/ProactiveHRI_robot_unaware_human.dat\")\n",
    "proactiveHRI_robot_aware_human = deserialize(\"../experimental_results/ProactiveHRI_robot_overly_aware__human.dat\")"
   ]
  },
  {
   "cell_type": "code",
   "execution_count": null,
   "metadata": {},
   "outputs": [],
   "source": [
    "display_data(proactiveHRI_robot_aware_human)"
   ]
  },
  {
   "cell_type": "code",
   "execution_count": null,
   "metadata": {},
   "outputs": [],
   "source": []
  },
  {
   "cell_type": "markdown",
   "metadata": {},
   "source": [
    "# Social Forces Sim w/ Dynamically Extended Unicycle Model"
   ]
  },
  {
   "cell_type": "code",
   "execution_count": 39,
   "metadata": {},
   "outputs": [
    {
     "data": {
      "text/plain": [
       "InteractionPlanner\n",
       "  ego_planner: AgentPlanner\n",
       "  other_planner: AgentPlanner\n"
      ]
     },
     "metadata": {},
     "output_type": "display_data"
    }
   ],
   "source": [
    "# setting up the human planner to be used for experiments (cooperative human)\n",
    "solver = \"ECOS\"\n",
    "dt = 0.1\n",
    "velocity_max = 1.5\n",
    "human = DynamicallyExtendedUnicycle(dt, velocity_max, [1., 1.5])\n",
    "\n",
    "time_horizon = 25\n",
    "Q = diagm([0.0; 0.0; 0.; 0.])\n",
    "R = diagm([1.; 0.3]) \n",
    "Qt = diagm([10.; 10.; 0.; 0.])\n",
    "markup = 1.05\n",
    "collision_slack = 150.\n",
    "trust_region_weight = 5.\n",
    "inconvenience_weights = [1.; 1.; 0.1]\n",
    "collision_radius = 1.\n",
    "inconvenience_ratio = 0.2\n",
    "\n",
    "\n",
    "human_hps = PlannerHyperparameters(dynamics=human,\n",
    "                             time_horizon=time_horizon,\n",
    "                             Q=Q,\n",
    "                             R=R,\n",
    "                             Qt=Qt,\n",
    "                             markup=markup,\n",
    "                             collision_slack=collision_slack,\n",
    "                             trust_region_weight=trust_region_weight,\n",
    "                             inconvenience_weights=inconvenience_weights,\n",
    "                             collision_radius=collision_radius,\n",
    "                             inconvenience_ratio=inconvenience_ratio)\n",
    "\n",
    "\n",
    "\n",
    "dt = 0.1\n",
    "velocity_max = 1.5\n",
    "# robot = Unicycle(dt, velocity_max, [1.0, 2.])\n",
    "robot = DynamicallyExtendedUnicycle(dt, velocity_max, [1., 1.5])\n",
    "\n",
    "# time_horizon = 45\n",
    "Q = diagm([0.0; 0.0; 0.; 0.])\n",
    "R = diagm([1.; 0.0]) \n",
    "Qt = diagm([10.; 10.; 0.; 0.])\n",
    "\n",
    "robot_hps = PlannerHyperparameters(dynamics=robot,\n",
    "                             time_horizon=time_horizon,\n",
    "                             Q=Q,\n",
    "                             R=R,\n",
    "                             Qt=Qt,\n",
    "                             markup=markup,\n",
    "                             collision_slack=collision_slack,\n",
    "                             trust_region_weight=trust_region_weight,\n",
    "                             inconvenience_weights=inconvenience_weights,\n",
    "                             collision_radius=collision_radius,\n",
    "                             inconvenience_ratio=inconvenience_ratio)\n",
    "\n",
    "robot_initial_state = [0.; 0.; 0.; 0.]\n",
    "robot_goal_state = [10.; 0.; 0.; 0.]\n",
    "human_initial_state = [10.; 0.; pi; 0.]\n",
    "human_goal_state = [0.; 0.; pi; 0.]\n",
    "# setting up the IP object to be serialized and saved for all trials\n",
    "human_ip = InteractionPlanner(human_hps, \n",
    "                        robot_hps,\n",
    "                        human_initial_state,\n",
    "                        robot_initial_state,\n",
    "                        human_goal_state,\n",
    "                        robot_goal_state,\n",
    "                        solver)\n",
    "\n",
    "# saving object\n",
    "# serialize(\"../experimental_setup/cooperative_human_ip.dat\", human_ip)"
   ]
  },
  {
   "cell_type": "code",
   "execution_count": 40,
   "metadata": {},
   "outputs": [
    {
     "data": {
      "text/plain": [
       "DynamicallyExtendedUnicycle{Float64}\n",
       "  dt: Float64 0.1\n",
       "  state_dim: Int64 4\n",
       "  ctrl_dim: Int64 2\n",
       "  velocity_min: Float64 0.0\n",
       "  velocity_max: Float64 2.0\n",
       "  control_min: Array{Float64}((2,)) [-1.0, -2.0]\n",
       "  control_max: Array{Float64}((2,)) [1.0, 2.0]\n"
      ]
     },
     "metadata": {},
     "output_type": "display_data"
    }
   ],
   "source": [
    "robot = DynamicallyExtendedUnicycle(dt, 2., [1., 2.])"
   ]
  },
  {
   "cell_type": "code",
   "execution_count": 19,
   "metadata": {},
   "outputs": [
    {
     "data": {
      "text/plain": [
       "IPSimParams(PlannerParams(PlannerHyperparameters{Float64}\n",
       "  dynamics: DynamicallyExtendedUnicycle{Float64}\n",
       "  time_horizon: Int64 25\n",
       "  Q: Array{Float64}((4, 4)) [0.0 0.0 0.0 0.0; 0.0 0.0 0.0 0.0; 0.0 0.0 0.0 0.0; 0.0 0.0 0.0 0.0]\n",
       "  R: Array{Float64}((2, 2)) [1.0 0.0; 0.0 0.0]\n",
       "  Qt: Array{Float64}((4, 4)) [10.0 0.0 0.0 0.0; 0.0 10.0 0.0 0.0; 0.0 0.0 0.0 0.0; 0.0 0.0 0.0 0.0]\n",
       "  markup: Float64 1.05\n",
       "  collision_slack: Float64 150.0\n",
       "  collision_markup: Float64 0.98\n",
       "  trust_region_weight: Float64 5.0\n",
       "  inconvenience_weights: Array{Float64}((3,)) [1.0, 1.0, 0.1]\n",
       "  collision_radius: Float64 1.0\n",
       "  inconvenience_ratio: Float64 0.2\n",
       ", PlannerOptimizerParams{Float64}\n",
       "  As: Array{Matrix{Float64}}((25,))\n",
       "  Bs: Array{Matrix{Float64}}((25,))\n",
       "  Cs: Array{Vector{Float64}}((25,))\n",
       "  Gs: Array{Vector{Float64}}((26,))\n",
       "  Hs: Array{Float64}((26,)) [99.00000002246442, 98.8500001399322, 98.40000043867742, 97.65000093008476, 96.60000168407375, 95.25000282034334, 93.60000452041082, 91.65000713406478, 89.40001291640263, 86.87176227456894  …  66.24344090452958, 63.24253087688602, 60.24162078562279, 57.24071067513877, 54.23980057973506, 51.23889054270984, 48.23798062805328, 45.23707076204176, 42.236160230327606, 39.221402218177026]\n",
       "  inconvenience_budget: Float64 6.9156667759704975\n",
       "  initial_state: Array{Float64}((4,)) [0.0, 0.0, 0.0, 0.0]\n",
       "  goal_state: Array{Float64}((4,)) [10.0, 0.0, 0.0, 0.0]\n",
       "  previous_states: Array{Vector{Float64}}((26,))\n",
       "  previous_controls: Array{Vector{Float64}}((25,))\n",
       "  other_positions: Array{Vector{Float64}}((26,))\n",
       "  solver: String \"ECOS\"\n",
       ", PlannerHyperparameters{Float64}\n",
       "  dynamics: DynamicallyExtendedUnicycle{Float64}\n",
       "  time_horizon: Int64 25\n",
       "  Q: Array{Float64}((4, 4)) [0.0 0.0 0.0 0.0; 0.0 0.0 0.0 0.0; 0.0 0.0 0.0 0.0; 0.0 0.0 0.0 0.0]\n",
       "  R: Array{Float64}((2, 2)) [1.0 0.0; 0.0 0.3]\n",
       "  Qt: Array{Float64}((4, 4)) [10.0 0.0 0.0 0.0; 0.0 10.0 0.0 0.0; 0.0 0.0 0.0 0.0; 0.0 0.0 0.0 0.0]\n",
       "  markup: Float64 1.05\n",
       "  collision_slack: Float64 150.0\n",
       "  collision_markup: Float64 0.98\n",
       "  trust_region_weight: Float64 5.0\n",
       "  inconvenience_weights: Array{Float64}((3,)) [1.0, 1.0, 0.1]\n",
       "  collision_radius: Float64 1.0\n",
       "  inconvenience_ratio: Float64 0.2\n",
       ", PlannerOptimizerParams{Float64}\n",
       "  As: Array{Matrix{Float64}}((25,))\n",
       "  Bs: Array{Matrix{Float64}}((25,))\n",
       "  Cs: Array{Vector{Float64}}((25,))\n",
       "  Gs: Array{Vector{Float64}}((26,))\n",
       "  Hs: Array{Float64}((26,)) [-101.00000002246439, -100.85000013993219, -100.40000043867741, -99.65000093008472, -98.60000168407376, -97.25000282034335, -95.6000045204108, -93.65000713406477, -91.40001291640263, -88.87176227456892  …  -68.24344090452958, -65.24253087688601, -62.241620785622786, -59.24071067513878, -56.23980057973506, -53.23889054270984, -50.23798062805328, -47.23707076204175, -44.236160230327606, -41.22140221817702]\n",
       "  inconvenience_budget: Float64 6.915632055279105\n",
       "  initial_state: Array{Float64}((4,)) [10.0, 0.0, 3.141592653589793, 0.0]\n",
       "  goal_state: Array{Float64}((4,)) [0.0, 0.0, 3.141592653589793, 0.0]\n",
       "  previous_states: Array{Vector{Float64}}((26,))\n",
       "  previous_controls: Array{Vector{Float64}}((25,))\n",
       "  other_positions: Array{Vector{Float64}}((26,))\n",
       "  solver: String \"ECOS\"\n",
       "), PlannerParams(PlannerHyperparameters{Float64}\n",
       "  dynamics: DynamicallyExtendedUnicycle{Float64}\n",
       "  time_horizon: Int64 25\n",
       "  Q: Array{Float64}((4, 4)) [0.0 0.0 0.0 0.0; 0.0 0.0 0.0 0.0; 0.0 0.0 0.0 0.0; 0.0 0.0 0.0 0.0]\n",
       "  R: Array{Float64}((2, 2)) [1.0 0.0; 0.0 0.3]\n",
       "  Qt: Array{Float64}((4, 4)) [10.0 0.0 0.0 0.0; 0.0 10.0 0.0 0.0; 0.0 0.0 0.0 0.0; 0.0 0.0 0.0 0.0]\n",
       "  markup: Float64 1.05\n",
       "  collision_slack: Float64 150.0\n",
       "  collision_markup: Float64 0.98\n",
       "  trust_region_weight: Float64 5.0\n",
       "  inconvenience_weights: Array{Float64}((3,)) [1.0, 1.0, 0.1]\n",
       "  collision_radius: Float64 1.0\n",
       "  inconvenience_ratio: Float64 0.2\n",
       ", PlannerOptimizerParams{Float64}\n",
       "  As: Array{Matrix{Float64}}((25,))\n",
       "  Bs: Array{Matrix{Float64}}((25,))\n",
       "  Cs: Array{Vector{Float64}}((25,))\n",
       "  Gs: Array{Vector{Float64}}((26,))\n",
       "  Hs: Array{Float64}((26,)) [-101.00000002246439, -100.85000013993219, -100.40000043867741, -99.65000093008472, -98.60000168407376, -97.25000282034335, -95.6000045204108, -93.65000713406477, -91.40001291640263, -88.87176227456892  …  -68.24344090452958, -65.24253087688601, -62.241620785622786, -59.24071067513878, -56.23980057973506, -53.23889054270984, -50.23798062805328, -47.23707076204175, -44.236160230327606, -41.22140221817702]\n",
       "  inconvenience_budget: Float64 6.915632055279105\n",
       "  initial_state: Array{Float64}((4,)) [10.0, 0.0, 3.141592653589793, 0.0]\n",
       "  goal_state: Array{Float64}((4,)) [0.0, 0.0, 3.141592653589793, 0.0]\n",
       "  previous_states: Array{Vector{Float64}}((26,))\n",
       "  previous_controls: Array{Vector{Float64}}((25,))\n",
       "  other_positions: Array{Vector{Float64}}((26,))\n",
       "  solver: String \"ECOS\"\n",
       ", PlannerHyperparameters{Float64}\n",
       "  dynamics: DynamicallyExtendedUnicycle{Float64}\n",
       "  time_horizon: Int64 25\n",
       "  Q: Array{Float64}((4, 4)) [0.0 0.0 0.0 0.0; 0.0 0.0 0.0 0.0; 0.0 0.0 0.0 0.0; 0.0 0.0 0.0 0.0]\n",
       "  R: Array{Float64}((2, 2)) [1.0 0.0; 0.0 0.0]\n",
       "  Qt: Array{Float64}((4, 4)) [10.0 0.0 0.0 0.0; 0.0 10.0 0.0 0.0; 0.0 0.0 0.0 0.0; 0.0 0.0 0.0 0.0]\n",
       "  markup: Float64 1.05\n",
       "  collision_slack: Float64 150.0\n",
       "  collision_markup: Float64 0.98\n",
       "  trust_region_weight: Float64 5.0\n",
       "  inconvenience_weights: Array{Float64}((3,)) [1.0, 1.0, 0.1]\n",
       "  collision_radius: Float64 1.0\n",
       "  inconvenience_ratio: Float64 0.2\n",
       ", PlannerOptimizerParams{Float64}\n",
       "  As: Array{Matrix{Float64}}((25,))\n",
       "  Bs: Array{Matrix{Float64}}((25,))\n",
       "  Cs: Array{Vector{Float64}}((25,))\n",
       "  Gs: Array{Vector{Float64}}((26,))\n",
       "  Hs: Array{Float64}((26,)) [99.00000002246442, 98.8500001399322, 98.40000043867742, 97.65000093008476, 96.60000168407375, 95.25000282034334, 93.60000452041082, 91.65000713406478, 89.40001291640263, 86.87176227456894  …  66.24344090452958, 63.24253087688602, 60.24162078562279, 57.24071067513877, 54.23980057973506, 51.23889054270984, 48.23798062805328, 45.23707076204176, 42.236160230327606, 39.221402218177026]\n",
       "  inconvenience_budget: Float64 6.9156667759704975\n",
       "  initial_state: Array{Float64}((4,)) [0.0, 0.0, 0.0, 0.0]\n",
       "  goal_state: Array{Float64}((4,)) [10.0, 0.0, 0.0, 0.0]\n",
       "  previous_states: Array{Vector{Float64}}((26,))\n",
       "  previous_controls: Array{Vector{Float64}}((25,))\n",
       "  other_positions: Array{Vector{Float64}}((26,))\n",
       "  solver: String \"ECOS\"\n",
       "))"
      ]
     },
     "metadata": {},
     "output_type": "display_data"
    }
   ],
   "source": [
    "ego_params = PlannerParams(human_ip.other_planner.incon.hps, human_ip.other_planner.incon.opt_params, human_ip.ego_planner.incon.hps, human_ip.ego_planner.incon.opt_params)\n",
    "other_params = PlannerParams(human_ip.ego_planner.incon.hps, human_ip.ego_planner.incon.opt_params, human_ip.other_planner.incon.hps, human_ip.other_planner.incon.opt_params)\n",
    "sim_params = IPSimParams(ego_params, other_params)"
   ]
  },
  {
   "cell_type": "code",
   "execution_count": 20,
   "metadata": {},
   "outputs": [
    {
     "name": "stdout",
     "output_type": "stream",
     "text": [
      "DynamicallyExtendedUnicycle{Float64}"
     ]
    },
    {
     "data": {
      "text/plain": [
       "([0.0 0.0 0.0 0.0; 0.004989893079499825 0.0 0.0 0.09979786158999648; … ; 5.819792468345285 0.19587656273005508 0.10164841160627623 1.6845725720847269; 5.988574490722056 0.21255458843463626 0.09535428075426118 1.7075136639965907], [0.0 0.9979786158999647; 0.9999999999999999 0.9481418280742918; … ; -0.05568316444830229 0.24901709354476942; -0.06294130852015056 0.22941091911863673], [10.00000000112322 8.177052497046946e-10 3.1415926538813843 -2.859141557728453e-9; 9.99250017831022 4.6092710772517095e-5 3.1323741746341742 0.14999964585986442; … ; 3.5782901174384967 -0.9775665099051265 2.9960326133217356 1.4999997966129002; 3.43013873771626 -0.9544125493813833 2.9770872494435294 1.4990407000007195], [-0.09218479247210248 1.4999964871900597; 0.06354598646922492 1.4999969309945131; … ; -0.21894757828353448 1.6624392959160148e-6; -0.18945363878206392 -0.009590966121806314])"
      ]
     },
     "metadata": {},
     "output_type": "display_data"
    }
   ],
   "source": [
    "ego_states, ego_controls, other_states, other_controls = simulate_human_social_forces(robot, human_ip, [0.; 0.; 0.; 0.], [10.; 0.; 0.; 0.], 50)"
   ]
  },
  {
   "cell_type": "code",
   "execution_count": 21,
   "metadata": {},
   "outputs": [
    {
     "name": "stderr",
     "output_type": "stream",
     "text": [
      "\r0.0%┣                                                ┫ 0/2 [00:00<00:00, -0s/it]\n"
     ]
    },
    {
     "name": "stdout",
     "output_type": "stream",
     "text": [
      "5151"
     ]
    },
    {
     "name": "stderr",
     "output_type": "stream",
     "text": [
      "\u001b[1A\r50.0%┣█████████████████████▌                     ┫ 1/2 [00:04<Inf:Inf, InfGs/it]\n"
     ]
    },
    {
     "name": "stdout",
     "output_type": "stream",
     "text": [
      "5151"
     ]
    },
    {
     "name": "stderr",
     "output_type": "stream",
     "text": [
      "\u001b[1A\r100.0%┣██████████████████████████████████████████████┫ 2/2 [00:10<00:00, 10s/it]\n",
      "\u001b[1A\r100.0%┣██████████████████████████████████████████████┫ 2/2 [00:10<00:00, 10s/it]\n"
     ]
    },
    {
     "data": {
      "text/plain": [
       "Dict{String, SimMetrics} with 2 entries:\n",
       "  \"Run 2\" => SimMetrics(Dict(\"Ego Avg Control Effort\"=>0.383445, \"Other Avg Con…\n",
       "  \"Run 1\" => SimMetrics(Dict(\"Ego Avg Control Effort\"=>0.383445, \"Other Avg Con…"
      ]
     },
     "metadata": {},
     "output_type": "display_data"
    }
   ],
   "source": [
    "sfm_sim_data = SimData(sim_params, ([0.], nothing), ego_states, ego_controls, other_states, other_controls)\n",
    "sfm_data_for_eval = Dict(\"Run 1\" => sfm_sim_data, \"Run 2\" => sfm_sim_data)\n",
    "metrics = evaluate_sim(sfm_data_for_eval)"
   ]
  },
  {
   "cell_type": "code",
   "execution_count": 22,
   "metadata": {},
   "outputs": [
    {
     "data": {
      "text/plain": [
       "GtkLabelLeaf(name=\"\", parent, width-request=-1, height-request=-1, visible=TRUE, sensitive=TRUE, app-paintable=FALSE, can-focus=FALSE, has-focus=FALSE, is-focus=FALSE, focus-on-click=TRUE, can-default=FALSE, has-default=FALSE, receives-default=FALSE, composite-child=FALSE, style, events=0, no-show-all=FALSE, has-tooltip=FALSE, tooltip-markup=NULL, tooltip-text=NULL, window, opacity=1.000000, double-buffered, halign=GTK_ALIGN_FILL, valign=GTK_ALIGN_FILL, margin-left, margin-right, margin-start=0, margin-end=0, margin-top=0, margin-bottom=100, margin=100, hexpand=FALSE, vexpand=FALSE, hexpand-set=FALSE, vexpand-set=TRUE, expand=FALSE, scale-factor=1, xpad, ypad, label=\"<b><u>Sim 2 Metrics</u></b>\n",
       "<b> </b> \n",
       "<b>Ego Average Acceleration = </b>0.3369\n",
       "<b>Other Average Acceleration = </b>0.3\n",
       "<b>-</b><b>-</b><b>-</b><b>-</b><b>-</b><b>-</b><b>-</b><b>-</b><b>-</b><b>-</b><b>-</b><b>-</b><b>-</b><b>-</b><b>-</b><b>-</b><b>-</b><b>-</b><b>-</b><b>-</b><b>-</b><b>-</b><b>-</b><b>-</b><b>-</b><b>-</b><b>-</b><b>-</b><b>-</b><b>-</b><b>-</b><b>-</b><b>-</b><b>-</b><b>-</b><b>-</b><b>-</b><b>-</b><b>-</b><b>-</b><b>-</b><b>-</b><b>-</b><b>-</b><b>-</b><b>-</b><b>-</b><b>-</b><b>-</b><b>-</b><b>-</b><b>-</b><b>-</b><b>-</b><b>-</b><b>-</b><b>-</b><b>-</b>\n",
       "<b>Ego PI = </b>1.846\n",
       "<b>Other PI = </b>13.56\n",
       "<b>-</b><b>-</b><b>-</b><b>-</b><b>-</b><b>-</b><b>-</b><b>-</b><b>-</b><b>-</b><b>-</b><b>-</b><b>-</b><b>-</b><b>-</b><b>-</b><b>-</b><b>-</b><b>-</b><b>-</b><b>-</b><b>-</b><b>-</b><b>-</b><b>-</b><b>-</b><b>-</b><b>-</b><b>-</b><b>-</b><b>-</b><b>-</b><b>-</b><b>-</b><b>-</b><b>-</b><b>-</b><b>-</b><b>-</b><b>-</b><b>-</b><b>-</b><b>-</b><b>-</b><b>-</b><b>-</b><b>-</b><b>-</b><b>-</b><b>-</b><b>-</b><b>-</b><b>-</b><b>-</b><b>-</b><b>-</b><b>-</b><b>-</b>\n",
       "<b>Ego PE = </b>1.045\n",
       "<b>Other PE = </b>1.175\n",
       "<b>-</b><b>-</b><b>-</b><b>-</b><b>-</b><b>-</b><b>-</b><b>-</b><b>-</b><b>-</b><b>-</b><b>-</b><b>-</b><b>-</b><b>-</b><b>-</b><b>-</b><b>-</b><b>-</b><b>-</b><b>-</b><b>-</b><b>-</b><b>-</b><b>-</b><b>-</b><b>-</b><b>-</b><b>-</b><b>-</b><b>-</b><b>-</b><b>-</b><b>-</b><b>-</b><b>-</b><b>-</b><b>-</b><b>-</b><b>-</b><b>-</b><b>-</b><b>-</b><b>-</b><b>-</b><b>-</b><b>-</b><b>-</b><b>-</b><b>-</b><b>-</b><b>-</b><b>-</b><b>-</b><b>-</b><b>-</b><b>-</b><b>-</b>\n",
       "<b>Minimum Distance = </b>1.072\n",
       "<b>-</b><b>-</b><b>-</b><b>-</b><b>-</b><b>-</b><b>-</b><b>-</b><b>-</b><b>-</b><b>-</b><b>-</b><b>-</b><b>-</b><b>-</b><b>-</b><b>-</b><b>-</b><b>-</b><b>-</b><b>-</b><b>-</b><b>-</b><b>-</b><b>-</b><b>-</b><b>-</b><b>-</b><b>-</b><b>-</b><b>-</b><b>-</b><b>-</b><b>-</b><b>-</b><b>-</b><b>-</b><b>-</b><b>-</b><b>-</b><b>-</b><b>-</b><b>-</b><b>-</b><b>-</b><b>-</b><b>-</b><b>-</b><b>-</b><b>-</b><b>-</b><b>-</b><b>-</b><b>-</b><b>-</b><b>-</b><b>-</b><b>-</b>\n",
       "<b>Max Solve Time: </b>0.0 s\n",
       "<b>Average Solve Time: </b>0.0 s\n",
       "<b>Planning Deadline Overruns: </b>0\", attributes, use-markup=TRUE, use-underline=FALSE, justify=GTK_JUSTIFY_LEFT, pattern, wrap=FALSE, wrap-mode=PANGO_WRAP_WORD, selectable=FALSE, mnemonic-keyval=16777215, mnemonic-widget, cursor-position=0, selection-bound=0, ellipsize=PANGO_ELLIPSIZE_NONE, width-chars=-1, single-line-mode=FALSE, angle=0.000000, max-width-chars=-1, track-visited-links=TRUE, lines=-1, xalign=0.500000, yalign=0.500000)"
      ]
     },
     "metadata": {},
     "output_type": "display_data"
    }
   ],
   "source": [
    "display_data(metrics)"
   ]
  },
  {
   "cell_type": "code",
   "execution_count": 24,
   "metadata": {},
   "outputs": [
    {
     "name": "stderr",
     "output_type": "stream",
     "text": [
      "┌ Info: Saved animation to /tmp/jl_03ChAlOduv.gif\n",
      "└ @ Plots /home/jasper/.julia/packages/Plots/3BCH5/src/animation.jl:156\n"
     ]
    },
    {
     "data": {
      "text/html": [
       "<img src=\"data:image/gif;base64,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\" />"
      ],
      "text/plain": [
       "Plots.AnimatedGif(\"/tmp/jl_03ChAlOduv.gif\")"
      ]
     },
     "metadata": {},
     "output_type": "display_data"
    }
   ],
   "source": [
    "animation(ego_states, other_states, pos_xlims=[-1, 11], pos_ylims=[-3, 3])"
   ]
  },
  {
   "cell_type": "code",
   "execution_count": 25,
   "metadata": {},
   "outputs": [
    {
     "data": {
      "text/plain": [
       "simulation_sweep (generic function with 2 methods)"
      ]
     },
     "metadata": {},
     "output_type": "display_data"
    }
   ],
   "source": [
    "function simulation_sweep(ego::DynamicallyExtendedUnicycle, other_ip::InteractionPlanner, sim_horizon, ego_boundary_conditions::Vector{Tuple{Vector{Float64}, Vector{Float64}}}, other_boundary_conditions::Vector{Tuple{Vector{Float64}, Vector{Float64}}})\n",
    "    runs = maximum([length(ego_boundary_conditions), length(other_boundary_conditions)])\n",
    "\n",
    "    ego_ego_hps = other_ip.other_planner.incon.hps\n",
    "    ego_other_hps = other_ip.ego_planner.incon.hps\n",
    "    other_ego_hps = other_ip.ego_planner.incon.hps\n",
    "    other_other_hps = other_ip.other_planner.incon.hps\n",
    "\n",
    "    if length(ego_boundary_conditions) == 1 \n",
    "        for i in 1:(runs - 1)\n",
    "            push!(ego_boundary_conditions, ego_boundary_conditions[1])\n",
    "        end\n",
    "    elseif length(other_boundary_conditions) == 1\n",
    "        for i in 1:(runs - 1)\n",
    "            push!(other_boundary_conditions, other_boundary_conditions[1])\n",
    "        end\n",
    "    end\n",
    "\n",
    "    if length(ego_boundary_conditions) != length(other_boundary_conditions)\n",
    "        throw(ArgumentError(\"length of 'ego_boundary_conditions' and 'other_boundary_conditions' must match\"))\n",
    "    end\n",
    "\n",
    "    runs_dict = Dict{String, SimData}()\n",
    "\n",
    "    for j in ProgressBar(1:runs)\n",
    "        sim_other_ip = InteractionPlanner(other_ego_hps, other_other_hps, other_boundary_conditions[j][1], ego_boundary_conditions[j][1], other_boundary_conditions[j][2], ego_boundary_conditions[j][2], \"ECOS\")\n",
    "\n",
    "        ego_params = PlannerParams(sim_other_ip.other_planner.incon.hps, sim_other_ip.other_planner.incon.opt_params, sim_other_ip.ego_planner.incon.hps, sim_other_ip.ego_planner.incon.opt_params)\n",
    "        other_params = PlannerParams(sim_other_ip.ego_planner.incon.hps, sim_other_ip.ego_planner.incon.opt_params, sim_other_ip.other_planner.incon.hps, sim_other_ip.other_planner.incon.opt_params)\n",
    "\n",
    "        sim_params = IPSimParams(ego_params, other_params)\n",
    "\n",
    "        ego_states, ego_controls, other_states, other_controls = simulate_human_social_forces(ego, sim_other_ip, ego_boundary_conditions[j][1], ego_boundary_conditions[j][2], sim_horizon)\n",
    "\n",
    "        sim_data = SimData(sim_params, ([0.], nothing), ego_states, ego_controls, other_states, other_controls)\n",
    "\n",
    "        runs_dict[\"Run $(j)\"] = sim_data\n",
    "\n",
    "        # deleting variables\n",
    "        sim_ego_ip = nothing\n",
    "        sim_other_ip = nothing\n",
    "        ego_params = nothing\n",
    "        other_params = nothing\n",
    "        sim_params = nothing\n",
    "        ego_states = nothing\n",
    "        ego_controls = nothing\n",
    "        other_states = nothing\n",
    "        other_controls = nothing\n",
    "        sim_data = nothing\n",
    "    end\n",
    "\n",
    "    runs_dict\n",
    "end"
   ]
  },
  {
   "cell_type": "code",
   "execution_count": 41,
   "metadata": {},
   "outputs": [
    {
     "data": {
      "text/plain": [
       "40-element Vector{Tuple{Vector{Float64}, Vector{Float64}}}:\n",
       " ([0.0, 0.0, 0.0, 0.0], [10.0, 0.0, 0.0, 0.0])\n",
       " ([0.061558297024310704, -0.7821723252011543, 0.15707963267948966, 0.0], [9.93844170297569, 0.7821723252011543, 0.15707963267948966, 0.0])\n",
       " ([0.24471741852423268, -1.545084971874737, 0.3141592653589793, 0.0], [9.755282581475768, 1.545084971874737, 0.3141592653589793, 0.0])\n",
       " ([0.5449673790581606, -2.2699524986977337, 0.47123889803846897, 0.0], [9.45503262094184, 2.2699524986977337, 0.47123889803846897, 0.0])\n",
       " ([0.9549150281252627, -2.938926261462366, 0.6283185307179586, 0.0], [9.045084971874736, 2.938926261462366, 0.6283185307179586, 0.0])\n",
       " ([1.4644660940672622, -3.5355339059327373, 0.7853981633974483, 0.0], [8.535533905932738, 3.5355339059327373, 0.7853981633974483, 0.0])\n",
       " ([2.061073738537634, -4.045084971874737, 0.9424777960769379, 0.0], [7.938926261462366, 4.045084971874737, 0.9424777960769379, 0.0])\n",
       " ([2.730047501302266, -4.455032620941839, 1.0995574287564276, 0.0], [7.269952498697734, 4.455032620941839, 1.0995574287564276, 0.0])\n",
       " ([3.4549150281252627, -4.755282581475767, 1.2566370614359172, 0.0], [6.545084971874737, 4.755282581475767, 1.2566370614359172, 0.0])\n",
       " ([4.217827674798845, -4.938441702975689, 1.413716694115407, 0.0], [5.782172325201155, 4.938441702975689, 1.413716694115407, 0.0])\n",
       " ⋮\n",
       " ([3.454915028125263, 4.755282581475768, -1.2566370614359172, 0.0], [6.545084971874736, -4.755282581475768, -1.2566370614359172, 0.0])\n",
       " ([2.7300475013022663, 4.455032620941839, -1.0995574287564276, 0.0], [7.269952498697734, -4.455032620941839, -1.0995574287564276, 0.0])\n",
       " ([2.061073738537635, 4.045084971874737, -0.9424777960769379, 0.0], [7.938926261462365, -4.045084971874737, -0.9424777960769379, 0.0])\n",
       " ([1.4644660940672627, 3.5355339059327378, -0.7853981633974483, 0.0], [8.535533905932738, -3.5355339059327378, -0.7853981633974483, 0.0])\n",
       " ([0.9549150281252636, 2.9389262614623664, -0.6283185307179586, 0.0], [9.045084971874736, -2.9389262614623664, -0.6283185307179586, 0.0])\n",
       " ([0.5449673790581606, 2.269952498697734, -0.47123889803846897, 0.0], [9.45503262094184, -2.269952498697734, -0.47123889803846897, 0.0])\n",
       " ([0.24471741852423268, 1.5450849718747375, -0.3141592653589793, 0.0], [9.755282581475768, -1.5450849718747375, -0.3141592653589793, 0.0])\n",
       " ([0.06155829702431159, 0.7821723252011549, -0.15707963267948966, 0.0], [9.938441702975688, -0.7821723252011549, -0.15707963267948966, 0.0])\n",
       " ([0.0, 6.123233995736766e-16, 0.0, 0.0], [10.0, -6.123233995736766e-16, 0.0, 0.0])"
      ]
     },
     "metadata": {},
     "output_type": "display_data"
    }
   ],
   "source": [
    "circular_states = mohrs_circle_states(robot, [0.; 0.; 0.; 0.], [10.; 0.; 0.; 0.], π/20)"
   ]
  },
  {
   "cell_type": "code",
   "execution_count": 42,
   "metadata": {},
   "outputs": [
    {
     "name": "stderr",
     "output_type": "stream",
     "text": [
      "\r0.0%┣                                               ┫ 0/40 [00:00<00:00, -0s/it]\n"
     ]
    },
    {
     "name": "stdout",
     "output_type": "stream",
     "text": [
      "DynamicallyExtendedUnicycle{Float64}"
     ]
    },
    {
     "name": "stdout",
     "output_type": "stream",
     "text": [
      "DynamicallyExtendedUnicycle{Float64}"
     ]
    },
    {
     "name": "stderr",
     "output_type": "stream",
     "text": [
      "\u001b[1A\r2.5%┣█                                          ┫ 1/40 [00:05<Inf:Inf, InfGs/it]\n"
     ]
    },
    {
     "name": "stdout",
     "output_type": "stream",
     "text": [
      "DynamicallyExtendedUnicycle{Float64}"
     ]
    },
    {
     "name": "stderr",
     "output_type": "stream",
     "text": [
      "\u001b[1A\r5.0%┣██▍                                            ┫ 2/40 [00:11<06:51, 11s/it]\n"
     ]
    },
    {
     "name": "stdout",
     "output_type": "stream",
     "text": [
      "DynamicallyExtendedUnicycle{Float64}"
     ]
    },
    {
     "name": "stderr",
     "output_type": "stream",
     "text": [
      "\u001b[1A\r7.5%┣███▋                                            ┫ 3/40 [00:16<05:02, 8s/it]\n"
     ]
    },
    {
     "name": "stdout",
     "output_type": "stream",
     "text": [
      "DynamicallyExtendedUnicycle{Float64}"
     ]
    },
    {
     "name": "stderr",
     "output_type": "stream",
     "text": [
      "\u001b[1A\r10.0%┣████▊                                          ┫ 4/40 [00:22<04:21, 7s/it]\n"
     ]
    },
    {
     "name": "stdout",
     "output_type": "stream",
     "text": [
      "DynamicallyExtendedUnicycle{Float64}"
     ]
    },
    {
     "name": "stderr",
     "output_type": "stream",
     "text": [
      "\u001b[1A\r12.5%┣█████▉                                         ┫ 5/40 [00:27<03:59, 7s/it]\n"
     ]
    },
    {
     "name": "stdout",
     "output_type": "stream",
     "text": [
      "DynamicallyExtendedUnicycle{Float64}"
     ]
    },
    {
     "name": "stderr",
     "output_type": "stream",
     "text": [
      "\u001b[1A\r15.0%┣███████                                        ┫ 6/40 [00:33<03:44, 7s/it]\n"
     ]
    },
    {
     "name": "stdout",
     "output_type": "stream",
     "text": [
      "DynamicallyExtendedUnicycle{Float64}"
     ]
    },
    {
     "name": "stderr",
     "output_type": "stream",
     "text": [
      "\u001b[1A\r17.5%┣████████▎                                      ┫ 7/40 [00:39<03:33, 6s/it]\n"
     ]
    },
    {
     "name": "stdout",
     "output_type": "stream",
     "text": [
      "DynamicallyExtendedUnicycle{Float64}"
     ]
    },
    {
     "name": "stderr",
     "output_type": "stream",
     "text": [
      "\u001b[1A\r20.0%┣█████████▍                                     ┫ 8/40 [00:44<03:22, 6s/it]\n"
     ]
    },
    {
     "name": "stdout",
     "output_type": "stream",
     "text": [
      "DynamicallyExtendedUnicycle{Float64}"
     ]
    },
    {
     "name": "stderr",
     "output_type": "stream",
     "text": [
      "\u001b[1A\r22.5%┣██████████▋                                    ┫ 9/40 [00:50<03:14, 6s/it]\n"
     ]
    },
    {
     "name": "stdout",
     "output_type": "stream",
     "text": [
      "DynamicallyExtendedUnicycle{Float64}"
     ]
    },
    {
     "name": "stderr",
     "output_type": "stream",
     "text": [
      "\u001b[1A\r25.0%┣███████████▌                                  ┫ 10/40 [00:56<03:06, 6s/it]\n"
     ]
    },
    {
     "name": "stdout",
     "output_type": "stream",
     "text": [
      "DynamicallyExtendedUnicycle{Float64}"
     ]
    },
    {
     "name": "stderr",
     "output_type": "stream",
     "text": [
      "\u001b[1A\r27.5%┣████████████▋                                 ┫ 11/40 [01:02<02:59, 6s/it]\n"
     ]
    },
    {
     "name": "stdout",
     "output_type": "stream",
     "text": [
      "DynamicallyExtendedUnicycle{Float64}"
     ]
    },
    {
     "name": "stderr",
     "output_type": "stream",
     "text": [
      "\u001b[1A\r30.0%┣█████████████▉                                ┫ 12/40 [01:07<02:51, 6s/it]\n"
     ]
    },
    {
     "name": "stdout",
     "output_type": "stream",
     "text": [
      "DynamicallyExtendedUnicycle{Float64}"
     ]
    },
    {
     "name": "stderr",
     "output_type": "stream",
     "text": [
      "\u001b[1A\r32.5%┣███████████████                               ┫ 13/40 [01:13<02:44, 6s/it]\n"
     ]
    },
    {
     "name": "stdout",
     "output_type": "stream",
     "text": [
      "DynamicallyExtendedUnicycle{Float64}"
     ]
    },
    {
     "name": "stderr",
     "output_type": "stream",
     "text": [
      "\u001b[1A\r35.0%┣████████████████                              ┫ 14/40 [01:18<02:36, 6s/it]\n"
     ]
    },
    {
     "name": "stdout",
     "output_type": "stream",
     "text": [
      "DynamicallyExtendedUnicycle{Float64}"
     ]
    },
    {
     "name": "stderr",
     "output_type": "stream",
     "text": [
      "\u001b[1A\r37.5%┣█████████████████▎                            ┫ 15/40 [01:24<02:30, 6s/it]\n"
     ]
    },
    {
     "name": "stdout",
     "output_type": "stream",
     "text": [
      "DynamicallyExtendedUnicycle{Float64}"
     ]
    },
    {
     "name": "stderr",
     "output_type": "stream",
     "text": [
      "\u001b[1A\r40.0%┣██████████████████▍                           ┫ 16/40 [01:29<02:23, 6s/it]\n"
     ]
    },
    {
     "name": "stdout",
     "output_type": "stream",
     "text": [
      "DynamicallyExtendedUnicycle{Float64}"
     ]
    },
    {
     "name": "stderr",
     "output_type": "stream",
     "text": [
      "\u001b[1A\r42.5%┣███████████████████▌                          ┫ 17/40 [01:35<02:16, 6s/it]\n"
     ]
    },
    {
     "name": "stdout",
     "output_type": "stream",
     "text": [
      "DynamicallyExtendedUnicycle{Float64}"
     ]
    },
    {
     "name": "stderr",
     "output_type": "stream",
     "text": [
      "\u001b[1A\r45.0%┣████████████████████▊                         ┫ 18/40 [01:40<02:10, 6s/it]\n"
     ]
    },
    {
     "name": "stdout",
     "output_type": "stream",
     "text": [
      "DynamicallyExtendedUnicycle{Float64}"
     ]
    },
    {
     "name": "stderr",
     "output_type": "stream",
     "text": [
      "\u001b[1A\r47.5%┣█████████████████████▉                        ┫ 19/40 [01:46<02:03, 6s/it]\n"
     ]
    },
    {
     "name": "stdout",
     "output_type": "stream",
     "text": [
      "DynamicallyExtendedUnicycle{Float64}"
     ]
    },
    {
     "name": "stderr",
     "output_type": "stream",
     "text": [
      "\u001b[1A\r50.0%┣███████████████████████                       ┫ 20/40 [01:51<01:57, 6s/it]\n"
     ]
    },
    {
     "name": "stdout",
     "output_type": "stream",
     "text": [
      "DynamicallyExtendedUnicycle{Float64}"
     ]
    },
    {
     "name": "stderr",
     "output_type": "stream",
     "text": [
      "\u001b[1A\r52.5%┣████████████████████████▏                     ┫ 21/40 [01:56<01:51, 6s/it]\n"
     ]
    },
    {
     "name": "stdout",
     "output_type": "stream",
     "text": [
      "DynamicallyExtendedUnicycle{Float64}"
     ]
    },
    {
     "name": "stderr",
     "output_type": "stream",
     "text": [
      "\u001b[1A\r55.0%┣█████████████████████████▎                    ┫ 22/40 [02:02<01:45, 6s/it]\n"
     ]
    },
    {
     "name": "stdout",
     "output_type": "stream",
     "text": [
      "DynamicallyExtendedUnicycle{Float64}"
     ]
    },
    {
     "name": "stderr",
     "output_type": "stream",
     "text": [
      "\u001b[1A\r57.5%┣██████████████████████████▌                   ┫ 23/40 [02:08<01:39, 6s/it]\n"
     ]
    },
    {
     "name": "stdout",
     "output_type": "stream",
     "text": [
      "DynamicallyExtendedUnicycle{Float64}"
     ]
    },
    {
     "name": "stderr",
     "output_type": "stream",
     "text": [
      "\u001b[1A\r60.0%┣███████████████████████████▋                  ┫ 24/40 [02:13<01:33, 6s/it]\n"
     ]
    },
    {
     "name": "stdout",
     "output_type": "stream",
     "text": [
      "DynamicallyExtendedUnicycle{Float64}"
     ]
    },
    {
     "name": "stderr",
     "output_type": "stream",
     "text": [
      "\u001b[1A\r62.5%┣████████████████████████████▊                 ┫ 25/40 [02:19<01:27, 6s/it]\n"
     ]
    },
    {
     "name": "stdout",
     "output_type": "stream",
     "text": [
      "DynamicallyExtendedUnicycle{Float64}"
     ]
    },
    {
     "name": "stderr",
     "output_type": "stream",
     "text": [
      "\u001b[1A\r65.0%┣██████████████████████████████                ┫ 26/40 [02:25<01:21, 6s/it]\n"
     ]
    },
    {
     "name": "stdout",
     "output_type": "stream",
     "text": [
      "DynamicallyExtendedUnicycle{Float64}"
     ]
    },
    {
     "name": "stderr",
     "output_type": "stream",
     "text": [
      "\u001b[1A\r67.5%┣███████████████████████████████               ┫ 27/40 [02:31<01:15, 6s/it]\n"
     ]
    },
    {
     "name": "stdout",
     "output_type": "stream",
     "text": [
      "DynamicallyExtendedUnicycle{Float64}"
     ]
    },
    {
     "name": "stderr",
     "output_type": "stream",
     "text": [
      "\u001b[1A\r70.0%┣████████████████████████████████▏             ┫ 28/40 [02:36<01:09, 6s/it]\n"
     ]
    },
    {
     "name": "stdout",
     "output_type": "stream",
     "text": [
      "DynamicallyExtendedUnicycle{Float64}"
     ]
    },
    {
     "name": "stderr",
     "output_type": "stream",
     "text": [
      "\u001b[1A\r72.5%┣█████████████████████████████████▍            ┫ 29/40 [02:42<01:04, 6s/it]\n"
     ]
    },
    {
     "name": "stdout",
     "output_type": "stream",
     "text": [
      "DynamicallyExtendedUnicycle{Float64}"
     ]
    },
    {
     "name": "stderr",
     "output_type": "stream",
     "text": [
      "\u001b[1A\r75.0%┣██████████████████████████████████▌           ┫ 30/40 [02:48<00:58, 6s/it]\n"
     ]
    },
    {
     "name": "stdout",
     "output_type": "stream",
     "text": [
      "DynamicallyExtendedUnicycle{Float64}"
     ]
    },
    {
     "name": "stderr",
     "output_type": "stream",
     "text": [
      "\u001b[1A\r77.5%┣███████████████████████████████████▋          ┫ 31/40 [02:54<00:52, 6s/it]\n"
     ]
    },
    {
     "name": "stdout",
     "output_type": "stream",
     "text": [
      "DynamicallyExtendedUnicycle{Float64}"
     ]
    },
    {
     "name": "stderr",
     "output_type": "stream",
     "text": [
      "\u001b[1A\r80.0%┣████████████████████████████████████▉         ┫ 32/40 [03:00<00:47, 6s/it]\n"
     ]
    },
    {
     "name": "stdout",
     "output_type": "stream",
     "text": [
      "DynamicallyExtendedUnicycle{Float64}"
     ]
    },
    {
     "name": "stderr",
     "output_type": "stream",
     "text": [
      "\u001b[1A\r82.5%┣██████████████████████████████████████        ┫ 33/40 [03:06<00:41, 6s/it]\n"
     ]
    },
    {
     "name": "stdout",
     "output_type": "stream",
     "text": [
      "DynamicallyExtendedUnicycle{Float64}"
     ]
    },
    {
     "name": "stderr",
     "output_type": "stream",
     "text": [
      "\u001b[1A\r85.0%┣███████████████████████████████████████       ┫ 34/40 [03:12<00:35, 6s/it]\n"
     ]
    },
    {
     "name": "stdout",
     "output_type": "stream",
     "text": [
      "DynamicallyExtendedUnicycle{Float64}"
     ]
    },
    {
     "name": "stderr",
     "output_type": "stream",
     "text": [
      "\u001b[1A\r87.5%┣████████████████████████████████████████▎     ┫ 35/40 [03:18<00:29, 6s/it]\n"
     ]
    },
    {
     "name": "stdout",
     "output_type": "stream",
     "text": [
      "DynamicallyExtendedUnicycle{Float64}"
     ]
    },
    {
     "name": "stderr",
     "output_type": "stream",
     "text": [
      "\u001b[1A\r90.0%┣█████████████████████████████████████████▍    ┫ 36/40 [03:24<00:23, 6s/it]\n"
     ]
    },
    {
     "name": "stdout",
     "output_type": "stream",
     "text": [
      "DynamicallyExtendedUnicycle{Float64}"
     ]
    },
    {
     "name": "stderr",
     "output_type": "stream",
     "text": [
      "\u001b[1A\r92.5%┣██████████████████████████████████████████▌   ┫ 37/40 [03:29<00:17, 6s/it]\n"
     ]
    },
    {
     "name": "stdout",
     "output_type": "stream",
     "text": [
      "DynamicallyExtendedUnicycle{Float64}"
     ]
    },
    {
     "name": "stderr",
     "output_type": "stream",
     "text": [
      "\u001b[1A\r95.0%┣███████████████████████████████████████████▊  ┫ 38/40 [03:35<00:12, 6s/it]\n"
     ]
    },
    {
     "name": "stdout",
     "output_type": "stream",
     "text": [
      "DynamicallyExtendedUnicycle{Float64}"
     ]
    },
    {
     "name": "stderr",
     "output_type": "stream",
     "text": [
      "\u001b[1A\r97.5%┣████████████████████████████████████████████▉ ┫ 39/40 [03:41<00:06, 6s/it]\n"
     ]
    },
    {
     "name": "stderr",
     "output_type": "stream",
     "text": [
      "\u001b[1A\r100.0%┣█████████████████████████████████████████████┫ 40/40 [03:47<00:00, 6s/it]\n",
      "\u001b[1A\r100.0%┣█████████████████████████████████████████████┫ 40/40 [03:47<00:00, 6s/it]\n"
     ]
    },
    {
     "data": {
      "text/plain": [
       "Dict{String, SimData} with 40 entries:\n",
       "  \"Run 17\" => SimData(IPSimParams(PlannerParams(PlannerHyperparameters{Float64}…\n",
       "  \"Run 21\" => SimData(IPSimParams(PlannerParams(PlannerHyperparameters{Float64}…\n",
       "  \"Run 20\" => SimData(IPSimParams(PlannerParams(PlannerHyperparameters{Float64}…\n",
       "  \"Run 4\"  => SimData(IPSimParams(PlannerParams(PlannerHyperparameters{Float64}…\n",
       "  \"Run 35\" => SimData(IPSimParams(PlannerParams(PlannerHyperparameters{Float64}…\n",
       "  \"Run 39\" => SimData(IPSimParams(PlannerParams(PlannerHyperparameters{Float64}…\n",
       "  \"Run 10\" => SimData(IPSimParams(PlannerParams(PlannerHyperparameters{Float64}…\n",
       "  \"Run 22\" => SimData(IPSimParams(PlannerParams(PlannerHyperparameters{Float64}…\n",
       "  \"Run 32\" => SimData(IPSimParams(PlannerParams(PlannerHyperparameters{Float64}…\n",
       "  \"Run 40\" => SimData(IPSimParams(PlannerParams(PlannerHyperparameters{Float64}…\n",
       "  \"Run 25\" => SimData(IPSimParams(PlannerParams(PlannerHyperparameters{Float64}…\n",
       "  \"Run 1\"  => SimData(IPSimParams(PlannerParams(PlannerHyperparameters{Float64}…\n",
       "  \"Run 11\" => SimData(IPSimParams(PlannerParams(PlannerHyperparameters{Float64}…\n",
       "  \"Run 6\"  => SimData(IPSimParams(PlannerParams(PlannerHyperparameters{Float64}…\n",
       "  \"Run 15\" => SimData(IPSimParams(PlannerParams(PlannerHyperparameters{Float64}…\n",
       "  \"Run 36\" => SimData(IPSimParams(PlannerParams(PlannerHyperparameters{Float64}…\n",
       "  \"Run 12\" => SimData(IPSimParams(PlannerParams(PlannerHyperparameters{Float64}…\n",
       "  \"Run 2\"  => SimData(IPSimParams(PlannerParams(PlannerHyperparameters{Float64}…\n",
       "  \"Run 37\" => SimData(IPSimParams(PlannerParams(PlannerHyperparameters{Float64}…\n",
       "  ⋮        => ⋮"
      ]
     },
     "metadata": {},
     "output_type": "display_data"
    }
   ],
   "source": [
    "sfm_sweep_test = simulation_sweep(robot, human_ip, 50, circular_states, [([10.; 0.; pi; 0.], [0.; 0.; pi; 0.])])"
   ]
  },
  {
   "cell_type": "code",
   "execution_count": 61,
   "metadata": {},
   "outputs": [
    {
     "data": {
      "text/plain": [
       "display_data (generic function with 1 method)"
      ]
     },
     "metadata": {},
     "output_type": "display_data"
    }
   ],
   "source": [
    "include(\"experiments.jl\")"
   ]
  },
  {
   "cell_type": "code",
   "execution_count": 62,
   "metadata": {},
   "outputs": [
    {
     "name": "stderr",
     "output_type": "stream",
     "text": [
      "\r0.0%┣                                               ┫ 0/40 [00:00<00:00, -0s/it]\n"
     ]
    },
    {
     "name": "stdout",
     "output_type": "stream",
     "text": [
      "5151"
     ]
    },
    {
     "name": "stderr",
     "output_type": "stream",
     "text": [
      "\u001b[1A\r2.5%┣█                                          ┫ 1/40 [00:08<Inf:Inf, InfGs/it]\n"
     ]
    },
    {
     "name": "stdout",
     "output_type": "stream",
     "text": [
      "5151"
     ]
    },
    {
     "name": "stderr",
     "output_type": "stream",
     "text": [
      "\u001b[1A\r5.0%┣██▍                                            ┫ 2/40 [00:13<08:19, 13s/it]\n"
     ]
    },
    {
     "name": "stdout",
     "output_type": "stream",
     "text": [
      "5151"
     ]
    },
    {
     "name": "stderr",
     "output_type": "stream",
     "text": [
      "\u001b[1A\r7.5%┣███▋                                            ┫ 3/40 [00:19<05:45, 9s/it]\n"
     ]
    },
    {
     "name": "stdout",
     "output_type": "stream",
     "text": [
      "5151"
     ]
    },
    {
     "name": "stderr",
     "output_type": "stream",
     "text": [
      "\u001b[1A\r10.0%┣████▊                                          ┫ 4/40 [00:24<04:50, 8s/it]\n"
     ]
    },
    {
     "name": "stdout",
     "output_type": "stream",
     "text": [
      "5151"
     ]
    },
    {
     "name": "stderr",
     "output_type": "stream",
     "text": [
      "\u001b[1A\r12.5%┣█████▉                                         ┫ 5/40 [00:30<04:19, 7s/it]\n"
     ]
    },
    {
     "name": "stdout",
     "output_type": "stream",
     "text": [
      "5151"
     ]
    },
    {
     "name": "stderr",
     "output_type": "stream",
     "text": [
      "\u001b[1A\r15.0%┣███████                                        ┫ 6/40 [00:35<03:58, 7s/it]\n"
     ]
    },
    {
     "name": "stdout",
     "output_type": "stream",
     "text": [
      "5151"
     ]
    },
    {
     "name": "stderr",
     "output_type": "stream",
     "text": [
      "\u001b[1A\r17.5%┣████████▎                                      ┫ 7/40 [00:40<03:43, 7s/it]\n"
     ]
    },
    {
     "name": "stdout",
     "output_type": "stream",
     "text": [
      "5151"
     ]
    },
    {
     "name": "stderr",
     "output_type": "stream",
     "text": [
      "\u001b[1A\r20.0%┣█████████▍                                     ┫ 8/40 [00:46<03:31, 7s/it]\n"
     ]
    },
    {
     "name": "stdout",
     "output_type": "stream",
     "text": [
      "5151"
     ]
    },
    {
     "name": "stderr",
     "output_type": "stream",
     "text": [
      "\u001b[1A\r22.5%┣██████████▋                                    ┫ 9/40 [00:52<03:20, 6s/it]\n"
     ]
    },
    {
     "name": "stdout",
     "output_type": "stream",
     "text": [
      "5151"
     ]
    },
    {
     "name": "stderr",
     "output_type": "stream",
     "text": [
      "\u001b[1A\r25.0%┣███████████▌                                  ┫ 10/40 [00:57<03:11, 6s/it]\n"
     ]
    },
    {
     "name": "stdout",
     "output_type": "stream",
     "text": [
      "5151"
     ]
    },
    {
     "name": "stderr",
     "output_type": "stream",
     "text": [
      "\u001b[1A\r27.5%┣████████████▋                                 ┫ 11/40 [01:03<03:02, 6s/it]\n"
     ]
    },
    {
     "name": "stdout",
     "output_type": "stream",
     "text": [
      "5151"
     ]
    },
    {
     "name": "stderr",
     "output_type": "stream",
     "text": [
      "\u001b[1A\r30.0%┣█████████████▉                                ┫ 12/40 [01:08<02:54, 6s/it]\n"
     ]
    },
    {
     "name": "stdout",
     "output_type": "stream",
     "text": [
      "5151"
     ]
    },
    {
     "name": "stderr",
     "output_type": "stream",
     "text": [
      "\u001b[1A\r32.5%┣███████████████                               ┫ 13/40 [01:14<02:46, 6s/it]\n"
     ]
    },
    {
     "name": "stdout",
     "output_type": "stream",
     "text": [
      "5151"
     ]
    },
    {
     "name": "stderr",
     "output_type": "stream",
     "text": [
      "\u001b[1A\r35.0%┣████████████████                              ┫ 14/40 [01:19<02:39, 6s/it]\n"
     ]
    },
    {
     "name": "stdout",
     "output_type": "stream",
     "text": [
      "5151"
     ]
    },
    {
     "name": "stderr",
     "output_type": "stream",
     "text": [
      "\u001b[1A\r37.5%┣█████████████████▎                            ┫ 15/40 [01:25<02:32, 6s/it]\n"
     ]
    },
    {
     "name": "stdout",
     "output_type": "stream",
     "text": [
      "5151"
     ]
    },
    {
     "name": "stderr",
     "output_type": "stream",
     "text": [
      "\u001b[1A\r40.0%┣██████████████████▍                           ┫ 16/40 [01:30<02:25, 6s/it]\n"
     ]
    },
    {
     "name": "stdout",
     "output_type": "stream",
     "text": [
      "5151"
     ]
    },
    {
     "name": "stderr",
     "output_type": "stream",
     "text": [
      "\u001b[1A\r42.5%┣███████████████████▌                          ┫ 17/40 [01:36<02:18, 6s/it]\n"
     ]
    },
    {
     "name": "stdout",
     "output_type": "stream",
     "text": [
      "5151"
     ]
    },
    {
     "name": "stderr",
     "output_type": "stream",
     "text": [
      "\u001b[1A\r45.0%┣████████████████████▊                         ┫ 18/40 [01:41<02:11, 6s/it]\n"
     ]
    },
    {
     "name": "stdout",
     "output_type": "stream",
     "text": [
      "5151"
     ]
    },
    {
     "name": "stderr",
     "output_type": "stream",
     "text": [
      "\u001b[1A\r47.5%┣█████████████████████▉                        ┫ 19/40 [01:47<02:05, 6s/it]\n"
     ]
    },
    {
     "name": "stdout",
     "output_type": "stream",
     "text": [
      "5151"
     ]
    },
    {
     "name": "stderr",
     "output_type": "stream",
     "text": [
      "\u001b[1A\r50.0%┣███████████████████████                       ┫ 20/40 [01:52<01:58, 6s/it]\n"
     ]
    },
    {
     "name": "stdout",
     "output_type": "stream",
     "text": [
      "5151"
     ]
    },
    {
     "name": "stderr",
     "output_type": "stream",
     "text": [
      "\u001b[1A\r52.5%┣████████████████████████▏                     ┫ 21/40 [01:58<01:52, 6s/it]\n"
     ]
    },
    {
     "name": "stdout",
     "output_type": "stream",
     "text": [
      "5151"
     ]
    },
    {
     "name": "stderr",
     "output_type": "stream",
     "text": [
      "\u001b[1A\r55.0%┣█████████████████████████▎                    ┫ 22/40 [02:03<01:46, 6s/it]\n"
     ]
    },
    {
     "name": "stdout",
     "output_type": "stream",
     "text": [
      "5151"
     ]
    },
    {
     "name": "stderr",
     "output_type": "stream",
     "text": [
      "\u001b[1A\r57.5%┣██████████████████████████▌                   ┫ 23/40 [02:09<01:39, 6s/it]\n"
     ]
    },
    {
     "name": "stdout",
     "output_type": "stream",
     "text": [
      "5151"
     ]
    },
    {
     "name": "stderr",
     "output_type": "stream",
     "text": [
      "\u001b[1A\r60.0%┣███████████████████████████▋                  ┫ 24/40 [02:14<01:33, 6s/it]\n"
     ]
    },
    {
     "name": "stdout",
     "output_type": "stream",
     "text": [
      "5151"
     ]
    },
    {
     "name": "stderr",
     "output_type": "stream",
     "text": [
      "\u001b[1A\r62.5%┣████████████████████████████▊                 ┫ 25/40 [02:19<01:27, 6s/it]\n"
     ]
    },
    {
     "name": "stdout",
     "output_type": "stream",
     "text": [
      "5151"
     ]
    },
    {
     "name": "stderr",
     "output_type": "stream",
     "text": [
      "\u001b[1A\r65.0%┣██████████████████████████████                ┫ 26/40 [02:25<01:21, 6s/it]\n"
     ]
    },
    {
     "name": "stdout",
     "output_type": "stream",
     "text": [
      "5151"
     ]
    },
    {
     "name": "stderr",
     "output_type": "stream",
     "text": [
      "\u001b[1A\r67.5%┣███████████████████████████████               ┫ 27/40 [02:31<01:15, 6s/it]\n"
     ]
    },
    {
     "name": "stdout",
     "output_type": "stream",
     "text": [
      "5151"
     ]
    },
    {
     "name": "stderr",
     "output_type": "stream",
     "text": [
      "\u001b[1A\r70.0%┣████████████████████████████████▏             ┫ 28/40 [02:36<01:09, 6s/it]\n"
     ]
    },
    {
     "name": "stdout",
     "output_type": "stream",
     "text": [
      "5151"
     ]
    },
    {
     "name": "stderr",
     "output_type": "stream",
     "text": [
      "\u001b[1A\r72.5%┣█████████████████████████████████▍            ┫ 29/40 [02:42<01:03, 6s/it]\n"
     ]
    },
    {
     "name": "stdout",
     "output_type": "stream",
     "text": [
      "5151"
     ]
    },
    {
     "name": "stderr",
     "output_type": "stream",
     "text": [
      "\u001b[1A\r75.0%┣██████████████████████████████████▌           ┫ 30/40 [02:47<00:58, 6s/it]\n"
     ]
    },
    {
     "name": "stdout",
     "output_type": "stream",
     "text": [
      "5151"
     ]
    },
    {
     "name": "stderr",
     "output_type": "stream",
     "text": [
      "\u001b[1A\r77.5%┣███████████████████████████████████▋          ┫ 31/40 [02:53<00:52, 6s/it]\n"
     ]
    },
    {
     "name": "stdout",
     "output_type": "stream",
     "text": [
      "5151"
     ]
    },
    {
     "name": "stderr",
     "output_type": "stream",
     "text": [
      "\u001b[1A\r80.0%┣████████████████████████████████████▉         ┫ 32/40 [02:58<00:46, 6s/it]\n"
     ]
    },
    {
     "name": "stdout",
     "output_type": "stream",
     "text": [
      "5151"
     ]
    },
    {
     "name": "stderr",
     "output_type": "stream",
     "text": [
      "\u001b[1A\r82.5%┣██████████████████████████████████████        ┫ 33/40 [03:04<00:40, 6s/it]\n"
     ]
    },
    {
     "name": "stdout",
     "output_type": "stream",
     "text": [
      "5151"
     ]
    },
    {
     "name": "stderr",
     "output_type": "stream",
     "text": [
      "\u001b[1A\r85.0%┣███████████████████████████████████████       ┫ 34/40 [03:10<00:34, 6s/it]\n"
     ]
    },
    {
     "name": "stdout",
     "output_type": "stream",
     "text": [
      "5151"
     ]
    },
    {
     "name": "stderr",
     "output_type": "stream",
     "text": [
      "\u001b[1A\r87.5%┣████████████████████████████████████████▎     ┫ 35/40 [03:15<00:29, 6s/it]\n"
     ]
    },
    {
     "name": "stdout",
     "output_type": "stream",
     "text": [
      "5151"
     ]
    },
    {
     "name": "stderr",
     "output_type": "stream",
     "text": [
      "\u001b[1A\r90.0%┣█████████████████████████████████████████▍    ┫ 36/40 [03:21<00:23, 6s/it]\n"
     ]
    },
    {
     "name": "stdout",
     "output_type": "stream",
     "text": [
      "5151"
     ]
    },
    {
     "name": "stderr",
     "output_type": "stream",
     "text": [
      "\u001b[1A\r92.5%┣██████████████████████████████████████████▌   ┫ 37/40 [03:26<00:17, 6s/it]\n"
     ]
    },
    {
     "name": "stdout",
     "output_type": "stream",
     "text": [
      "5151"
     ]
    },
    {
     "name": "stderr",
     "output_type": "stream",
     "text": [
      "\u001b[1A\r95.0%┣███████████████████████████████████████████▊  ┫ 38/40 [03:32<00:11, 6s/it]\n"
     ]
    },
    {
     "name": "stdout",
     "output_type": "stream",
     "text": [
      "5151"
     ]
    },
    {
     "name": "stderr",
     "output_type": "stream",
     "text": [
      "\u001b[1A\r97.5%┣████████████████████████████████████████████▉ ┫ 39/40 [03:37<00:06, 6s/it]\n"
     ]
    },
    {
     "name": "stdout",
     "output_type": "stream",
     "text": [
      "5151"
     ]
    },
    {
     "name": "stderr",
     "output_type": "stream",
     "text": [
      "\u001b[1A\r100.0%┣█████████████████████████████████████████████┫ 40/40 [03:43<00:00, 6s/it]\n",
      "\u001b[1A\r100.0%┣█████████████████████████████████████████████┫ 40/40 [03:43<00:00, 6s/it]\n"
     ]
    },
    {
     "data": {
      "text/plain": [
       "Dict{String, SimMetrics} with 40 entries:\n",
       "  \"Run 17\" => SimMetrics(Dict(\"Ego Avg Control Effort\"=>0.350665, \"Other Avg Co…\n",
       "  \"Run 21\" => SimMetrics(Dict(\"Ego Avg Control Effort\"=>0.470016, \"Other Avg Co…\n",
       "  \"Run 20\" => SimMetrics(Dict(\"Ego Avg Control Effort\"=>0.506507, \"Other Avg Co…\n",
       "  \"Run 4\"  => SimMetrics(Dict(\"Ego Avg Control Effort\"=>0.382971, \"Other Avg Co…\n",
       "  \"Run 35\" => SimMetrics(Dict(\"Ego Avg Control Effort\"=>0.38123, \"Other Avg Con…\n",
       "  \"Run 39\" => SimMetrics(Dict(\"Ego Avg Control Effort\"=>0.382181, \"Other Avg Co…\n",
       "  \"Run 10\" => SimMetrics(Dict(\"Ego Avg Control Effort\"=>0.36731, \"Other Avg Con…\n",
       "  \"Run 22\" => SimMetrics(Dict(\"Ego Avg Control Effort\"=>0.406366, \"Other Avg Co…\n",
       "  \"Run 32\" => SimMetrics(Dict(\"Ego Avg Control Effort\"=>0.371574, \"Other Avg Co…\n",
       "  \"Run 40\" => SimMetrics(Dict(\"Ego Avg Control Effort\"=>0.382776, \"Other Avg Co…\n",
       "  \"Run 25\" => SimMetrics(Dict(\"Ego Avg Control Effort\"=>0.347975, \"Other Avg Co…\n",
       "  \"Run 1\"  => SimMetrics(Dict(\"Ego Avg Control Effort\"=>0.383445, \"Other Avg Co…\n",
       "  \"Run 11\" => SimMetrics(Dict(\"Ego Avg Control Effort\"=>0.36506, \"Other Avg Con…\n",
       "  \"Run 6\"  => SimMetrics(Dict(\"Ego Avg Control Effort\"=>0.385787, \"Other Avg Co…\n",
       "  \"Run 15\" => SimMetrics(Dict(\"Ego Avg Control Effort\"=>0.34624, \"Other Avg Con…\n",
       "  \"Run 36\" => SimMetrics(Dict(\"Ego Avg Control Effort\"=>0.380299, \"Other Avg Co…\n",
       "  \"Run 12\" => SimMetrics(Dict(\"Ego Avg Control Effort\"=>0.358431, \"Other Avg Co…\n",
       "  \"Run 2\"  => SimMetrics(Dict(\"Ego Avg Control Effort\"=>0.386952, \"Other Avg Co…\n",
       "  \"Run 37\" => SimMetrics(Dict(\"Ego Avg Control Effort\"=>0.38203, \"Other Avg Con…\n",
       "  ⋮        => ⋮"
      ]
     },
     "metadata": {},
     "output_type": "display_data"
    }
   ],
   "source": [
    "metrics = evaluate_sim(sfm_sweep_test)"
   ]
  },
  {
   "cell_type": "code",
   "execution_count": 63,
   "metadata": {},
   "outputs": [
    {
     "data": {
      "text/plain": [
       "GtkLabelLeaf(name=\"\", parent, width-request=-1, height-request=-1, visible=TRUE, sensitive=TRUE, app-paintable=FALSE, can-focus=FALSE, has-focus=FALSE, is-focus=FALSE, focus-on-click=TRUE, can-default=FALSE, has-default=FALSE, receives-default=FALSE, composite-child=FALSE, style, events=0, no-show-all=FALSE, has-tooltip=FALSE, tooltip-markup=NULL, tooltip-text=NULL, window, opacity=1.000000, double-buffered, halign=GTK_ALIGN_FILL, valign=GTK_ALIGN_FILL, margin-left, margin-right, margin-start=0, margin-end=0, margin-top=0, margin-bottom=100, margin=100, hexpand=FALSE, vexpand=FALSE, hexpand-set=FALSE, vexpand-set=TRUE, expand=FALSE, scale-factor=1, xpad, ypad, label=\"<b><u>Sim 40 Metrics</u></b>\n",
       "<b> </b> \n",
       "<b>Ego Average Acceleration = </b>0.3369\n",
       "<b>Other Average Acceleration = </b>0.3\n",
       "<b>-</b><b>-</b><b>-</b><b>-</b><b>-</b><b>-</b><b>-</b><b>-</b><b>-</b><b>-</b><b>-</b><b>-</b><b>-</b><b>-</b><b>-</b><b>-</b><b>-</b><b>-</b><b>-</b><b>-</b><b>-</b><b>-</b><b>-</b><b>-</b><b>-</b><b>-</b><b>-</b><b>-</b><b>-</b><b>-</b><b>-</b><b>-</b><b>-</b><b>-</b><b>-</b><b>-</b><b>-</b><b>-</b><b>-</b><b>-</b><b>-</b><b>-</b><b>-</b><b>-</b><b>-</b><b>-</b><b>-</b><b>-</b><b>-</b><b>-</b><b>-</b><b>-</b><b>-</b><b>-</b><b>-</b><b>-</b><b>-</b><b>-</b>\n",
       "<b>Ego PI = </b>0.2676\n",
       "<b>Other PI = </b>13.88\n",
       "<b>-</b><b>-</b><b>-</b><b>-</b><b>-</b><b>-</b><b>-</b><b>-</b><b>-</b><b>-</b><b>-</b><b>-</b><b>-</b><b>-</b><b>-</b><b>-</b><b>-</b><b>-</b><b>-</b><b>-</b><b>-</b><b>-</b><b>-</b><b>-</b><b>-</b><b>-</b><b>-</b><b>-</b><b>-</b><b>-</b><b>-</b><b>-</b><b>-</b><b>-</b><b>-</b><b>-</b><b>-</b><b>-</b><b>-</b><b>-</b><b>-</b><b>-</b><b>-</b><b>-</b><b>-</b><b>-</b><b>-</b><b>-</b><b>-</b><b>-</b><b>-</b><b>-</b><b>-</b><b>-</b><b>-</b><b>-</b><b>-</b><b>-</b>\n",
       "<b>Ego PE = </b>1.046\n",
       "<b>Other PE = </b>1.175\n",
       "<b>-</b><b>-</b><b>-</b><b>-</b><b>-</b><b>-</b><b>-</b><b>-</b><b>-</b><b>-</b><b>-</b><b>-</b><b>-</b><b>-</b><b>-</b><b>-</b><b>-</b><b>-</b><b>-</b><b>-</b><b>-</b><b>-</b><b>-</b><b>-</b><b>-</b><b>-</b><b>-</b><b>-</b><b>-</b><b>-</b><b>-</b><b>-</b><b>-</b><b>-</b><b>-</b><b>-</b><b>-</b><b>-</b><b>-</b><b>-</b><b>-</b><b>-</b><b>-</b><b>-</b><b>-</b><b>-</b><b>-</b><b>-</b><b>-</b><b>-</b><b>-</b><b>-</b><b>-</b><b>-</b><b>-</b><b>-</b><b>-</b><b>-</b>\n",
       "<b>Minimum Distance = </b>1.1\n",
       "<b>-</b><b>-</b><b>-</b><b>-</b><b>-</b><b>-</b><b>-</b><b>-</b><b>-</b><b>-</b><b>-</b><b>-</b><b>-</b><b>-</b><b>-</b><b>-</b><b>-</b><b>-</b><b>-</b><b>-</b><b>-</b><b>-</b><b>-</b><b>-</b><b>-</b><b>-</b><b>-</b><b>-</b><b>-</b><b>-</b><b>-</b><b>-</b><b>-</b><b>-</b><b>-</b><b>-</b><b>-</b><b>-</b><b>-</b><b>-</b><b>-</b><b>-</b><b>-</b><b>-</b><b>-</b><b>-</b><b>-</b><b>-</b><b>-</b><b>-</b><b>-</b><b>-</b><b>-</b><b>-</b><b>-</b><b>-</b><b>-</b><b>-</b>\n",
       "<b>Max Solve Time: </b>0.0 s\n",
       "<b>Average Solve Time: </b>0.0 s\n",
       "<b>Planning Deadline Overruns: </b>0\", attributes, use-markup=TRUE, use-underline=FALSE, justify=GTK_JUSTIFY_LEFT, pattern, wrap=FALSE, wrap-mode=PANGO_WRAP_WORD, selectable=FALSE, mnemonic-keyval=16777215, mnemonic-widget, cursor-position=0, selection-bound=0, ellipsize=PANGO_ELLIPSIZE_NONE, width-chars=-1, single-line-mode=FALSE, angle=0.000000, max-width-chars=-1, track-visited-links=TRUE, lines=-1, xalign=0.500000, yalign=0.500000)"
      ]
     },
     "metadata": {},
     "output_type": "display_data"
    }
   ],
   "source": [
    "display_data(metrics)"
   ]
  },
  {
   "cell_type": "code",
   "execution_count": 53,
   "metadata": {},
   "outputs": [
    {
     "data": {
      "text/plain": [
       "true"
      ]
     },
     "metadata": {},
     "output_type": "display_data"
    }
   ],
   "source": [
    "1.0000000000000002 > 1"
   ]
  },
  {
   "cell_type": "code",
   "execution_count": null,
   "metadata": {},
   "outputs": [],
   "source": []
  }
 ],
 "metadata": {
  "kernelspec": {
   "display_name": "Julia 1.9.3",
   "language": "julia",
   "name": "julia-1.9"
  },
  "language_info": {
   "file_extension": ".jl",
   "mimetype": "application/julia",
   "name": "julia",
   "version": "1.9.3"
  },
  "orig_nbformat": 4
 },
 "nbformat": 4,
 "nbformat_minor": 2
}
